{
  "nbformat": 4,
  "nbformat_minor": 5,
  "metadata": {
    "colab": {
      "name": "1-explore-hw.ipynb",
      "provenance": [],
      "include_colab_link": true
    }
  },
  "cells": [
    {
      "cell_type": "markdown",
      "metadata": {
        "id": "view-in-github",
        "colab_type": "text"
      },
      "source": [
        "<a href=\"https://colab.research.google.com/github/yh0010/NYU_Summer_Tandon_Scholar_Intro2ML/blob/main/notebooks/1-explore-hw.ipynb\" target=\"_parent\"><img src=\"https://colab.research.google.com/assets/colab-badge.svg\" alt=\"Open In Colab\"/></a>"
      ]
    },
    {
      "cell_type": "markdown",
      "metadata": {
        "id": "Bze8rzOEDt2c"
      },
      "source": [
        "Assignment: Exploratory data analysis\n",
        "=====================================\n",
        "\n",
        "**TODO**: Edit this cell to fill in your NYU Net ID and your name:\n",
        "\n",
        "-   **Net ID**:\n",
        "-   **Name**:"
      ],
      "id": "Bze8rzOEDt2c"
    },
    {
      "cell_type": "markdown",
      "metadata": {
        "id": "wmHQC1rZDt2f"
      },
      "source": [
        "Introduction\n",
        "------------\n",
        "\n",
        "In this assignment, we will practice using exploratory data analysis on\n",
        "Google’s COVID-19 Community Mobility data.\n",
        "\n",
        "This data was collected from Google Maps users around the world over the\n",
        "last few months - including you, *if* you have Google Maps on your phone\n",
        "and have turned on the Location History setting. It combines location\n",
        "history from a large number of users to capture the overall increase or\n",
        "decrease in time spent in places such as: retail and recreation\n",
        "facilities, groceries and pharmacies, parks, transit stations,\n",
        "workplaces, and residences.\n",
        "\n",
        "The data shows how users’ mobility patterns - what types of places they\n",
        "spend time in - varied over the course of the COVID-19 pandemic.\n",
        "\n",
        "As you work through this notebook, you will see that some text and code\n",
        "cells are marked with a “TODO” at the top. You’ll have to edit these\n",
        "cells to fill in the code or answer the questions as indicated.\n",
        "\n",
        "When you are finished, make sure you have run all of the cells in the\n",
        "notebook (in order), and then create a PDF from it. Submit the PDF on\n",
        "Gradescope.\n",
        "\n",
        "**Important note**: You won’t necessarily have learned or seen in\n",
        "advance how to use all the Python commands and library functions you\n",
        "need to complete this assignment. That’s OK. Part of the learning\n",
        "objective here is to practice finding and applying that kind of new\n",
        "information as you go! Use the library documentation, search the\n",
        "Internet, or ask questions on Ed if you need any help."
      ],
      "id": "wmHQC1rZDt2f"
    },
    {
      "cell_type": "markdown",
      "metadata": {
        "id": "9uxarLheDt2g"
      },
      "source": [
        "Learn about the data\n",
        "--------------------\n",
        "\n",
        "First, it is worthwhile to learn more about the data: how it is\n",
        "collected, what is included, how Google gets consent to collect this\n",
        "data, and how user privacy is protected. Google provides several\n",
        "resources for learning about the data:\n",
        "\n",
        "-   [Blog\n",
        "    post](https://www.blog.google/technology/health/covid-19-community-mobility-reports?hl=en)\n",
        "-   [About this\n",
        "    data](https://www.google.com/covid19/mobility/data_documentation.html?hl=en#about-this-data)\n",
        "-   [Understand the\n",
        "    data](https://support.google.com/covid19-mobility/answer/9825414?hl=en&ref_topic=9822927)"
      ],
      "id": "9uxarLheDt2g"
    },
    {
      "cell_type": "markdown",
      "metadata": {
        "id": "Cg4hqdsHDt2h"
      },
      "source": [
        "Read in data\n",
        "------------\n",
        "\n",
        "Now you are ready to read the data into your notebook.\n",
        "\n",
        "Visit Google’s web page for the [COVID-19 Community\n",
        "Mobility](https://www.google.com/covid19/mobility/) project to get the\n",
        "URL for the data.\n",
        "\n",
        "(Specific instructions will depend on your browser and operating system,\n",
        "but on my laptop, I can get the URL by right-clicking on the button that\n",
        "says “Download global CSV” and choosing “Copy Link Address”.)\n",
        "\n",
        "Then, in the following cells, use that URL to read the data into a\n",
        "pandas Data Frame called `df`. (You can follow the example in the\n",
        "“Exploratory data analysis” notebook from this week’s lesson.)"
      ],
      "id": "Cg4hqdsHDt2h"
    },
    {
      "cell_type": "code",
      "metadata": {
        "id": "BkVfsLSdDt2i"
      },
      "source": [
        "import pandas as pd\n",
        "import seaborn as sns\n",
        "import matplotlib.pyplot as plt"
      ],
      "id": "BkVfsLSdDt2i",
      "execution_count": null,
      "outputs": []
    },
    {
      "cell_type": "code",
      "metadata": {
        "id": "lvYK_TGODt2j"
      },
      "source": [
        "# TODO Q1\n",
        "# url = ...\n",
        "# df = ..."
      ],
      "id": "lvYK_TGODt2j",
      "execution_count": null,
      "outputs": []
    },
    {
      "cell_type": "markdown",
      "metadata": {
        "id": "IOCyPe7dDt2k"
      },
      "source": [
        "Use the `info()` and `head()` functions to show some basic information\n",
        "about the data and to look at the first few samples."
      ],
      "id": "IOCyPe7dDt2k"
    },
    {
      "cell_type": "code",
      "metadata": {
        "id": "ZP3Li8EADt2l"
      },
      "source": [
        "# TODO Q2\n",
        "# use info()"
      ],
      "id": "ZP3Li8EADt2l",
      "execution_count": null,
      "outputs": []
    },
    {
      "cell_type": "code",
      "metadata": {
        "id": "sPINRz3ADt2m"
      },
      "source": [
        "# TODO Q3\n",
        "# use head()"
      ],
      "id": "sPINRz3ADt2m",
      "execution_count": null,
      "outputs": []
    },
    {
      "cell_type": "markdown",
      "metadata": {
        "id": "yP5mkbVfDt2m"
      },
      "source": [
        "Basic data manipulations\n",
        "------------------------"
      ],
      "id": "yP5mkbVfDt2m"
    },
    {
      "cell_type": "markdown",
      "metadata": {
        "id": "sY0a8uMMDt2n"
      },
      "source": [
        "The data includes a date field, but it may have been read in as a\n",
        "string, rather than as a `datetime`. If that’s the case, use\n",
        "`to_datetime()` to convert the field into a datetime format. (You can\n",
        "follow the example in the “Exploratory data analysis” notebook from this\n",
        "week’s lesson.)\n",
        "\n",
        "Then, use `info()` again to make sure your change was applied. Note the\n",
        "difference in the output, relative to the cell above."
      ],
      "id": "sY0a8uMMDt2n"
    },
    {
      "cell_type": "code",
      "metadata": {
        "id": "JL3sQXuRDt2n"
      },
      "source": [
        "# TODO Q4\n",
        "# df['date'] = ...\n"
      ],
      "id": "JL3sQXuRDt2n",
      "execution_count": null,
      "outputs": []
    },
    {
      "cell_type": "markdown",
      "metadata": {
        "id": "_gy-YBp6Dt2o"
      },
      "source": [
        "Next, you are going to extract the subset of data for the U.S. state of\n",
        "your choice. You can choose any location *except* New York.\n",
        "\n",
        "The data is reported for different regions, with different levels of\n",
        "granularity available. This is best explained by example:\n",
        "\n",
        "Suppose I want the overall trend from the entire U.S. I would use the\n",
        "subset of data where `country_region` is equal to “United States” and\n",
        "`sub_region_1` is null:\n",
        "\n",
        "    df_subset = df[(df['country_region'].eq(\"United States\")) & (df['sub_region_1'].isnull())]\n",
        "\n",
        "Suppose I want the overall trend from the entire state of New York: I\n",
        "would use the subset of data where `country_region` is equal to “United\n",
        "States”, `sub_region_1` is equal to “New York”, and `sub_region_2` is\n",
        "null:\n",
        "\n",
        "    df_subset = df[(df['country_region'].eq(\"United States\")) & (df['sub_region_1'].eq(\"New York\")) & (df['sub_region_2'].isnull())]\n",
        "\n",
        "Suppose I want the overall trend from Brooklyn, New York (Kings County):\n",
        "I would use the subset of data where `country_region` is equal to\n",
        "“United States”, `sub_region_1` is equal to “New York”, and\n",
        "`sub_region_2` is equal to “Kings County”:\n",
        "\n",
        "    df_subset = df[(df['country_region'].eq(\"United States\")) & (df['sub_region_1'].eq(\"New York\")) & (df['sub_region_2'].eq(\"Kings County\"))]\n",
        "\n",
        "In the following cell(s), fill in the code to create a data frame\n",
        "`df_subset` with data from a single U.S. state (but *not* New York)."
      ],
      "id": "_gy-YBp6Dt2o"
    },
    {
      "cell_type": "code",
      "metadata": {
        "id": "ZuYcxNxYDt2p"
      },
      "source": [
        "# TODO Q5\n",
        "# df_subset ="
      ],
      "id": "ZuYcxNxYDt2p",
      "execution_count": null,
      "outputs": []
    },
    {
      "cell_type": "markdown",
      "metadata": {
        "id": "5yHXQwGuDt2q"
      },
      "source": [
        "Is the data complete, or is some data not available for the location you\n",
        "have chosen? In the following cell, write code to check for missing data\n",
        "in the `...percent_change_from_baseline` fields.\n",
        "\n",
        "Also check whether there are any missing rows of data. What date range\n",
        "is represented in this data? Is every day within that range included in\n",
        "the data?"
      ],
      "id": "5yHXQwGuDt2q"
    },
    {
      "cell_type": "code",
      "metadata": {
        "id": "MdJUdsAkDt2r"
      },
      "source": [
        "# TODO Q6\n",
        "# df_subset"
      ],
      "id": "MdJUdsAkDt2r",
      "execution_count": null,
      "outputs": []
    },
    {
      "cell_type": "markdown",
      "metadata": {
        "id": "jeldJghaDt2r"
      },
      "source": [
        "**TODO** Q7: Edit this cell to answer the following question: Is the\n",
        "data complete, or is some relevant data missing? Why would some\n",
        "locations only have partial data available (missing some\n",
        "`...percent_change_from_baseline` fields for some dates)? (Even if, for\n",
        "the U.S. state you have chosen, the data is complete, explain why some\n",
        "data may be missing for other regions.)\n",
        "\n",
        "**Include a short quote from the material you read in the “Learn about\n",
        "the data” section to answer this question. Indicate that it is a quote\n",
        "using quotation marks or a block quote, and cite the source, including a\n",
        "URL.**"
      ],
      "id": "jeldJghaDt2r"
    },
    {
      "cell_type": "markdown",
      "metadata": {
        "id": "s_0YzL1zDt2r"
      },
      "source": [
        "To track trends in cases and vaccinations alongside mobility trends, we\n",
        "can also read in data from several other sources. For example,\n",
        "\n",
        "-   Our World in Data distributes data about COVID-19 vaccination status\n",
        "    over time for U.S. states in their [Github\n",
        "    repository](https://github.com/owid/covid-19-data).\n",
        "-   The New York Times distributes data about COVID-19 cumulative cases\n",
        "    over time for U.S. states in their [Github\n",
        "    repository](https://github.com/nytimes/covid-19-data).\n",
        "\n",
        "You can choose whether to look at vaccination trends or case trends for\n",
        "the U.S. state you have selected. Use one of the following cells to read\n",
        "in the data, convert the `date` field to a `datetime`, and get the\n",
        "subset of the data that applies to the specific U.S. state for which you\n",
        "are exploring mobility data.\n",
        "\n",
        "Then, use `pandas` functions to check your new data frame and look at\n",
        "the first few rows of data."
      ],
      "id": "s_0YzL1zDt2r"
    },
    {
      "cell_type": "code",
      "metadata": {
        "id": "__LW0ZrqDt2s"
      },
      "source": [
        "# TODO Q8 - Vaccinations option\n",
        "\n",
        "url_vax = 'https://github.com/owid/covid-19-data/raw/master/public/data/vaccinations/us_state_vaccinations.csv'\n",
        "# df_vax = ...\n",
        "# df_vax['date'] = ...\n",
        "# df_vax_subset = ...\n",
        "# check the data frame and look at a few rows"
      ],
      "id": "__LW0ZrqDt2s",
      "execution_count": null,
      "outputs": []
    },
    {
      "cell_type": "code",
      "metadata": {
        "id": "tYm4IwqXDt2s"
      },
      "source": [
        "# TODO Q8 - Cases option\n",
        "\n",
        "url_cases = 'https://github.com/nytimes/covid-19-data/raw/master/us-states.csv'\n",
        "# df_cases = ...\n",
        "# df_cases['date'] = ...\n",
        "# df_cases_subset = ...\n",
        "# check the data frame and look at a few rows"
      ],
      "id": "tYm4IwqXDt2s",
      "execution_count": null,
      "outputs": []
    },
    {
      "cell_type": "markdown",
      "metadata": {
        "id": "8MpeEBdZDt2t"
      },
      "source": [
        "Visualize data\n",
        "--------------\n",
        "\n",
        "Finally, we are going to visualize the changes in human mobility over\n",
        "this time, for the location you have chosen, alongside either\n",
        "vaccination trends or cases trends.\n",
        "\n",
        "In the following cell, create a figure with seven subplots, arranged\n",
        "vertically. (You can refer to the example in the “Python + numpy”\n",
        "notebook from this week’s lesson.) On the horizontal axis, put the date.\n",
        "On the vertical axes, show (as a line):\n",
        "\n",
        "-   `retail_and_recreation_percent_change_from_baseline` in the top\n",
        "    subplot\n",
        "-   `grocery_and_pharmacy_percent_change_from_baseline` in the next\n",
        "    subplot\n",
        "-   `parks_percent_change_from_baseline` in the next subplot\n",
        "-   `transit_stations_percent_change_from_baseline` in the next subplot\n",
        "-   `workplaces_percent_change_from_baseline` in the next subplot\n",
        "-   `residential_percent_change_from_baseline` in the next subplot\n",
        "-   either COVID-19 cases or vaccinations in the bottom subplot\n",
        "\n",
        "Make sure to clearly label each axis. Use `matplotlib` library\n",
        "documentation to adjust your figures and make your plot look nice!"
      ],
      "id": "8MpeEBdZDt2t"
    },
    {
      "cell_type": "code",
      "metadata": {
        "id": "LGWZ1RZyDt2u"
      },
      "source": [
        "# TODO Q9\n",
        "# create visualization"
      ],
      "id": "LGWZ1RZyDt2u",
      "execution_count": null,
      "outputs": []
    },
    {
      "cell_type": "markdown",
      "metadata": {
        "id": "TFCxnccqDt2u"
      },
      "source": [
        "**TODO** Q10: Answer the following questions:\n",
        "\n",
        "-   Do the results seem to satisfy “common sense”?\n",
        "-   Make sure to explain any trends, patterns, or notable anomalies\n",
        "    observed in your mobility data.\n",
        "-   Which trends, patterns, or notable anomalies in the mobility data\n",
        "    are likely related to COVID-19 cases, non-pharmaceutical\n",
        "    interventions such as stay-at-home orders, or vaccinations?\n",
        "-   Which trends, patterns, or notable anomalies in the mobility data\n",
        "    are likely related to other factors?\n",
        "-   Cite specific evidence from your plot to support your answer.\n",
        "\n",
        "**TODO** Q11: In the [Calibrate\n",
        "Region](https://support.google.com/covid19-mobility/checklist/9834261?hl=en&ref_topic=9822927)\n",
        "checklist, Google suggests a number of reasons why their mobility data\n",
        "might *not* be useful for understanding the effect of COVID-19-related\n",
        "interventions, or why the data might be misleading.\n",
        "\n",
        "-   For the U.S. state you have chosen, briefly answer *all* of the\n",
        "    questions in that checklist, and explain how your answer affects the\n",
        "    validity of the data.\n",
        "\n",
        "-   Based on your answers, do you think there are any serious problems\n",
        "    associated with using this data for understanding user mobility\n",
        "    changes due to COVID-19?"
      ],
      "id": "TFCxnccqDt2u"
    }
  ]
}