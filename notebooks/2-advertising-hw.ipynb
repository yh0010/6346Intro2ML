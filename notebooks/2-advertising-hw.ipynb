{
  "nbformat": 4,
  "nbformat_minor": 5,
  "metadata": {
    "colab": {
      "name": "2-advertising-hw.ipynb",
      "provenance": [],
      "include_colab_link": true
    }
  },
  "cells": [
    {
      "cell_type": "markdown",
      "metadata": {
        "id": "view-in-github",
        "colab_type": "text"
      },
      "source": [
        "<a href=\"https://colab.research.google.com/github/yh0010/NYU_Summer_Tandon_Scholar_Intro2ML/blob/main/notebooks/2-advertising-hw.ipynb\" target=\"_parent\"><img src=\"https://colab.research.google.com/assets/colab-badge.svg\" alt=\"Open In Colab\"/></a>"
      ]
    },
    {
      "cell_type": "markdown",
      "metadata": {
        "id": "bfDy5vz3JkuQ"
      },
      "source": [
        "Assignment: Linear regression on the Advertising data\n",
        "=====================================================\n",
        "\n",
        "**TODO**: Edit this cell to fill in your NYU Net ID and your name:\n",
        "\n",
        "-   **Net ID**:\n",
        "-   **Name**:"
      ],
      "id": "bfDy5vz3JkuQ"
    },
    {
      "cell_type": "markdown",
      "metadata": {
        "id": "td5eeHidJkuT"
      },
      "source": [
        "To illustrate principles of linear regression, we are going to use some\n",
        "data from the textbook “An Introduction to Statistical Learning\n",
        "withApplications in R” (Gareth James, Daniela Witten, Trevor Hastie,\n",
        "Robert Tibshirani) (available via NYU Library).\n",
        "\n",
        "The dataset is described as follows:\n",
        "\n",
        "> Suppose that we are statistical consultants hired by a client to\n",
        "> provide advice on how to improve sales of a particular product. The\n",
        "> `Advertising` data set consists of the sales of that product in 200\n",
        "> different markets, along with advertising budgets for the product in\n",
        "> each of those markets for three different media: TV, radio, and\n",
        "> newspaper.\n",
        ">\n",
        "> …\n",
        ">\n",
        "> It is not possible for our client to directly increase sales of the\n",
        "> product. On the other hand, they can control the advertising\n",
        "> expenditure in each of the three media. Therefore, if we determine\n",
        "> that there is an association between advertising and sales, then we\n",
        "> can instruct our client to adjust advertising budgets, thereby\n",
        "> indirectly increasing sales. In other words, our goal is to develop an\n",
        "> accurate model that can be used to predict sales on the basis of the\n",
        "> three media budgets.\n",
        "\n",
        "Sales are reported in thousands of units, and TV, radio, and newspaper\n",
        "budgets, are reported in thousands of dollars.\n",
        "\n",
        "For this assignment, you will fit a linear regression model to a small\n",
        "dataset. You will iteratively improve your linear regression model by\n",
        "examining the residuals at each stage, in order to identify problems\n",
        "with the model.\n",
        "\n",
        "Make sure to include your name and net ID in a text cell at the top of\n",
        "the notebook."
      ],
      "id": "td5eeHidJkuT"
    },
    {
      "cell_type": "code",
      "metadata": {
        "id": "HFJMp3loJkuV"
      },
      "source": [
        "from sklearn import metrics\n",
        "from sklearn.linear_model import LinearRegression\n",
        "from sklearn.model_selection import train_test_split\n",
        "\n",
        "import numpy as np\n",
        "import matplotlib.pyplot as plt\n",
        "import pandas as pd\n",
        "import seaborn as sns\n",
        "sns.set()\n",
        "\n",
        "from IPython.core.interactiveshell import InteractiveShell\n",
        "InteractiveShell.ast_node_interactivity = \"all\""
      ],
      "id": "HFJMp3loJkuV",
      "execution_count": null,
      "outputs": []
    },
    {
      "cell_type": "markdown",
      "metadata": {
        "id": "-DIl12PPJkuW"
      },
      "source": [
        "### 1. Read in and pre-process data\n",
        "\n",
        "In this section, you will read in the “Advertising” data, and make sure\n",
        "it is loaded correctly. Visually inspect the data using a pairplot, and\n",
        "note any meaningful observations. In particular, comment on which\n",
        "features appear to be correlated with product sales, and which features\n",
        "appear to be correlated with one another. Then, split the data into\n",
        "training data (70%) and test data (30%).\n",
        "\n",
        "**The code in this section is provided for you**. However, you should\n",
        "add a text cell at the end of this section, in which you write your\n",
        "comments and observations."
      ],
      "id": "-DIl12PPJkuW"
    },
    {
      "cell_type": "markdown",
      "metadata": {
        "id": "Czsp0G8rJkuW"
      },
      "source": [
        "#### Read in data"
      ],
      "id": "Czsp0G8rJkuW"
    },
    {
      "cell_type": "code",
      "metadata": {
        "id": "Mt-fUmeaJkuX"
      },
      "source": [
        "url = 'https://www.statlearning.com/s/Advertising.csv'\n",
        "df  = pd.read_csv(url, index_col=0)\n",
        "df.head()"
      ],
      "id": "Mt-fUmeaJkuX",
      "execution_count": null,
      "outputs": []
    },
    {
      "cell_type": "markdown",
      "metadata": {
        "id": "UkJFoEBgJkuY"
      },
      "source": [
        "Note that in this dataset, the first column in the data file is the row\n",
        "label; that’s why we use `index_col=0` in the `read_csv` command. If we\n",
        "would omit that argument, then we would have an additional (unnamed)\n",
        "column in the dataset, containing the row number.\n",
        "\n",
        "(You can try removing the `index_col` argument and re-running the cell\n",
        "above, to see the effect and to understand why we used this argument.)"
      ],
      "id": "UkJFoEBgJkuY"
    },
    {
      "cell_type": "markdown",
      "metadata": {
        "id": "BoZuzwsaJkuZ"
      },
      "source": [
        "#### Visually inspect the data"
      ],
      "id": "BoZuzwsaJkuZ"
    },
    {
      "cell_type": "code",
      "metadata": {
        "id": "CctPOfJ8Jkua"
      },
      "source": [
        "sns.pairplot(df);"
      ],
      "id": "CctPOfJ8Jkua",
      "execution_count": null,
      "outputs": []
    },
    {
      "cell_type": "markdown",
      "metadata": {
        "id": "CjBeyQrMJkua"
      },
      "source": [
        "The most important panels here are on the bottom row, where `sales` is\n",
        "on the vertical axis and the advertising budgets are on the horizontal\n",
        "axes."
      ],
      "id": "CjBeyQrMJkua"
    },
    {
      "cell_type": "markdown",
      "metadata": {
        "id": "qvOpAx15Jkub"
      },
      "source": [
        "#### Split up data\n",
        "\n",
        "We will use 70% of the data for training and the remaining 30% to test\n",
        "the regression model."
      ],
      "id": "qvOpAx15Jkub"
    },
    {
      "cell_type": "code",
      "metadata": {
        "id": "MNoseR_dJkub"
      },
      "source": [
        "train, test = train_test_split(df, test_size=0.3)"
      ],
      "id": "MNoseR_dJkub",
      "execution_count": null,
      "outputs": []
    },
    {
      "cell_type": "code",
      "metadata": {
        "id": "2NdbMYMgJkub"
      },
      "source": [
        "train.info()"
      ],
      "id": "2NdbMYMgJkub",
      "execution_count": null,
      "outputs": []
    },
    {
      "cell_type": "code",
      "metadata": {
        "id": "EJsxDYRKJkuc"
      },
      "source": [
        "test.info()"
      ],
      "id": "EJsxDYRKJkuc",
      "execution_count": null,
      "outputs": []
    },
    {
      "cell_type": "markdown",
      "metadata": {
        "id": "ltLM0N2LJkuc"
      },
      "source": [
        "### 2. Fit simple linear regression models\n",
        "\n",
        "Use the training data to fit a simple linear regression to predict\n",
        "product sales, for each of three features: TV ad budget, radio ad\n",
        "budget, and newspaper ad budget. In other words, you will fit *three*\n",
        "regression models, with each model being trained on one feature. For\n",
        "each of the three regression models, create a plot of the training data\n",
        "and the regression line, with product sales ($y$) on the vertical axis\n",
        "and the feature on which the model was trained ($x$) on the horizontal\n",
        "axis.\n",
        "\n",
        "Also, for each regression model, print the intercept and coefficients,\n",
        "and compute the MSE and R2 on the training data, and MSE and R2 on the\n",
        "test data.\n",
        "\n",
        "Comment on the results. Which type of ad spending seems to be associated\n",
        "with the largest increase in product sales? Which regression model is\n",
        "most effective at predicting product sales?\n",
        "\n",
        "**The code in this section is provided for you**. However, you should\n",
        "add text cells in which you write your comments, observations, and\n",
        "answers to the questions."
      ],
      "id": "ltLM0N2LJkuc"
    },
    {
      "cell_type": "markdown",
      "metadata": {
        "id": "WlVmCuzbJkud"
      },
      "source": [
        "#### Fit a simple linear regression"
      ],
      "id": "WlVmCuzbJkud"
    },
    {
      "cell_type": "code",
      "metadata": {
        "id": "j2VQ-IopJkud"
      },
      "source": [
        "reg_tv    = LinearRegression().fit(train[['TV']], train['sales'])\n",
        "reg_radio = LinearRegression().fit(train[['radio']], train['sales'])\n",
        "reg_news  = LinearRegression().fit(train[['newspaper']], train['sales'])"
      ],
      "id": "j2VQ-IopJkud",
      "execution_count": null,
      "outputs": []
    },
    {
      "cell_type": "markdown",
      "metadata": {
        "id": "7SRt38jxJkue"
      },
      "source": [
        "#### Look at coefficients"
      ],
      "id": "7SRt38jxJkue"
    },
    {
      "cell_type": "code",
      "metadata": {
        "id": "urlbEYf8Jkue"
      },
      "source": [
        "print(\"TV       : \", reg_tv.coef_[0], reg_tv.intercept_)\n",
        "print(\"Radio    : \", reg_radio.coef_[0], reg_radio.intercept_)\n",
        "print(\"Newspaper: \", reg_news.coef_[0], reg_news.intercept_)"
      ],
      "id": "urlbEYf8Jkue",
      "execution_count": null,
      "outputs": []
    },
    {
      "cell_type": "markdown",
      "metadata": {
        "id": "49lKwyNnJkue"
      },
      "source": [
        "#### Plot data and regression line"
      ],
      "id": "49lKwyNnJkue"
    },
    {
      "cell_type": "code",
      "metadata": {
        "id": "4J88qXE-Jkuf"
      },
      "source": [
        "fig = plt.figure(figsize=(12,3))\n",
        "\n",
        "plt.subplot(1,3,1)\n",
        "sns.scatterplot(data=train, x=\"TV\", y=\"sales\");\n",
        "sns.lineplot(data=train, x=\"TV\", y=reg_tv.predict(train[['TV']]), color='red');\n",
        "\n",
        "plt.subplot(1,3,2)\n",
        "sns.scatterplot(data=train, x=\"radio\", y=\"sales\");\n",
        "sns.lineplot(data=train, x=\"radio\", y=reg_radio.predict(train[['radio']]), color='red');\n",
        "\n",
        "plt.subplot(1,3,3)\n",
        "sns.scatterplot(data=train, x=\"newspaper\", y=\"sales\");\n",
        "sns.lineplot(data=train, x=\"newspaper\", y=reg_news.predict(train[['newspaper']]), color='red');"
      ],
      "id": "4J88qXE-Jkuf",
      "execution_count": null,
      "outputs": []
    },
    {
      "cell_type": "markdown",
      "metadata": {
        "id": "qrQQAlAWJkuf"
      },
      "source": [
        "#### Compute R2, MSE for simple regression"
      ],
      "id": "qrQQAlAWJkuf"
    },
    {
      "cell_type": "code",
      "metadata": {
        "id": "eUg-YOCPJkuf"
      },
      "source": [
        "y_pred_tr_tv    = reg_tv.predict(train[['TV']])\n",
        "y_pred_tr_radio = reg_radio.predict(train[['radio']])\n",
        "y_pred_tr_news  = reg_news.predict(train[['newspaper']])"
      ],
      "id": "eUg-YOCPJkuf",
      "execution_count": null,
      "outputs": []
    },
    {
      "cell_type": "code",
      "metadata": {
        "id": "QOhVOvu8Jkug"
      },
      "source": [
        "r2_tr_tv    = metrics.r2_score(train['sales'], y_pred_tr_tv)\n",
        "r2_tr_radio = metrics.r2_score(train['sales'], y_pred_tr_radio)\n",
        "r2_tr_news  = metrics.r2_score(train['sales'], y_pred_tr_news)\n",
        "print(\"TV       : \", r2_tr_tv)\n",
        "print(\"Radio    : \", r2_tr_radio)\n",
        "print(\"Newspaper: \", r2_tr_news)"
      ],
      "id": "QOhVOvu8Jkug",
      "execution_count": null,
      "outputs": []
    },
    {
      "cell_type": "code",
      "metadata": {
        "id": "D3J0pwG8Jkug"
      },
      "source": [
        "mse_tr_tv    = metrics.mean_squared_error(train['sales'], y_pred_tr_tv)\n",
        "mse_tr_radio = metrics.mean_squared_error(train['sales'], y_pred_tr_radio)\n",
        "mse_tr_news  = metrics.mean_squared_error(train['sales'], y_pred_tr_news)\n",
        "print(\"TV       : \", mse_tr_tv)\n",
        "print(\"Radio    : \", mse_tr_radio)\n",
        "print(\"Newspaper: \", mse_tr_news)"
      ],
      "id": "D3J0pwG8Jkug",
      "execution_count": null,
      "outputs": []
    },
    {
      "cell_type": "code",
      "metadata": {
        "id": "akLiZeBDJkug"
      },
      "source": [
        "y_pred_ts_tv    = reg_tv.predict(test[['TV']])\n",
        "y_pred_ts_radio = reg_radio.predict(test[['radio']])\n",
        "y_pred_ts_news  = reg_news.predict(test[['newspaper']])"
      ],
      "id": "akLiZeBDJkug",
      "execution_count": null,
      "outputs": []
    },
    {
      "cell_type": "code",
      "metadata": {
        "id": "Wx0E9kLlJkug"
      },
      "source": [
        "r2_ts_tv    = metrics.r2_score(test['sales'], y_pred_ts_tv)\n",
        "r2_ts_radio = metrics.r2_score(test['sales'], y_pred_ts_radio)\n",
        "r2_ts_news  = metrics.r2_score(test['sales'], y_pred_ts_news)\n",
        "print(\"TV       : \", r2_ts_tv)\n",
        "print(\"Radio    : \", r2_ts_radio)\n",
        "print(\"Newspaper: \", r2_ts_news)"
      ],
      "id": "Wx0E9kLlJkug",
      "execution_count": null,
      "outputs": []
    },
    {
      "cell_type": "code",
      "metadata": {
        "id": "Bipm8oeBJkuh"
      },
      "source": [
        "mse_ts_tv    = metrics.mean_squared_error(test['sales'], y_pred_ts_tv)\n",
        "mse_ts_radio = metrics.mean_squared_error(test['sales'], y_pred_ts_radio)\n",
        "mse_ts_news  = metrics.mean_squared_error(test['sales'], y_pred_ts_news)\n",
        "print(\"TV       : \", mse_ts_tv)\n",
        "print(\"Radio    : \", mse_ts_radio)\n",
        "print(\"Newspaper: \", mse_ts_news)"
      ],
      "id": "Bipm8oeBJkuh",
      "execution_count": null,
      "outputs": []
    },
    {
      "cell_type": "markdown",
      "metadata": {
        "id": "ZzGfSqb8Jkuh"
      },
      "source": [
        "### 3. Explore the residuals for the single linear regression models\n",
        "\n",
        "We know that computing MSE or R2 is not sufficient to diagnose a problem\n",
        "with a linear regression.\n",
        "\n",
        "Create some additional plots as described below to help you identify any\n",
        "problems with the regression. Use training data for all of the items\n",
        "below.\n",
        "\n",
        "For each of the three regression models,\n",
        "\n",
        "-   Plot predicted sales ($\\hat{y}$) on the vertical axis, and actual\n",
        "    sales ($y$) on the horizontal axis. Make sure both axes use the same\n",
        "    scale. Comment on your observations. What would you expect this plot\n",
        "    to look like for a model that explains the data well?\n",
        "-   Compute the residuals ($y - \\hat{y}$). Note that some of these will\n",
        "    be negative, and some will be positive. What is the mean residual\n",
        "    for each of the regression models? What *should* be the mean\n",
        "    residual for a fitted linear regression model? Explain your answer.\n",
        "-   Plot the residuals ($y - \\hat{y}$) on the vertical axis, and actual\n",
        "    sales ($y$) on the horizontal axis. Use the same scale for all three\n",
        "    subplots. Comment on your observations. Is there a pattern in the\n",
        "    residuals (and if so, what might it indicate), or do they appear to\n",
        "    have no pattern with respect to actual sales?\n",
        "-   For each of the three regression models AND each of the three\n",
        "    features, plot the residuals ($y - \\hat{y}$) on the vertical axis,\n",
        "    and the feature ($x$) on the horizontal axis. This plot will include\n",
        "    nine subplots in total. Make sure to clearly label each axis, and\n",
        "    also label each subplot with a title that indicates which regression\n",
        "    model it uses. Is there a pattern in the residuals (and if so, what\n",
        "    might it indicate), or do they appear to have no pattern with\n",
        "    respect to each of the three features?\n",
        "\n",
        "**The code in this section is not provided for you**. You will need to\n",
        "write code, in addition to the text cells in which you write your\n",
        "comments, observations, and answers to the questions."
      ],
      "id": "ZzGfSqb8Jkuh"
    },
    {
      "cell_type": "markdown",
      "metadata": {
        "id": "Khhae3ZvJkui"
      },
      "source": [
        "### 4. Try a multiple linear regression\n",
        "\n",
        "Next, fit a multiple linear regression to predict product sales, using\n",
        "all three features to train a single model: TV ad budget, radio ad\n",
        "budget, and newspaper ad budget.\n",
        "\n",
        "Print the intercept and coefficients, and compute the MSE and R2 on the\n",
        "training data, and MSE and R2 on the test data. Comment on the results.\n",
        "Make sure to explain any differences between the coefficients of the\n",
        "multiple regression model, and the coefficients of the three simple\n",
        "linear regression models. If they are different, why?\n",
        "\n",
        "**The code in the first part of this section is provided for you**.\n",
        "However, you should add text cells in which you write your comments,\n",
        "observations, and answers to the questions.\n",
        "\n",
        "Also repeat the analysis of part (3) for this regression model. Use\n",
        "training data for all of these items:\n",
        "\n",
        "-   Plot predicted sales ($\\hat{y}$) on the vertical axis, and actual\n",
        "    sales ($y$) on the horizontal axis. Make sure both axes use the same\n",
        "    scale. Comment on your observations. What would you expect this plot\n",
        "    to look like for a model that explains the data well?\n",
        "-   Compute the residuals ($y - \\hat{y}$). What is the mean of the\n",
        "    residuals? What *should* be the mean of the residuals for a fitted\n",
        "    linear regression model? Explain your answer.\n",
        "-   Plot the residuals ($y - \\hat{y}$) on the vertical axis, and actual\n",
        "    sales ($y$) on the horizontal axis. Comment on your observations. Is\n",
        "    there a pattern in the residuals (and if so, what might it\n",
        "    indicate), or do they appear to have no pattern with respect to\n",
        "    actual sales?\n",
        "-   For each of the three features, plot the residuals ($y - \\hat{y}$)\n",
        "    on the vertical axis, and the feature ($x$) on the horizontal axis.\n",
        "    Make sure to clearly label each axis. Is there a pattern in the\n",
        "    residuals (and if so, what might it indicate), or do they appear to\n",
        "    have no pattern with respect to each of the three features?\n",
        "\n",
        "**The code in the last part of this section is not provided for you**.\n",
        "You will need to write code, in addition to the text cells in which you\n",
        "write your comments, observations, and answers to the questions."
      ],
      "id": "Khhae3ZvJkui"
    },
    {
      "cell_type": "markdown",
      "metadata": {
        "id": "qf_cDINtJkuj"
      },
      "source": [
        "#### Fit a multiple linear regression"
      ],
      "id": "qf_cDINtJkuj"
    },
    {
      "cell_type": "code",
      "metadata": {
        "id": "W344FDSWJkuj"
      },
      "source": [
        "reg_multi = LinearRegression().fit(train[['TV', 'radio', 'newspaper']], train['sales'])"
      ],
      "id": "W344FDSWJkuj",
      "execution_count": null,
      "outputs": []
    },
    {
      "cell_type": "markdown",
      "metadata": {
        "id": "mdzM4y-4Jkuk"
      },
      "source": [
        "#### Look at coefficients"
      ],
      "id": "mdzM4y-4Jkuk"
    },
    {
      "cell_type": "code",
      "metadata": {
        "id": "ao1P0kUfJkuk"
      },
      "source": [
        "print(\"Coefficients (TV, radio, newspaper):\", reg_multi.coef_)\n",
        "print(\"Intercept: \", reg_multi.intercept_)"
      ],
      "id": "ao1P0kUfJkuk",
      "execution_count": null,
      "outputs": []
    },
    {
      "cell_type": "markdown",
      "metadata": {
        "id": "rqetvASWJkuk"
      },
      "source": [
        "#### Compute R2, MSE for multiple regression"
      ],
      "id": "rqetvASWJkuk"
    },
    {
      "cell_type": "code",
      "metadata": {
        "id": "WOkVs9dNJkuk"
      },
      "source": [
        "y_pred_tr_multi = reg_multi.predict(train[['TV', 'radio', 'newspaper']])\n",
        "\n",
        "r2_tr_multi  = metrics.r2_score(train['sales'], y_pred_tr_multi)\n",
        "mse_tr_multi = metrics.mean_squared_error(train['sales'], y_pred_tr_multi)\n",
        "\n",
        "print(\"Multiple regression R2:  \", r2_tr_multi)\n",
        "print(\"Multiple regression MSE: \", mse_tr_multi)\n"
      ],
      "id": "WOkVs9dNJkuk",
      "execution_count": null,
      "outputs": []
    },
    {
      "cell_type": "code",
      "metadata": {
        "id": "VXlXiFTZJkuk"
      },
      "source": [
        "y_pred_ts_multi = reg_multi.predict(test[['TV', 'radio', 'newspaper']])\n",
        "\n",
        "r2_ts_multi  = metrics.r2_score(test['sales'], y_pred_ts_multi)\n",
        "mse_ts_multi = metrics.mean_squared_error(test['sales'], y_pred_ts_multi)\n",
        "\n",
        "print(\"Multiple regression R2:  \", r2_ts_multi)\n",
        "print(\"Multiple regression MSE: \", mse_ts_multi)\n"
      ],
      "id": "VXlXiFTZJkuk",
      "execution_count": null,
      "outputs": []
    },
    {
      "cell_type": "markdown",
      "metadata": {
        "id": "wXwONas6Jkul"
      },
      "source": [
        "### 5. Linear regression with interaction terms\n",
        "\n",
        "Our multiple linear regression includes additive effects of all three\n",
        "types of advertising media. However, it does not include *interaction*\n",
        "effects, in which combining different types of advertising media\n",
        "together results in a bigger boost in sales than just the additive\n",
        "effect of the individual media. The pattern in the residuals plots from\n",
        "parts (1) through (4) suggest that a model including an interaction\n",
        "effect may explain sales data better than a model including additive\n",
        "effects. Add four columns to your data frame:\n",
        "\n",
        "-   `newspaper` $\\times$ `radio`\n",
        "-   `TV` $\\times$ `radio`\n",
        "-   `newspaper` $\\times$ `TV`\n",
        "-   `newspaper` $\\times$ `radio` $\\times$ `TV`\n",
        "\n",
        "Then, train a linear regression model on all seven features: the three\n",
        "types of ad budgets, and the four interaction effects. Repeat the\n",
        "analysis of part (4) for the model including interaction effects.\n",
        "Comment on the results. Are the interaction effects helpful for\n",
        "explaining the effect of ads on product sales? Are there any patterns\n",
        "evident in the residual plots that suggest further opportunities for\n",
        "improving the model?\n",
        "\n",
        "(If you think the results suggest further opportunities for improving\n",
        "the model, you are welcome to try and to comment on the results!)\n",
        "\n",
        "**The code in this section is not provided for you**. You will need to\n",
        "write code, in addition to the text cells in which you write your\n",
        "comments, observations, and answers to the questions."
      ],
      "id": "wXwONas6Jkul"
    }
  ]
}