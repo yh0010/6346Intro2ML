{
  "nbformat": 4,
  "nbformat_minor": 0,
  "metadata": {
    "colab": {
      "name": "5-hw-voter-classification.ipynb",
      "provenance": [],
      "collapsed_sections": [],
      "toc_visible": true,
      "include_colab_link": true
    },
    "kernelspec": {
      "name": "python3",
      "display_name": "Python 3"
    }
  },
  "cells": [
    {
      "cell_type": "markdown",
      "metadata": {
        "id": "view-in-github",
        "colab_type": "text"
      },
      "source": [
        "<a href=\"https://colab.research.google.com/github/yh0010/NYU_Summer_Tandon_Scholar_Intro2ML/blob/main/5_hw_voter_classification.ipynb\" target=\"_parent\"><img src=\"https://colab.research.google.com/assets/colab-badge.svg\" alt=\"Open In Colab\"/></a>"
      ]
    },
    {
      "cell_type": "markdown",
      "metadata": {
        "id": "amv64k835mG5"
      },
      "source": [
        "# Assignment: Voter classification using exit poll data\n"
      ]
    },
    {
      "cell_type": "markdown",
      "metadata": {
        "id": "Y-zf2hyvkvSQ"
      },
      "source": [
        "**TODO**: Edit this cell to fill in your NYU Net ID and your name:\n",
        "\n",
        "-   **Net ID**:\n",
        "-   **Name**:"
      ]
    },
    {
      "cell_type": "markdown",
      "metadata": {
        "id": "wbjmQWtb5rDV"
      },
      "source": [
        "In this notebook, we will explore the problem of voter classification.\n",
        "\n",
        "Given demographic data about a voter and their opinions on certain key issues, can we predict their vote in the 2016 U.S. presidential election? We will attempt this using a K nearest neighbor classifier.\n",
        "\n",
        "In the first part of this notebook, I will show you how to train and use a K nearest neighbors classifier for this task. In the next part of the notebook, you will try to improve the basic model for better performance.\n"
      ]
    },
    {
      "cell_type": "markdown",
      "metadata": {
        "id": "K-sACT_w0sXe"
      },
      "source": [
        "## Import libraries"
      ]
    },
    {
      "cell_type": "code",
      "metadata": {
        "id": "2We-q6xZKhsk"
      },
      "source": [
        "import pandas as pd\n",
        "import numpy as np \n",
        "import matplotlib.pyplot as plt\n",
        "import seaborn as sns\n",
        "from tqdm import tqdm\n",
        "\n",
        "from sklearn.model_selection import ShuffleSplit\n",
        "from sklearn.neighbors import KNeighborsClassifier\n",
        "from sklearn.metrics import accuracy_score\n",
        "from sklearn.metrics.pairwise import nan_euclidean_distances"
      ],
      "execution_count": null,
      "outputs": []
    },
    {
      "cell_type": "markdown",
      "metadata": {
        "id": "Bf-2I7EYAfaS"
      },
      "source": [
        "We will need to install a library that is not in the default Colab environment, which we can install with `pip`:"
      ]
    },
    {
      "cell_type": "code",
      "metadata": {
        "id": "jbs7-58kAUSd",
        "colab": {
          "base_uri": "https://localhost:8080/"
        },
        "outputId": "b223cc77-37fa-4371-963b-49326599862a"
      },
      "source": [
        "!pip install category_encoders"
      ],
      "execution_count": null,
      "outputs": [
        {
          "output_type": "stream",
          "text": [
            "Collecting category_encoders\n",
            "\u001b[?25l  Downloading https://files.pythonhosted.org/packages/44/57/fcef41c248701ee62e8325026b90c432adea35555cbc870aff9cfba23727/category_encoders-2.2.2-py2.py3-none-any.whl (80kB)\n",
            "\r\u001b[K     |████                            | 10kB 10.5MB/s eta 0:00:01\r\u001b[K     |████████▏                       | 20kB 14.6MB/s eta 0:00:01\r\u001b[K     |████████████▏                   | 30kB 18.6MB/s eta 0:00:01\r\u001b[K     |████████████████▎               | 40kB 17.7MB/s eta 0:00:01\r\u001b[K     |████████████████████▎           | 51kB 8.6MB/s eta 0:00:01\r\u001b[K     |████████████████████████▍       | 61kB 9.2MB/s eta 0:00:01\r\u001b[K     |████████████████████████████▍   | 71kB 8.9MB/s eta 0:00:01\r\u001b[K     |████████████████████████████████| 81kB 4.7MB/s \n",
            "\u001b[?25hRequirement already satisfied: statsmodels>=0.9.0 in /usr/local/lib/python3.7/dist-packages (from category_encoders) (0.10.2)\n",
            "Requirement already satisfied: scikit-learn>=0.20.0 in /usr/local/lib/python3.7/dist-packages (from category_encoders) (0.22.2.post1)\n",
            "Requirement already satisfied: scipy>=1.0.0 in /usr/local/lib/python3.7/dist-packages (from category_encoders) (1.4.1)\n",
            "Requirement already satisfied: patsy>=0.5.1 in /usr/local/lib/python3.7/dist-packages (from category_encoders) (0.5.1)\n",
            "Requirement already satisfied: numpy>=1.14.0 in /usr/local/lib/python3.7/dist-packages (from category_encoders) (1.19.5)\n",
            "Requirement already satisfied: pandas>=0.21.1 in /usr/local/lib/python3.7/dist-packages (from category_encoders) (1.1.5)\n",
            "Requirement already satisfied: joblib>=0.11 in /usr/local/lib/python3.7/dist-packages (from scikit-learn>=0.20.0->category_encoders) (1.0.1)\n",
            "Requirement already satisfied: six in /usr/local/lib/python3.7/dist-packages (from patsy>=0.5.1->category_encoders) (1.15.0)\n",
            "Requirement already satisfied: pytz>=2017.2 in /usr/local/lib/python3.7/dist-packages (from pandas>=0.21.1->category_encoders) (2018.9)\n",
            "Requirement already satisfied: python-dateutil>=2.7.3 in /usr/local/lib/python3.7/dist-packages (from pandas>=0.21.1->category_encoders) (2.8.1)\n",
            "Installing collected packages: category-encoders\n",
            "Successfully installed category-encoders-2.2.2\n"
          ],
          "name": "stdout"
        }
      ]
    },
    {
      "cell_type": "code",
      "metadata": {
        "id": "YDC9uR2yAWun",
        "colab": {
          "base_uri": "https://localhost:8080/"
        },
        "outputId": "6174c4cd-0104-4266-ae9c-97c7f37a4f87"
      },
      "source": [
        "import category_encoders as ce"
      ],
      "execution_count": null,
      "outputs": [
        {
          "output_type": "stream",
          "text": [
            "/usr/local/lib/python3.7/dist-packages/statsmodels/tools/_testing.py:19: FutureWarning: pandas.util.testing is deprecated. Use the functions in the public API at pandas.testing instead.\n",
            "  import pandas.util.testing as tm\n"
          ],
          "name": "stderr"
        }
      ]
    },
    {
      "cell_type": "markdown",
      "metadata": {
        "id": "2YRvbITr5zx1"
      },
      "source": [
        "## Load data\n"
      ]
    },
    {
      "cell_type": "markdown",
      "metadata": {
        "id": "9tkY5Qyw51P1"
      },
      "source": [
        "The data for this notebook comes from the [U.S. National Election Day Exit Polls](https://ropercenter.cornell.edu/exit-polls/us-national-election-day-exit-polls)."
      ]
    },
    {
      "cell_type": "markdown",
      "metadata": {
        "id": "5qScR5gmATfJ"
      },
      "source": [
        "Here's a brief description of how exit polls work. \n",
        " \n",
        "Exit polls are conducted by Edison Research on behalf of a consortium of media organizations.\n",
        "\n",
        "First, the member organizations decide what races to cover, what sample size they want, what questions should be asks, and other details. Then, sample precincts are selected, and local interviewers are hired and trained. Then, at those precincts, the local interviewer approaches a subset of voters as they exit the polls (for example, every third voter, or every fifth voter, depending on the required sample size).\n",
        " \n",
        "When a voter is approached, they are asked if they are willing to fill out a questionnaire. Typically about 40-50% agree. (For those that decline, the interviewer visually estimates their age, race, and gender, and notes this information, so that the response rate by demographic is known and responses can be weighted accordingly in order to be more representative of the population.)\n",
        " \n",
        "Voters that agree to participate are then given an form with 15-20 questions. They fill in the form (anonymously), fold it, and put it in a small ballot box.\n",
        " \n",
        "Three times during the day, the interviewers will stop, take the questionnaires, compile the results, and call them in to the Edison Research phone center.  The results are reported immediately to the media organizations that are consortium members.\n",
        " \n",
        "In addition to the poll of in-person voters, absentee and early voters (who are not at the polls on Election Day) are surveyed by telephone."
      ]
    },
    {
      "cell_type": "markdown",
      "metadata": {
        "id": "6LuEfWJw6td0"
      },
      "source": [
        "The exit poll data is not freely available on the web, but is available to those with institutional membership. You will be able to use your NYU email address to create an account with which you can download the exit poll data."
      ]
    },
    {
      "cell_type": "markdown",
      "metadata": {
        "id": "OrNTossl7C9I"
      },
      "source": [
        "To get the data, visit [the Roper Center website](https://persistent.library.nyu.edu/arch/NYU02495). Click on the user icon in the top right of the page, and choose \"Log in\"."
      ]
    },
    {
      "cell_type": "markdown",
      "metadata": {
        "id": "kusXT3ZX7nls"
      },
      "source": [
        "For \"Your Affiliation\", choose \"New York University\".\n",
        "\n",
        "Then, choose \"Register\" (highlighted in yellow below)."
      ]
    },
    {
      "cell_type": "markdown",
      "metadata": {
        "id": "s720psv-8Rbc"
      },
      "source": [
        "![image.png](data:image/png;base64,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)"
      ]
    },
    {
      "cell_type": "markdown",
      "metadata": {
        "id": "tkl1rm6I8R6p"
      },
      "source": [
        "Enter your NYU email address (highlighted in yellow below) and then click \"Register\"."
      ]
    },
    {
      "cell_type": "markdown",
      "metadata": {
        "id": "nNMilJ7d8dhd"
      },
      "source": [
        "![image.png](data:image/png;base64,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)"
      ]
    },
    {
      "cell_type": "markdown",
      "metadata": {
        "id": "vOiHOAgH8nid"
      },
      "source": [
        "You will get an email at your NYU email address with the subject \"Roper iPoll Account Registration\". Open the email and click \"Confirm Account\" to create a password and finish your account registration."
      ]
    },
    {
      "cell_type": "markdown",
      "metadata": {
        "id": "Hs8k3MKg8AMh"
      },
      "source": [
        "Once you have completed your account registration, log in to Roper iPoll by clicking the user icon in the top right of the page, choosing \"Log in\", and entering your NYU email address and password."
      ]
    },
    {
      "cell_type": "markdown",
      "metadata": {
        "id": "0J7fNxuq9h6N"
      },
      "source": [
        "Then, open the Study Record for the [2016 National Election Day Exit Poll](https://ropercenter.cornell.edu/ipoll/study/31116396)."
      ]
    },
    {
      "cell_type": "markdown",
      "metadata": {
        "id": "EsdyPnkDAYhM"
      },
      "source": [
        "Click on the \"Downloads\" tab, and then click on the CSV data file (highlighted in the image below)."
      ]
    },
    {
      "cell_type": "markdown",
      "metadata": {
        "id": "1-3fGtS-AuB1"
      },
      "source": [
        "![image.png](data:image/png;base64,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)"
      ]
    },
    {
      "cell_type": "markdown",
      "metadata": {
        "id": "pILJgHi8Aw4_"
      },
      "source": [
        "Accept the terms (click \"Accept terms\") and the file will be downloaded to your computer."
      ]
    },
    {
      "cell_type": "markdown",
      "metadata": {
        "id": "37jyjtnaA9bC"
      },
      "source": [
        "After you download the CSV file, scroll down a bit until you see the \"Study Documentation, Questionnaire and Codebooks\" PDF file. Download this file as well."
      ]
    },
    {
      "cell_type": "markdown",
      "metadata": {
        "id": "fhgNpXYR1OkV"
      },
      "source": [
        "To get the data into Colab, run the following cell. Upload the CSV file you just downloaded (`31116396_National2016.csv`) to your Colab workspace. Wait until the uploaded has **completely** finished - it may take a while, depending on the quality of your network connection.\n"
      ]
    },
    {
      "cell_type": "code",
      "metadata": {
        "id": "hxUtDVU7kaJ7",
        "colab": {
          "resources": {
            "http://localhost:8080/nbextensions/google.colab/files.js": {
              "data": "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",
              "ok": true,
              "headers": [
                [
                  "content-type",
                  "application/javascript"
                ]
              ],
              "status": 200,
              "status_text": ""
            }
          },
          "base_uri": "https://localhost:8080/",
          "height": 89
        },
        "outputId": "bbc4f29a-cd48-4644-cf7b-de1cb588b25c"
      },
      "source": [
        "from google.colab import files\n",
        "\n",
        "uploaded = files.upload()\n",
        "\n",
        "for fn in uploaded.keys():\n",
        "  print('User uploaded file \"{name}\" with length {length} bytes'.format(\n",
        "      name=fn, length=len(uploaded[fn])))"
      ],
      "execution_count": null,
      "outputs": [
        {
          "output_type": "display_data",
          "data": {
            "text/html": [
              "\n",
              "     <input type=\"file\" id=\"files-dcda2769-7d4a-4ea1-bf8c-43fe67f46651\" name=\"files[]\" multiple disabled\n",
              "        style=\"border:none\" />\n",
              "     <output id=\"result-dcda2769-7d4a-4ea1-bf8c-43fe67f46651\">\n",
              "      Upload widget is only available when the cell has been executed in the\n",
              "      current browser session. Please rerun this cell to enable.\n",
              "      </output>\n",
              "      <script src=\"/nbextensions/google.colab/files.js\"></script> "
            ],
            "text/plain": [
              "<IPython.core.display.HTML object>"
            ]
          },
          "metadata": {
            "tags": []
          }
        },
        {
          "output_type": "stream",
          "text": [
            "Saving 31116396_National2016.csv to 31116396_National2016.csv\n",
            "User uploaded file \"31116396_National2016.csv\" with length 26283642 bytes\n"
          ],
          "name": "stdout"
        }
      ]
    },
    {
      "cell_type": "markdown",
      "metadata": {
        "id": "QzR_paHRBiMT"
      },
      "source": [
        "Then, use the `read_csv` function in `pandas` to read in the file. \n",
        "\n",
        "Also use `head` to view the first few rows of data and make sure that everything is read in correctly."
      ]
    },
    {
      "cell_type": "code",
      "metadata": {
        "id": "XezJJj5XKo07",
        "colab": {
          "base_uri": "https://localhost:8080/",
          "height": 635
        },
        "outputId": "9126b6e3-35fb-451d-ecbd-0addef09d4e7"
      },
      "source": [
        "df = pd.read_csv('31116396_National2016.csv')\n",
        "df.head()"
      ],
      "execution_count": null,
      "outputs": [
        {
          "output_type": "stream",
          "text": [
            "/usr/local/lib/python3.7/dist-packages/IPython/core/interactiveshell.py:2718: DtypeWarning: Columns (85) have mixed types.Specify dtype option on import or set low_memory=False.\n",
            "  interactivity=interactivity, compiler=compiler, result=result)\n"
          ],
          "name": "stderr"
        },
        {
          "output_type": "execute_result",
          "data": {
            "text/html": [
              "<div>\n",
              "<style scoped>\n",
              "    .dataframe tbody tr th:only-of-type {\n",
              "        vertical-align: middle;\n",
              "    }\n",
              "\n",
              "    .dataframe tbody tr th {\n",
              "        vertical-align: top;\n",
              "    }\n",
              "\n",
              "    .dataframe thead th {\n",
              "        text-align: right;\n",
              "    }\n",
              "</style>\n",
              "<table border=\"1\" class=\"dataframe\">\n",
              "  <thead>\n",
              "    <tr style=\"text-align: right;\">\n",
              "      <th></th>\n",
              "      <th>ID</th>\n",
              "      <th>PRES</th>\n",
              "      <th>HOU</th>\n",
              "      <th>WEIGHT</th>\n",
              "      <th>@2WAYPRES16</th>\n",
              "      <th>AGE</th>\n",
              "      <th>AGE3</th>\n",
              "      <th>AGE8</th>\n",
              "      <th>AGE45</th>\n",
              "      <th>AGE49</th>\n",
              "      <th>AGE60</th>\n",
              "      <th>AGE65</th>\n",
              "      <th>AGEBLACK</th>\n",
              "      <th>AGEBYRACE</th>\n",
              "      <th>AGEBYRACE08</th>\n",
              "      <th>ATTEND16</th>\n",
              "      <th>ATTEND16B</th>\n",
              "      <th>ATTREL</th>\n",
              "      <th>BACKSIDE</th>\n",
              "      <th>BORNCITIZEN</th>\n",
              "      <th>BREAK12</th>\n",
              "      <th>BREAK12A</th>\n",
              "      <th>BREAK12B</th>\n",
              "      <th>BRNAGAIN</th>\n",
              "      <th>CALL</th>\n",
              "      <th>CDNUM</th>\n",
              "      <th>CHIEF16</th>\n",
              "      <th>CLINHONEST</th>\n",
              "      <th>CLINTONEMAIL</th>\n",
              "      <th>CLINTONEMAILB</th>\n",
              "      <th>CLINTONWINGEN</th>\n",
              "      <th>CLINTONWINGENB</th>\n",
              "      <th>COUNT2</th>\n",
              "      <th>COUNTACC</th>\n",
              "      <th>CUBAN3</th>\n",
              "      <th>DESCRIBP12</th>\n",
              "      <th>EDUC12R</th>\n",
              "      <th>EDUCCOLL</th>\n",
              "      <th>EDUCHS</th>\n",
              "      <th>EDUCWHITE</th>\n",
              "      <th>...</th>\n",
              "      <th>RACE2B</th>\n",
              "      <th>RACEAI</th>\n",
              "      <th>REGION</th>\n",
              "      <th>REL4</th>\n",
              "      <th>REL5</th>\n",
              "      <th>RELIGN10</th>\n",
              "      <th>RELWHITE</th>\n",
              "      <th>SEX</th>\n",
              "      <th>SEXBYRACE</th>\n",
              "      <th>SEXWED</th>\n",
              "      <th>SIZEPLAC</th>\n",
              "      <th>SIZEPLC3</th>\n",
              "      <th>SPANISHQ</th>\n",
              "      <th>SPLITTICKET</th>\n",
              "      <th>STANUM</th>\n",
              "      <th>SUBURBWHITE</th>\n",
              "      <th>SUPREME16</th>\n",
              "      <th>SUPREME16B</th>\n",
              "      <th>TELEPOLL</th>\n",
              "      <th>TEMPCLINTON</th>\n",
              "      <th>TEMPERAMENT16</th>\n",
              "      <th>TEMPTRUMP</th>\n",
              "      <th>TIME16</th>\n",
              "      <th>TIME16MONTH</th>\n",
              "      <th>TIME16WEEK</th>\n",
              "      <th>TRACK</th>\n",
              "      <th>TRADE16</th>\n",
              "      <th>TRUMPHONEST</th>\n",
              "      <th>TRUMPWINGEN</th>\n",
              "      <th>TRUMPWINGENB</th>\n",
              "      <th>TRUMPWOMEN</th>\n",
              "      <th>TRUMPWOMENB</th>\n",
              "      <th>UNIONHH12</th>\n",
              "      <th>VERSION</th>\n",
              "      <th>VETVOTER</th>\n",
              "      <th>WHITEREL</th>\n",
              "      <th>WHNCLINC</th>\n",
              "      <th>WHTEVANG</th>\n",
              "      <th>WPROTBRN</th>\n",
              "      <th>WPROTBRN3</th>\n",
              "    </tr>\n",
              "  </thead>\n",
              "  <tbody>\n",
              "    <tr>\n",
              "      <th>0</th>\n",
              "      <td>135355</td>\n",
              "      <td>Hillary Clinton</td>\n",
              "      <td>The Democratic candidate</td>\n",
              "      <td>6.530935</td>\n",
              "      <td></td>\n",
              "      <td>18-29</td>\n",
              "      <td>18-29</td>\n",
              "      <td>18-24</td>\n",
              "      <td>18-44</td>\n",
              "      <td>18-49</td>\n",
              "      <td>18-29</td>\n",
              "      <td>18-24</td>\n",
              "      <td>Non-Black 18-29</td>\n",
              "      <td>Latino 18-29</td>\n",
              "      <td>Latino 18-29</td>\n",
              "      <td></td>\n",
              "      <td></td>\n",
              "      <td></td>\n",
              "      <td>Complete</td>\n",
              "      <td></td>\n",
              "      <td></td>\n",
              "      <td></td>\n",
              "      <td></td>\n",
              "      <td></td>\n",
              "      <td></td>\n",
              "      <td>30</td>\n",
              "      <td></td>\n",
              "      <td></td>\n",
              "      <td></td>\n",
              "      <td></td>\n",
              "      <td></td>\n",
              "      <td></td>\n",
              "      <td></td>\n",
              "      <td></td>\n",
              "      <td></td>\n",
              "      <td></td>\n",
              "      <td>Some college/assoc. degree</td>\n",
              "      <td>No college degree</td>\n",
              "      <td>More than High school graduate</td>\n",
              "      <td>Non white no college degree</td>\n",
              "      <td>...</td>\n",
              "      <td>Non-white</td>\n",
              "      <td>Hispanic/Latino</td>\n",
              "      <td>West</td>\n",
              "      <td></td>\n",
              "      <td></td>\n",
              "      <td></td>\n",
              "      <td></td>\n",
              "      <td>Female</td>\n",
              "      <td>Latino women</td>\n",
              "      <td>Married women</td>\n",
              "      <td>Suburbs</td>\n",
              "      <td>Suburbs</td>\n",
              "      <td>English</td>\n",
              "      <td></td>\n",
              "      <td>California</td>\n",
              "      <td>Other</td>\n",
              "      <td></td>\n",
              "      <td></td>\n",
              "      <td>Telephone survey</td>\n",
              "      <td></td>\n",
              "      <td></td>\n",
              "      <td></td>\n",
              "      <td>In October</td>\n",
              "      <td>In the last month</td>\n",
              "      <td>Before that</td>\n",
              "      <td></td>\n",
              "      <td></td>\n",
              "      <td></td>\n",
              "      <td></td>\n",
              "      <td></td>\n",
              "      <td></td>\n",
              "      <td></td>\n",
              "      <td></td>\n",
              "      <td>Version 1</td>\n",
              "      <td></td>\n",
              "      <td></td>\n",
              "      <td>No</td>\n",
              "      <td></td>\n",
              "      <td></td>\n",
              "      <td></td>\n",
              "    </tr>\n",
              "    <tr>\n",
              "      <th>1</th>\n",
              "      <td>135356</td>\n",
              "      <td>Hillary Clinton</td>\n",
              "      <td>The Democratic candidate</td>\n",
              "      <td>6.479016</td>\n",
              "      <td></td>\n",
              "      <td>18-29</td>\n",
              "      <td>18-29</td>\n",
              "      <td>25-29</td>\n",
              "      <td>18-44</td>\n",
              "      <td>18-49</td>\n",
              "      <td>18-29</td>\n",
              "      <td>25-29</td>\n",
              "      <td>Non-Black 18-29</td>\n",
              "      <td>Latino 18-29</td>\n",
              "      <td>Latino 18-29</td>\n",
              "      <td></td>\n",
              "      <td></td>\n",
              "      <td></td>\n",
              "      <td>Complete</td>\n",
              "      <td></td>\n",
              "      <td></td>\n",
              "      <td></td>\n",
              "      <td></td>\n",
              "      <td></td>\n",
              "      <td></td>\n",
              "      <td>44</td>\n",
              "      <td></td>\n",
              "      <td></td>\n",
              "      <td></td>\n",
              "      <td></td>\n",
              "      <td></td>\n",
              "      <td></td>\n",
              "      <td></td>\n",
              "      <td></td>\n",
              "      <td></td>\n",
              "      <td></td>\n",
              "      <td>College graduate</td>\n",
              "      <td>College graduate</td>\n",
              "      <td>More than High school graduate</td>\n",
              "      <td>Non white college degree</td>\n",
              "      <td>...</td>\n",
              "      <td>Non-white</td>\n",
              "      <td>Hispanic/Latino</td>\n",
              "      <td>West</td>\n",
              "      <td></td>\n",
              "      <td></td>\n",
              "      <td></td>\n",
              "      <td></td>\n",
              "      <td>Male</td>\n",
              "      <td>Latino men</td>\n",
              "      <td>Married men</td>\n",
              "      <td>Suburbs</td>\n",
              "      <td>Suburbs</td>\n",
              "      <td>English</td>\n",
              "      <td></td>\n",
              "      <td>California</td>\n",
              "      <td>Other</td>\n",
              "      <td></td>\n",
              "      <td></td>\n",
              "      <td>Telephone survey</td>\n",
              "      <td></td>\n",
              "      <td></td>\n",
              "      <td></td>\n",
              "      <td>In October</td>\n",
              "      <td>In the last month</td>\n",
              "      <td>Before that</td>\n",
              "      <td></td>\n",
              "      <td></td>\n",
              "      <td></td>\n",
              "      <td></td>\n",
              "      <td></td>\n",
              "      <td></td>\n",
              "      <td></td>\n",
              "      <td></td>\n",
              "      <td>Version 1</td>\n",
              "      <td></td>\n",
              "      <td></td>\n",
              "      <td>No</td>\n",
              "      <td></td>\n",
              "      <td></td>\n",
              "      <td></td>\n",
              "    </tr>\n",
              "    <tr>\n",
              "      <th>2</th>\n",
              "      <td>135357</td>\n",
              "      <td>Hillary Clinton</td>\n",
              "      <td>The Democratic candidate</td>\n",
              "      <td>8.493230</td>\n",
              "      <td></td>\n",
              "      <td>30-44</td>\n",
              "      <td>30-59</td>\n",
              "      <td>30-39</td>\n",
              "      <td>18-44</td>\n",
              "      <td>18-49</td>\n",
              "      <td>30-44</td>\n",
              "      <td>30-39</td>\n",
              "      <td>Non-Black 30-44</td>\n",
              "      <td>All others</td>\n",
              "      <td>All others</td>\n",
              "      <td></td>\n",
              "      <td></td>\n",
              "      <td></td>\n",
              "      <td>Complete</td>\n",
              "      <td></td>\n",
              "      <td></td>\n",
              "      <td></td>\n",
              "      <td></td>\n",
              "      <td></td>\n",
              "      <td></td>\n",
              "      <td>6</td>\n",
              "      <td></td>\n",
              "      <td></td>\n",
              "      <td></td>\n",
              "      <td></td>\n",
              "      <td></td>\n",
              "      <td></td>\n",
              "      <td></td>\n",
              "      <td></td>\n",
              "      <td></td>\n",
              "      <td></td>\n",
              "      <td>College graduate</td>\n",
              "      <td>College graduate</td>\n",
              "      <td>More than High school graduate</td>\n",
              "      <td>Non white college degree</td>\n",
              "      <td>...</td>\n",
              "      <td>Non-white</td>\n",
              "      <td>Asian</td>\n",
              "      <td>West</td>\n",
              "      <td></td>\n",
              "      <td></td>\n",
              "      <td></td>\n",
              "      <td></td>\n",
              "      <td>Male</td>\n",
              "      <td>All other races</td>\n",
              "      <td>Married men</td>\n",
              "      <td>Cities 50,000-500,000</td>\n",
              "      <td>Cities over 50,000</td>\n",
              "      <td>English</td>\n",
              "      <td></td>\n",
              "      <td>California</td>\n",
              "      <td>Other</td>\n",
              "      <td></td>\n",
              "      <td></td>\n",
              "      <td>Telephone survey</td>\n",
              "      <td></td>\n",
              "      <td></td>\n",
              "      <td></td>\n",
              "      <td>In September</td>\n",
              "      <td>Before that</td>\n",
              "      <td>Before that</td>\n",
              "      <td></td>\n",
              "      <td></td>\n",
              "      <td></td>\n",
              "      <td></td>\n",
              "      <td></td>\n",
              "      <td></td>\n",
              "      <td></td>\n",
              "      <td></td>\n",
              "      <td>Version 1</td>\n",
              "      <td></td>\n",
              "      <td></td>\n",
              "      <td>No</td>\n",
              "      <td></td>\n",
              "      <td></td>\n",
              "      <td></td>\n",
              "    </tr>\n",
              "    <tr>\n",
              "      <th>3</th>\n",
              "      <td>135358</td>\n",
              "      <td>Hillary Clinton</td>\n",
              "      <td>The Democratic candidate</td>\n",
              "      <td>3.761814</td>\n",
              "      <td></td>\n",
              "      <td>30-44</td>\n",
              "      <td>30-59</td>\n",
              "      <td>30-39</td>\n",
              "      <td>18-44</td>\n",
              "      <td>18-49</td>\n",
              "      <td>30-44</td>\n",
              "      <td>30-39</td>\n",
              "      <td>Non-Black 30-44</td>\n",
              "      <td>All others</td>\n",
              "      <td>All others</td>\n",
              "      <td></td>\n",
              "      <td></td>\n",
              "      <td></td>\n",
              "      <td>Complete</td>\n",
              "      <td></td>\n",
              "      <td></td>\n",
              "      <td></td>\n",
              "      <td></td>\n",
              "      <td></td>\n",
              "      <td></td>\n",
              "      <td>11</td>\n",
              "      <td></td>\n",
              "      <td></td>\n",
              "      <td></td>\n",
              "      <td></td>\n",
              "      <td></td>\n",
              "      <td></td>\n",
              "      <td></td>\n",
              "      <td></td>\n",
              "      <td></td>\n",
              "      <td></td>\n",
              "      <td>Some college/assoc. degree</td>\n",
              "      <td>No college degree</td>\n",
              "      <td>More than High school graduate</td>\n",
              "      <td>Non white no college degree</td>\n",
              "      <td>...</td>\n",
              "      <td>Non-white</td>\n",
              "      <td>Other</td>\n",
              "      <td>West</td>\n",
              "      <td></td>\n",
              "      <td></td>\n",
              "      <td></td>\n",
              "      <td></td>\n",
              "      <td>Female</td>\n",
              "      <td>All other races</td>\n",
              "      <td>Non married women</td>\n",
              "      <td>Suburbs</td>\n",
              "      <td>Suburbs</td>\n",
              "      <td>English</td>\n",
              "      <td></td>\n",
              "      <td>California</td>\n",
              "      <td>Other</td>\n",
              "      <td></td>\n",
              "      <td></td>\n",
              "      <td>Telephone survey</td>\n",
              "      <td></td>\n",
              "      <td></td>\n",
              "      <td></td>\n",
              "      <td>In the last week</td>\n",
              "      <td>In the last month</td>\n",
              "      <td>In the last week</td>\n",
              "      <td></td>\n",
              "      <td></td>\n",
              "      <td></td>\n",
              "      <td></td>\n",
              "      <td></td>\n",
              "      <td></td>\n",
              "      <td></td>\n",
              "      <td></td>\n",
              "      <td>Version 1</td>\n",
              "      <td></td>\n",
              "      <td></td>\n",
              "      <td>No</td>\n",
              "      <td></td>\n",
              "      <td></td>\n",
              "      <td></td>\n",
              "    </tr>\n",
              "    <tr>\n",
              "      <th>4</th>\n",
              "      <td>135359</td>\n",
              "      <td>Hillary Clinton</td>\n",
              "      <td>The Democratic candidate</td>\n",
              "      <td>3.470473</td>\n",
              "      <td></td>\n",
              "      <td>45-65</td>\n",
              "      <td>30-59</td>\n",
              "      <td>45-49</td>\n",
              "      <td>45+</td>\n",
              "      <td>18-49</td>\n",
              "      <td>45-59</td>\n",
              "      <td>40-49</td>\n",
              "      <td>Black 45-59</td>\n",
              "      <td>Black 45-59</td>\n",
              "      <td>Black 45-64</td>\n",
              "      <td></td>\n",
              "      <td></td>\n",
              "      <td></td>\n",
              "      <td>Complete</td>\n",
              "      <td></td>\n",
              "      <td></td>\n",
              "      <td></td>\n",
              "      <td></td>\n",
              "      <td></td>\n",
              "      <td></td>\n",
              "      <td>37</td>\n",
              "      <td></td>\n",
              "      <td></td>\n",
              "      <td></td>\n",
              "      <td></td>\n",
              "      <td></td>\n",
              "      <td></td>\n",
              "      <td></td>\n",
              "      <td></td>\n",
              "      <td></td>\n",
              "      <td></td>\n",
              "      <td>Postgraduate study</td>\n",
              "      <td>College graduate</td>\n",
              "      <td>More than High school graduate</td>\n",
              "      <td>Non white college degree</td>\n",
              "      <td>...</td>\n",
              "      <td>Non-white</td>\n",
              "      <td>Black</td>\n",
              "      <td>West</td>\n",
              "      <td></td>\n",
              "      <td></td>\n",
              "      <td></td>\n",
              "      <td></td>\n",
              "      <td>Female</td>\n",
              "      <td>Black women</td>\n",
              "      <td>Non married women</td>\n",
              "      <td>Cities over 500,000</td>\n",
              "      <td>Cities over 50,000</td>\n",
              "      <td>English</td>\n",
              "      <td></td>\n",
              "      <td>California</td>\n",
              "      <td>Other</td>\n",
              "      <td></td>\n",
              "      <td></td>\n",
              "      <td>Telephone survey</td>\n",
              "      <td></td>\n",
              "      <td></td>\n",
              "      <td></td>\n",
              "      <td>Before that</td>\n",
              "      <td>Before that</td>\n",
              "      <td>Before that</td>\n",
              "      <td></td>\n",
              "      <td></td>\n",
              "      <td></td>\n",
              "      <td></td>\n",
              "      <td></td>\n",
              "      <td></td>\n",
              "      <td></td>\n",
              "      <td></td>\n",
              "      <td>Version 1</td>\n",
              "      <td></td>\n",
              "      <td></td>\n",
              "      <td>No</td>\n",
              "      <td></td>\n",
              "      <td></td>\n",
              "      <td></td>\n",
              "    </tr>\n",
              "  </tbody>\n",
              "</table>\n",
              "<p>5 rows × 138 columns</p>\n",
              "</div>"
            ],
            "text/plain": [
              "       ID             PRES  ... WPROTBRN  WPROTBRN3\n",
              "0  135355  Hillary Clinton  ...                    \n",
              "1  135356  Hillary Clinton  ...                    \n",
              "2  135357  Hillary Clinton  ...                    \n",
              "3  135358  Hillary Clinton  ...                    \n",
              "4  135359  Hillary Clinton  ...                    \n",
              "\n",
              "[5 rows x 138 columns]"
            ]
          },
          "metadata": {
            "tags": []
          },
          "execution_count": 5
        }
      ]
    },
    {
      "cell_type": "markdown",
      "metadata": {
        "id": "8aNl-tr1B1cF"
      },
      "source": [
        "## Prepare data"
      ]
    },
    {
      "cell_type": "markdown",
      "metadata": {
        "id": "FnNebgHH4Qu0"
      },
      "source": [
        "Survey data can be tricky to work with, because surveys often \"branch\"; the questions that are asked depends on a respondent's answers to other questions.\n",
        "\n",
        "In this case, different respondents fill out different versions of the survey. \n",
        "\n"
      ]
    },
    {
      "cell_type": "markdown",
      "metadata": {
        "id": "FiD_OkOJZ5wd"
      },
      "source": [
        "\n",
        "Review pages 7-11 of the \"Study Documentation, Questionnaire, and Codebooks\" PDF file you downloaded earlier, which shows the five different questionnaire versions used for the 2016 exit polls. \n",
        "\n"
      ]
    },
    {
      "cell_type": "markdown",
      "metadata": {
        "id": "5MX9JtIIadty"
      },
      "source": [
        "![Exit poll versions](https://raw.githubusercontent.com/ffund/ml-notebooks/master/notebooks/images/exit-poll-survey-versions.png)"
      ]
    },
    {
      "cell_type": "code",
      "metadata": {
        "id": "UJf2mQkJ5aBd",
        "colab": {
          "base_uri": "https://localhost:8080/"
        },
        "outputId": "2064ed33-92f4-411e-c129-369dd80bf099"
      },
      "source": [
        "df['VERSION'].value_counts()"
      ],
      "execution_count": null,
      "outputs": [
        {
          "output_type": "execute_result",
          "data": {
            "text/plain": [
              "Version 2    5126\n",
              "Version 1    5094\n",
              "Version 3    4980\n",
              "Version 4    4919\n",
              "Version 5    4915\n",
              "Name: VERSION, dtype: int64"
            ]
          },
          "metadata": {
            "tags": []
          },
          "execution_count": 6
        }
      ]
    },
    {
      "cell_type": "markdown",
      "metadata": {
        "id": "5hGGDEeqbTHM"
      },
      "source": [
        "In a red box next to each question, you can also see the name of the variable (column name) that the respondent's answer will be stored in."
      ]
    },
    {
      "cell_type": "markdown",
      "metadata": {
        "id": "vPUNvxaH2TKE"
      },
      "source": [
        "Because each respondent answers different questions, for each row in the data, only some of the columns - the columns corresponding to questions included in that version of the survey - have data."
      ]
    },
    {
      "cell_type": "markdown",
      "metadata": {
        "id": "tCttS8qK3kG_"
      },
      "source": [
        "### Missing data"
      ]
    },
    {
      "cell_type": "markdown",
      "metadata": {
        "id": "w7qAUxps78QN"
      },
      "source": [
        "Since each respondent only saw a subset of questions, we expect to see missing values in each column.\n",
        "\n",
        "However, if we look at the **count** of values in each column, we see that there are no missing values - every column has the full count!"
      ]
    },
    {
      "cell_type": "code",
      "metadata": {
        "id": "2ZWlPoPH5L8U",
        "colab": {
          "base_uri": "https://localhost:8080/",
          "height": 511
        },
        "outputId": "c6ec7420-a70a-47aa-fe9a-cb57eeccad7d"
      },
      "source": [
        "df.describe(include='all')"
      ],
      "execution_count": null,
      "outputs": [
        {
          "output_type": "execute_result",
          "data": {
            "text/html": [
              "<div>\n",
              "<style scoped>\n",
              "    .dataframe tbody tr th:only-of-type {\n",
              "        vertical-align: middle;\n",
              "    }\n",
              "\n",
              "    .dataframe tbody tr th {\n",
              "        vertical-align: top;\n",
              "    }\n",
              "\n",
              "    .dataframe thead th {\n",
              "        text-align: right;\n",
              "    }\n",
              "</style>\n",
              "<table border=\"1\" class=\"dataframe\">\n",
              "  <thead>\n",
              "    <tr style=\"text-align: right;\">\n",
              "      <th></th>\n",
              "      <th>ID</th>\n",
              "      <th>PRES</th>\n",
              "      <th>HOU</th>\n",
              "      <th>WEIGHT</th>\n",
              "      <th>@2WAYPRES16</th>\n",
              "      <th>AGE</th>\n",
              "      <th>AGE3</th>\n",
              "      <th>AGE8</th>\n",
              "      <th>AGE45</th>\n",
              "      <th>AGE49</th>\n",
              "      <th>AGE60</th>\n",
              "      <th>AGE65</th>\n",
              "      <th>AGEBLACK</th>\n",
              "      <th>AGEBYRACE</th>\n",
              "      <th>AGEBYRACE08</th>\n",
              "      <th>ATTEND16</th>\n",
              "      <th>ATTEND16B</th>\n",
              "      <th>ATTREL</th>\n",
              "      <th>BACKSIDE</th>\n",
              "      <th>BORNCITIZEN</th>\n",
              "      <th>BREAK12</th>\n",
              "      <th>BREAK12A</th>\n",
              "      <th>BREAK12B</th>\n",
              "      <th>BRNAGAIN</th>\n",
              "      <th>CALL</th>\n",
              "      <th>CDNUM</th>\n",
              "      <th>CHIEF16</th>\n",
              "      <th>CLINHONEST</th>\n",
              "      <th>CLINTONEMAIL</th>\n",
              "      <th>CLINTONEMAILB</th>\n",
              "      <th>CLINTONWINGEN</th>\n",
              "      <th>CLINTONWINGENB</th>\n",
              "      <th>COUNT2</th>\n",
              "      <th>COUNTACC</th>\n",
              "      <th>CUBAN3</th>\n",
              "      <th>DESCRIBP12</th>\n",
              "      <th>EDUC12R</th>\n",
              "      <th>EDUCCOLL</th>\n",
              "      <th>EDUCHS</th>\n",
              "      <th>EDUCWHITE</th>\n",
              "      <th>...</th>\n",
              "      <th>RACE2B</th>\n",
              "      <th>RACEAI</th>\n",
              "      <th>REGION</th>\n",
              "      <th>REL4</th>\n",
              "      <th>REL5</th>\n",
              "      <th>RELIGN10</th>\n",
              "      <th>RELWHITE</th>\n",
              "      <th>SEX</th>\n",
              "      <th>SEXBYRACE</th>\n",
              "      <th>SEXWED</th>\n",
              "      <th>SIZEPLAC</th>\n",
              "      <th>SIZEPLC3</th>\n",
              "      <th>SPANISHQ</th>\n",
              "      <th>SPLITTICKET</th>\n",
              "      <th>STANUM</th>\n",
              "      <th>SUBURBWHITE</th>\n",
              "      <th>SUPREME16</th>\n",
              "      <th>SUPREME16B</th>\n",
              "      <th>TELEPOLL</th>\n",
              "      <th>TEMPCLINTON</th>\n",
              "      <th>TEMPERAMENT16</th>\n",
              "      <th>TEMPTRUMP</th>\n",
              "      <th>TIME16</th>\n",
              "      <th>TIME16MONTH</th>\n",
              "      <th>TIME16WEEK</th>\n",
              "      <th>TRACK</th>\n",
              "      <th>TRADE16</th>\n",
              "      <th>TRUMPHONEST</th>\n",
              "      <th>TRUMPWINGEN</th>\n",
              "      <th>TRUMPWINGENB</th>\n",
              "      <th>TRUMPWOMEN</th>\n",
              "      <th>TRUMPWOMENB</th>\n",
              "      <th>UNIONHH12</th>\n",
              "      <th>VERSION</th>\n",
              "      <th>VETVOTER</th>\n",
              "      <th>WHITEREL</th>\n",
              "      <th>WHNCLINC</th>\n",
              "      <th>WHTEVANG</th>\n",
              "      <th>WPROTBRN</th>\n",
              "      <th>WPROTBRN3</th>\n",
              "    </tr>\n",
              "  </thead>\n",
              "  <tbody>\n",
              "    <tr>\n",
              "      <th>count</th>\n",
              "      <td>25034.000000</td>\n",
              "      <td>25034</td>\n",
              "      <td>25034</td>\n",
              "      <td>25034.000000</td>\n",
              "      <td>25034</td>\n",
              "      <td>25034</td>\n",
              "      <td>25034</td>\n",
              "      <td>25034</td>\n",
              "      <td>25034</td>\n",
              "      <td>25034</td>\n",
              "      <td>25034</td>\n",
              "      <td>25034</td>\n",
              "      <td>25034</td>\n",
              "      <td>25034</td>\n",
              "      <td>25034</td>\n",
              "      <td>25034</td>\n",
              "      <td>25034</td>\n",
              "      <td>25034</td>\n",
              "      <td>25034</td>\n",
              "      <td>25034</td>\n",
              "      <td>25034</td>\n",
              "      <td>25034</td>\n",
              "      <td>25034</td>\n",
              "      <td>25034</td>\n",
              "      <td>25034</td>\n",
              "      <td>25034.000000</td>\n",
              "      <td>25034</td>\n",
              "      <td>25034</td>\n",
              "      <td>25034</td>\n",
              "      <td>25034</td>\n",
              "      <td>25034</td>\n",
              "      <td>25034</td>\n",
              "      <td>25034</td>\n",
              "      <td>25034</td>\n",
              "      <td>25034</td>\n",
              "      <td>25034</td>\n",
              "      <td>25034</td>\n",
              "      <td>25034</td>\n",
              "      <td>25034</td>\n",
              "      <td>25034</td>\n",
              "      <td>...</td>\n",
              "      <td>25034</td>\n",
              "      <td>25034</td>\n",
              "      <td>25034</td>\n",
              "      <td>25034</td>\n",
              "      <td>25034</td>\n",
              "      <td>25034</td>\n",
              "      <td>25034</td>\n",
              "      <td>25034</td>\n",
              "      <td>25034</td>\n",
              "      <td>25034</td>\n",
              "      <td>25034</td>\n",
              "      <td>25034</td>\n",
              "      <td>25034</td>\n",
              "      <td>25034</td>\n",
              "      <td>25034</td>\n",
              "      <td>25034</td>\n",
              "      <td>25034</td>\n",
              "      <td>25034</td>\n",
              "      <td>25034</td>\n",
              "      <td>25034</td>\n",
              "      <td>25034</td>\n",
              "      <td>25034</td>\n",
              "      <td>25034</td>\n",
              "      <td>25034</td>\n",
              "      <td>25034</td>\n",
              "      <td>25034</td>\n",
              "      <td>25034</td>\n",
              "      <td>25034</td>\n",
              "      <td>25034</td>\n",
              "      <td>25034</td>\n",
              "      <td>25034</td>\n",
              "      <td>25034</td>\n",
              "      <td>25034</td>\n",
              "      <td>25034</td>\n",
              "      <td>25034</td>\n",
              "      <td>25034</td>\n",
              "      <td>25034</td>\n",
              "      <td>25034</td>\n",
              "      <td>25034</td>\n",
              "      <td>25034</td>\n",
              "    </tr>\n",
              "    <tr>\n",
              "      <th>unique</th>\n",
              "      <td>NaN</td>\n",
              "      <td>7</td>\n",
              "      <td>5</td>\n",
              "      <td>NaN</td>\n",
              "      <td>5</td>\n",
              "      <td>5</td>\n",
              "      <td>4</td>\n",
              "      <td>9</td>\n",
              "      <td>3</td>\n",
              "      <td>3</td>\n",
              "      <td>5</td>\n",
              "      <td>7</td>\n",
              "      <td>9</td>\n",
              "      <td>14</td>\n",
              "      <td>14</td>\n",
              "      <td>5</td>\n",
              "      <td>3</td>\n",
              "      <td>6</td>\n",
              "      <td>2</td>\n",
              "      <td>3</td>\n",
              "      <td>6</td>\n",
              "      <td>4</td>\n",
              "      <td>4</td>\n",
              "      <td>3</td>\n",
              "      <td>4</td>\n",
              "      <td>NaN</td>\n",
              "      <td>4</td>\n",
              "      <td>4</td>\n",
              "      <td>6</td>\n",
              "      <td>4</td>\n",
              "      <td>6</td>\n",
              "      <td>4</td>\n",
              "      <td>4</td>\n",
              "      <td>6</td>\n",
              "      <td>4</td>\n",
              "      <td>5</td>\n",
              "      <td>5</td>\n",
              "      <td>3</td>\n",
              "      <td>3</td>\n",
              "      <td>5</td>\n",
              "      <td>...</td>\n",
              "      <td>3</td>\n",
              "      <td>7</td>\n",
              "      <td>4</td>\n",
              "      <td>5</td>\n",
              "      <td>6</td>\n",
              "      <td>9</td>\n",
              "      <td>6</td>\n",
              "      <td>3</td>\n",
              "      <td>8</td>\n",
              "      <td>5</td>\n",
              "      <td>5</td>\n",
              "      <td>3</td>\n",
              "      <td>3</td>\n",
              "      <td>6</td>\n",
              "      <td>51</td>\n",
              "      <td>4</td>\n",
              "      <td>6</td>\n",
              "      <td>4</td>\n",
              "      <td>2</td>\n",
              "      <td>4</td>\n",
              "      <td>6</td>\n",
              "      <td>4</td>\n",
              "      <td>7</td>\n",
              "      <td>4</td>\n",
              "      <td>4</td>\n",
              "      <td>4</td>\n",
              "      <td>5</td>\n",
              "      <td>4</td>\n",
              "      <td>6</td>\n",
              "      <td>4</td>\n",
              "      <td>6</td>\n",
              "      <td>4</td>\n",
              "      <td>3</td>\n",
              "      <td>5</td>\n",
              "      <td>3</td>\n",
              "      <td>7</td>\n",
              "      <td>3</td>\n",
              "      <td>3</td>\n",
              "      <td>3</td>\n",
              "      <td>4</td>\n",
              "    </tr>\n",
              "    <tr>\n",
              "      <th>top</th>\n",
              "      <td>NaN</td>\n",
              "      <td>Hillary Clinton</td>\n",
              "      <td>The Democratic candidate</td>\n",
              "      <td>NaN</td>\n",
              "      <td></td>\n",
              "      <td>45-65</td>\n",
              "      <td>30-59</td>\n",
              "      <td>50-59</td>\n",
              "      <td>45+</td>\n",
              "      <td>18-49</td>\n",
              "      <td>45-59</td>\n",
              "      <td>50-64</td>\n",
              "      <td>Non-Black 45-59</td>\n",
              "      <td>White 60+</td>\n",
              "      <td>White 45-64</td>\n",
              "      <td></td>\n",
              "      <td></td>\n",
              "      <td></td>\n",
              "      <td>Complete</td>\n",
              "      <td></td>\n",
              "      <td></td>\n",
              "      <td></td>\n",
              "      <td></td>\n",
              "      <td></td>\n",
              "      <td>Call 1</td>\n",
              "      <td>NaN</td>\n",
              "      <td></td>\n",
              "      <td></td>\n",
              "      <td></td>\n",
              "      <td></td>\n",
              "      <td></td>\n",
              "      <td></td>\n",
              "      <td></td>\n",
              "      <td></td>\n",
              "      <td></td>\n",
              "      <td></td>\n",
              "      <td>Some college/assoc. degree</td>\n",
              "      <td>No college degree</td>\n",
              "      <td>More than High school graduate</td>\n",
              "      <td>White college degree</td>\n",
              "      <td>...</td>\n",
              "      <td>White</td>\n",
              "      <td>White</td>\n",
              "      <td>South</td>\n",
              "      <td></td>\n",
              "      <td></td>\n",
              "      <td></td>\n",
              "      <td></td>\n",
              "      <td>Female</td>\n",
              "      <td>White women</td>\n",
              "      <td></td>\n",
              "      <td>Suburbs</td>\n",
              "      <td>Suburbs</td>\n",
              "      <td></td>\n",
              "      <td></td>\n",
              "      <td>California</td>\n",
              "      <td>Other</td>\n",
              "      <td></td>\n",
              "      <td></td>\n",
              "      <td>Election day exit poll</td>\n",
              "      <td></td>\n",
              "      <td></td>\n",
              "      <td></td>\n",
              "      <td></td>\n",
              "      <td></td>\n",
              "      <td></td>\n",
              "      <td></td>\n",
              "      <td></td>\n",
              "      <td></td>\n",
              "      <td></td>\n",
              "      <td></td>\n",
              "      <td></td>\n",
              "      <td></td>\n",
              "      <td></td>\n",
              "      <td>Version 2</td>\n",
              "      <td></td>\n",
              "      <td></td>\n",
              "      <td></td>\n",
              "      <td></td>\n",
              "      <td></td>\n",
              "      <td></td>\n",
              "    </tr>\n",
              "    <tr>\n",
              "      <th>freq</th>\n",
              "      <td>NaN</td>\n",
              "      <td>12126</td>\n",
              "      <td>12041</td>\n",
              "      <td>NaN</td>\n",
              "      <td>15568</td>\n",
              "      <td>9746</td>\n",
              "      <td>13697</td>\n",
              "      <td>5071</td>\n",
              "      <td>14436</td>\n",
              "      <td>12836</td>\n",
              "      <td>7490</td>\n",
              "      <td>7327</td>\n",
              "      <td>6438</td>\n",
              "      <td>5562</td>\n",
              "      <td>7050</td>\n",
              "      <td>20387</td>\n",
              "      <td>20387</td>\n",
              "      <td>20894</td>\n",
              "      <td>24253</td>\n",
              "      <td>20164</td>\n",
              "      <td>20786</td>\n",
              "      <td>20786</td>\n",
              "      <td>20786</td>\n",
              "      <td>20284</td>\n",
              "      <td>7143</td>\n",
              "      <td>NaN</td>\n",
              "      <td>20251</td>\n",
              "      <td>20058</td>\n",
              "      <td>20284</td>\n",
              "      <td>20284</td>\n",
              "      <td>20251</td>\n",
              "      <td>20251</td>\n",
              "      <td>20284</td>\n",
              "      <td>20284</td>\n",
              "      <td>23788</td>\n",
              "      <td>20058</td>\n",
              "      <td>7835</td>\n",
              "      <td>11959</td>\n",
              "      <td>19783</td>\n",
              "      <td>8812</td>\n",
              "      <td>...</td>\n",
              "      <td>17536</td>\n",
              "      <td>14800</td>\n",
              "      <td>7246</td>\n",
              "      <td>16656</td>\n",
              "      <td>16656</td>\n",
              "      <td>16656</td>\n",
              "      <td>19142</td>\n",
              "      <td>13742</td>\n",
              "      <td>9491</td>\n",
              "      <td>15409</td>\n",
              "      <td>11966</td>\n",
              "      <td>11966</td>\n",
              "      <td>17385</td>\n",
              "      <td>11812</td>\n",
              "      <td>2559</td>\n",
              "      <td>16333</td>\n",
              "      <td>20119</td>\n",
              "      <td>20119</td>\n",
              "      <td>20660</td>\n",
              "      <td>20058</td>\n",
              "      <td>20058</td>\n",
              "      <td>20058</td>\n",
              "      <td>20123</td>\n",
              "      <td>20123</td>\n",
              "      <td>20123</td>\n",
              "      <td>20284</td>\n",
              "      <td>20054</td>\n",
              "      <td>20058</td>\n",
              "      <td>20251</td>\n",
              "      <td>20251</td>\n",
              "      <td>20284</td>\n",
              "      <td>20284</td>\n",
              "      <td>20324</td>\n",
              "      <td>5126</td>\n",
              "      <td>20387</td>\n",
              "      <td>16441</td>\n",
              "      <td>15521</td>\n",
              "      <td>20137</td>\n",
              "      <td>20503</td>\n",
              "      <td>22181</td>\n",
              "    </tr>\n",
              "    <tr>\n",
              "      <th>mean</th>\n",
              "      <td>188663.858712</td>\n",
              "      <td>NaN</td>\n",
              "      <td>NaN</td>\n",
              "      <td>1.003016</td>\n",
              "      <td>NaN</td>\n",
              "      <td>NaN</td>\n",
              "      <td>NaN</td>\n",
              "      <td>NaN</td>\n",
              "      <td>NaN</td>\n",
              "      <td>NaN</td>\n",
              "      <td>NaN</td>\n",
              "      <td>NaN</td>\n",
              "      <td>NaN</td>\n",
              "      <td>NaN</td>\n",
              "      <td>NaN</td>\n",
              "      <td>NaN</td>\n",
              "      <td>NaN</td>\n",
              "      <td>NaN</td>\n",
              "      <td>NaN</td>\n",
              "      <td>NaN</td>\n",
              "      <td>NaN</td>\n",
              "      <td>NaN</td>\n",
              "      <td>NaN</td>\n",
              "      <td>NaN</td>\n",
              "      <td>NaN</td>\n",
              "      <td>8.672246</td>\n",
              "      <td>NaN</td>\n",
              "      <td>NaN</td>\n",
              "      <td>NaN</td>\n",
              "      <td>NaN</td>\n",
              "      <td>NaN</td>\n",
              "      <td>NaN</td>\n",
              "      <td>NaN</td>\n",
              "      <td>NaN</td>\n",
              "      <td>NaN</td>\n",
              "      <td>NaN</td>\n",
              "      <td>NaN</td>\n",
              "      <td>NaN</td>\n",
              "      <td>NaN</td>\n",
              "      <td>NaN</td>\n",
              "      <td>...</td>\n",
              "      <td>NaN</td>\n",
              "      <td>NaN</td>\n",
              "      <td>NaN</td>\n",
              "      <td>NaN</td>\n",
              "      <td>NaN</td>\n",
              "      <td>NaN</td>\n",
              "      <td>NaN</td>\n",
              "      <td>NaN</td>\n",
              "      <td>NaN</td>\n",
              "      <td>NaN</td>\n",
              "      <td>NaN</td>\n",
              "      <td>NaN</td>\n",
              "      <td>NaN</td>\n",
              "      <td>NaN</td>\n",
              "      <td>NaN</td>\n",
              "      <td>NaN</td>\n",
              "      <td>NaN</td>\n",
              "      <td>NaN</td>\n",
              "      <td>NaN</td>\n",
              "      <td>NaN</td>\n",
              "      <td>NaN</td>\n",
              "      <td>NaN</td>\n",
              "      <td>NaN</td>\n",
              "      <td>NaN</td>\n",
              "      <td>NaN</td>\n",
              "      <td>NaN</td>\n",
              "      <td>NaN</td>\n",
              "      <td>NaN</td>\n",
              "      <td>NaN</td>\n",
              "      <td>NaN</td>\n",
              "      <td>NaN</td>\n",
              "      <td>NaN</td>\n",
              "      <td>NaN</td>\n",
              "      <td>NaN</td>\n",
              "      <td>NaN</td>\n",
              "      <td>NaN</td>\n",
              "      <td>NaN</td>\n",
              "      <td>NaN</td>\n",
              "      <td>NaN</td>\n",
              "      <td>NaN</td>\n",
              "    </tr>\n",
              "    <tr>\n",
              "      <th>std</th>\n",
              "      <td>27829.369563</td>\n",
              "      <td>NaN</td>\n",
              "      <td>NaN</td>\n",
              "      <td>1.065169</td>\n",
              "      <td>NaN</td>\n",
              "      <td>NaN</td>\n",
              "      <td>NaN</td>\n",
              "      <td>NaN</td>\n",
              "      <td>NaN</td>\n",
              "      <td>NaN</td>\n",
              "      <td>NaN</td>\n",
              "      <td>NaN</td>\n",
              "      <td>NaN</td>\n",
              "      <td>NaN</td>\n",
              "      <td>NaN</td>\n",
              "      <td>NaN</td>\n",
              "      <td>NaN</td>\n",
              "      <td>NaN</td>\n",
              "      <td>NaN</td>\n",
              "      <td>NaN</td>\n",
              "      <td>NaN</td>\n",
              "      <td>NaN</td>\n",
              "      <td>NaN</td>\n",
              "      <td>NaN</td>\n",
              "      <td>NaN</td>\n",
              "      <td>9.941176</td>\n",
              "      <td>NaN</td>\n",
              "      <td>NaN</td>\n",
              "      <td>NaN</td>\n",
              "      <td>NaN</td>\n",
              "      <td>NaN</td>\n",
              "      <td>NaN</td>\n",
              "      <td>NaN</td>\n",
              "      <td>NaN</td>\n",
              "      <td>NaN</td>\n",
              "      <td>NaN</td>\n",
              "      <td>NaN</td>\n",
              "      <td>NaN</td>\n",
              "      <td>NaN</td>\n",
              "      <td>NaN</td>\n",
              "      <td>...</td>\n",
              "      <td>NaN</td>\n",
              "      <td>NaN</td>\n",
              "      <td>NaN</td>\n",
              "      <td>NaN</td>\n",
              "      <td>NaN</td>\n",
              "      <td>NaN</td>\n",
              "      <td>NaN</td>\n",
              "      <td>NaN</td>\n",
              "      <td>NaN</td>\n",
              "      <td>NaN</td>\n",
              "      <td>NaN</td>\n",
              "      <td>NaN</td>\n",
              "      <td>NaN</td>\n",
              "      <td>NaN</td>\n",
              "      <td>NaN</td>\n",
              "      <td>NaN</td>\n",
              "      <td>NaN</td>\n",
              "      <td>NaN</td>\n",
              "      <td>NaN</td>\n",
              "      <td>NaN</td>\n",
              "      <td>NaN</td>\n",
              "      <td>NaN</td>\n",
              "      <td>NaN</td>\n",
              "      <td>NaN</td>\n",
              "      <td>NaN</td>\n",
              "      <td>NaN</td>\n",
              "      <td>NaN</td>\n",
              "      <td>NaN</td>\n",
              "      <td>NaN</td>\n",
              "      <td>NaN</td>\n",
              "      <td>NaN</td>\n",
              "      <td>NaN</td>\n",
              "      <td>NaN</td>\n",
              "      <td>NaN</td>\n",
              "      <td>NaN</td>\n",
              "      <td>NaN</td>\n",
              "      <td>NaN</td>\n",
              "      <td>NaN</td>\n",
              "      <td>NaN</td>\n",
              "      <td>NaN</td>\n",
              "    </tr>\n",
              "    <tr>\n",
              "      <th>min</th>\n",
              "      <td>135355.000000</td>\n",
              "      <td>NaN</td>\n",
              "      <td>NaN</td>\n",
              "      <td>0.047442</td>\n",
              "      <td>NaN</td>\n",
              "      <td>NaN</td>\n",
              "      <td>NaN</td>\n",
              "      <td>NaN</td>\n",
              "      <td>NaN</td>\n",
              "      <td>NaN</td>\n",
              "      <td>NaN</td>\n",
              "      <td>NaN</td>\n",
              "      <td>NaN</td>\n",
              "      <td>NaN</td>\n",
              "      <td>NaN</td>\n",
              "      <td>NaN</td>\n",
              "      <td>NaN</td>\n",
              "      <td>NaN</td>\n",
              "      <td>NaN</td>\n",
              "      <td>NaN</td>\n",
              "      <td>NaN</td>\n",
              "      <td>NaN</td>\n",
              "      <td>NaN</td>\n",
              "      <td>NaN</td>\n",
              "      <td>NaN</td>\n",
              "      <td>1.000000</td>\n",
              "      <td>NaN</td>\n",
              "      <td>NaN</td>\n",
              "      <td>NaN</td>\n",
              "      <td>NaN</td>\n",
              "      <td>NaN</td>\n",
              "      <td>NaN</td>\n",
              "      <td>NaN</td>\n",
              "      <td>NaN</td>\n",
              "      <td>NaN</td>\n",
              "      <td>NaN</td>\n",
              "      <td>NaN</td>\n",
              "      <td>NaN</td>\n",
              "      <td>NaN</td>\n",
              "      <td>NaN</td>\n",
              "      <td>...</td>\n",
              "      <td>NaN</td>\n",
              "      <td>NaN</td>\n",
              "      <td>NaN</td>\n",
              "      <td>NaN</td>\n",
              "      <td>NaN</td>\n",
              "      <td>NaN</td>\n",
              "      <td>NaN</td>\n",
              "      <td>NaN</td>\n",
              "      <td>NaN</td>\n",
              "      <td>NaN</td>\n",
              "      <td>NaN</td>\n",
              "      <td>NaN</td>\n",
              "      <td>NaN</td>\n",
              "      <td>NaN</td>\n",
              "      <td>NaN</td>\n",
              "      <td>NaN</td>\n",
              "      <td>NaN</td>\n",
              "      <td>NaN</td>\n",
              "      <td>NaN</td>\n",
              "      <td>NaN</td>\n",
              "      <td>NaN</td>\n",
              "      <td>NaN</td>\n",
              "      <td>NaN</td>\n",
              "      <td>NaN</td>\n",
              "      <td>NaN</td>\n",
              "      <td>NaN</td>\n",
              "      <td>NaN</td>\n",
              "      <td>NaN</td>\n",
              "      <td>NaN</td>\n",
              "      <td>NaN</td>\n",
              "      <td>NaN</td>\n",
              "      <td>NaN</td>\n",
              "      <td>NaN</td>\n",
              "      <td>NaN</td>\n",
              "      <td>NaN</td>\n",
              "      <td>NaN</td>\n",
              "      <td>NaN</td>\n",
              "      <td>NaN</td>\n",
              "      <td>NaN</td>\n",
              "      <td>NaN</td>\n",
              "    </tr>\n",
              "    <tr>\n",
              "      <th>25%</th>\n",
              "      <td>175885.250000</td>\n",
              "      <td>NaN</td>\n",
              "      <td>NaN</td>\n",
              "      <td>0.525367</td>\n",
              "      <td>NaN</td>\n",
              "      <td>NaN</td>\n",
              "      <td>NaN</td>\n",
              "      <td>NaN</td>\n",
              "      <td>NaN</td>\n",
              "      <td>NaN</td>\n",
              "      <td>NaN</td>\n",
              "      <td>NaN</td>\n",
              "      <td>NaN</td>\n",
              "      <td>NaN</td>\n",
              "      <td>NaN</td>\n",
              "      <td>NaN</td>\n",
              "      <td>NaN</td>\n",
              "      <td>NaN</td>\n",
              "      <td>NaN</td>\n",
              "      <td>NaN</td>\n",
              "      <td>NaN</td>\n",
              "      <td>NaN</td>\n",
              "      <td>NaN</td>\n",
              "      <td>NaN</td>\n",
              "      <td>NaN</td>\n",
              "      <td>2.000000</td>\n",
              "      <td>NaN</td>\n",
              "      <td>NaN</td>\n",
              "      <td>NaN</td>\n",
              "      <td>NaN</td>\n",
              "      <td>NaN</td>\n",
              "      <td>NaN</td>\n",
              "      <td>NaN</td>\n",
              "      <td>NaN</td>\n",
              "      <td>NaN</td>\n",
              "      <td>NaN</td>\n",
              "      <td>NaN</td>\n",
              "      <td>NaN</td>\n",
              "      <td>NaN</td>\n",
              "      <td>NaN</td>\n",
              "      <td>...</td>\n",
              "      <td>NaN</td>\n",
              "      <td>NaN</td>\n",
              "      <td>NaN</td>\n",
              "      <td>NaN</td>\n",
              "      <td>NaN</td>\n",
              "      <td>NaN</td>\n",
              "      <td>NaN</td>\n",
              "      <td>NaN</td>\n",
              "      <td>NaN</td>\n",
              "      <td>NaN</td>\n",
              "      <td>NaN</td>\n",
              "      <td>NaN</td>\n",
              "      <td>NaN</td>\n",
              "      <td>NaN</td>\n",
              "      <td>NaN</td>\n",
              "      <td>NaN</td>\n",
              "      <td>NaN</td>\n",
              "      <td>NaN</td>\n",
              "      <td>NaN</td>\n",
              "      <td>NaN</td>\n",
              "      <td>NaN</td>\n",
              "      <td>NaN</td>\n",
              "      <td>NaN</td>\n",
              "      <td>NaN</td>\n",
              "      <td>NaN</td>\n",
              "      <td>NaN</td>\n",
              "      <td>NaN</td>\n",
              "      <td>NaN</td>\n",
              "      <td>NaN</td>\n",
              "      <td>NaN</td>\n",
              "      <td>NaN</td>\n",
              "      <td>NaN</td>\n",
              "      <td>NaN</td>\n",
              "      <td>NaN</td>\n",
              "      <td>NaN</td>\n",
              "      <td>NaN</td>\n",
              "      <td>NaN</td>\n",
              "      <td>NaN</td>\n",
              "      <td>NaN</td>\n",
              "      <td>NaN</td>\n",
              "    </tr>\n",
              "    <tr>\n",
              "      <th>50%</th>\n",
              "      <td>193824.500000</td>\n",
              "      <td>NaN</td>\n",
              "      <td>NaN</td>\n",
              "      <td>0.745491</td>\n",
              "      <td>NaN</td>\n",
              "      <td>NaN</td>\n",
              "      <td>NaN</td>\n",
              "      <td>NaN</td>\n",
              "      <td>NaN</td>\n",
              "      <td>NaN</td>\n",
              "      <td>NaN</td>\n",
              "      <td>NaN</td>\n",
              "      <td>NaN</td>\n",
              "      <td>NaN</td>\n",
              "      <td>NaN</td>\n",
              "      <td>NaN</td>\n",
              "      <td>NaN</td>\n",
              "      <td>NaN</td>\n",
              "      <td>NaN</td>\n",
              "      <td>NaN</td>\n",
              "      <td>NaN</td>\n",
              "      <td>NaN</td>\n",
              "      <td>NaN</td>\n",
              "      <td>NaN</td>\n",
              "      <td>NaN</td>\n",
              "      <td>5.000000</td>\n",
              "      <td>NaN</td>\n",
              "      <td>NaN</td>\n",
              "      <td>NaN</td>\n",
              "      <td>NaN</td>\n",
              "      <td>NaN</td>\n",
              "      <td>NaN</td>\n",
              "      <td>NaN</td>\n",
              "      <td>NaN</td>\n",
              "      <td>NaN</td>\n",
              "      <td>NaN</td>\n",
              "      <td>NaN</td>\n",
              "      <td>NaN</td>\n",
              "      <td>NaN</td>\n",
              "      <td>NaN</td>\n",
              "      <td>...</td>\n",
              "      <td>NaN</td>\n",
              "      <td>NaN</td>\n",
              "      <td>NaN</td>\n",
              "      <td>NaN</td>\n",
              "      <td>NaN</td>\n",
              "      <td>NaN</td>\n",
              "      <td>NaN</td>\n",
              "      <td>NaN</td>\n",
              "      <td>NaN</td>\n",
              "      <td>NaN</td>\n",
              "      <td>NaN</td>\n",
              "      <td>NaN</td>\n",
              "      <td>NaN</td>\n",
              "      <td>NaN</td>\n",
              "      <td>NaN</td>\n",
              "      <td>NaN</td>\n",
              "      <td>NaN</td>\n",
              "      <td>NaN</td>\n",
              "      <td>NaN</td>\n",
              "      <td>NaN</td>\n",
              "      <td>NaN</td>\n",
              "      <td>NaN</td>\n",
              "      <td>NaN</td>\n",
              "      <td>NaN</td>\n",
              "      <td>NaN</td>\n",
              "      <td>NaN</td>\n",
              "      <td>NaN</td>\n",
              "      <td>NaN</td>\n",
              "      <td>NaN</td>\n",
              "      <td>NaN</td>\n",
              "      <td>NaN</td>\n",
              "      <td>NaN</td>\n",
              "      <td>NaN</td>\n",
              "      <td>NaN</td>\n",
              "      <td>NaN</td>\n",
              "      <td>NaN</td>\n",
              "      <td>NaN</td>\n",
              "      <td>NaN</td>\n",
              "      <td>NaN</td>\n",
              "      <td>NaN</td>\n",
              "    </tr>\n",
              "    <tr>\n",
              "      <th>75%</th>\n",
              "      <td>210374.500000</td>\n",
              "      <td>NaN</td>\n",
              "      <td>NaN</td>\n",
              "      <td>1.031137</td>\n",
              "      <td>NaN</td>\n",
              "      <td>NaN</td>\n",
              "      <td>NaN</td>\n",
              "      <td>NaN</td>\n",
              "      <td>NaN</td>\n",
              "      <td>NaN</td>\n",
              "      <td>NaN</td>\n",
              "      <td>NaN</td>\n",
              "      <td>NaN</td>\n",
              "      <td>NaN</td>\n",
              "      <td>NaN</td>\n",
              "      <td>NaN</td>\n",
              "      <td>NaN</td>\n",
              "      <td>NaN</td>\n",
              "      <td>NaN</td>\n",
              "      <td>NaN</td>\n",
              "      <td>NaN</td>\n",
              "      <td>NaN</td>\n",
              "      <td>NaN</td>\n",
              "      <td>NaN</td>\n",
              "      <td>NaN</td>\n",
              "      <td>11.000000</td>\n",
              "      <td>NaN</td>\n",
              "      <td>NaN</td>\n",
              "      <td>NaN</td>\n",
              "      <td>NaN</td>\n",
              "      <td>NaN</td>\n",
              "      <td>NaN</td>\n",
              "      <td>NaN</td>\n",
              "      <td>NaN</td>\n",
              "      <td>NaN</td>\n",
              "      <td>NaN</td>\n",
              "      <td>NaN</td>\n",
              "      <td>NaN</td>\n",
              "      <td>NaN</td>\n",
              "      <td>NaN</td>\n",
              "      <td>...</td>\n",
              "      <td>NaN</td>\n",
              "      <td>NaN</td>\n",
              "      <td>NaN</td>\n",
              "      <td>NaN</td>\n",
              "      <td>NaN</td>\n",
              "      <td>NaN</td>\n",
              "      <td>NaN</td>\n",
              "      <td>NaN</td>\n",
              "      <td>NaN</td>\n",
              "      <td>NaN</td>\n",
              "      <td>NaN</td>\n",
              "      <td>NaN</td>\n",
              "      <td>NaN</td>\n",
              "      <td>NaN</td>\n",
              "      <td>NaN</td>\n",
              "      <td>NaN</td>\n",
              "      <td>NaN</td>\n",
              "      <td>NaN</td>\n",
              "      <td>NaN</td>\n",
              "      <td>NaN</td>\n",
              "      <td>NaN</td>\n",
              "      <td>NaN</td>\n",
              "      <td>NaN</td>\n",
              "      <td>NaN</td>\n",
              "      <td>NaN</td>\n",
              "      <td>NaN</td>\n",
              "      <td>NaN</td>\n",
              "      <td>NaN</td>\n",
              "      <td>NaN</td>\n",
              "      <td>NaN</td>\n",
              "      <td>NaN</td>\n",
              "      <td>NaN</td>\n",
              "      <td>NaN</td>\n",
              "      <td>NaN</td>\n",
              "      <td>NaN</td>\n",
              "      <td>NaN</td>\n",
              "      <td>NaN</td>\n",
              "      <td>NaN</td>\n",
              "      <td>NaN</td>\n",
              "      <td>NaN</td>\n",
              "    </tr>\n",
              "    <tr>\n",
              "      <th>max</th>\n",
              "      <td>226680.000000</td>\n",
              "      <td>NaN</td>\n",
              "      <td>NaN</td>\n",
              "      <td>18.407688</td>\n",
              "      <td>NaN</td>\n",
              "      <td>NaN</td>\n",
              "      <td>NaN</td>\n",
              "      <td>NaN</td>\n",
              "      <td>NaN</td>\n",
              "      <td>NaN</td>\n",
              "      <td>NaN</td>\n",
              "      <td>NaN</td>\n",
              "      <td>NaN</td>\n",
              "      <td>NaN</td>\n",
              "      <td>NaN</td>\n",
              "      <td>NaN</td>\n",
              "      <td>NaN</td>\n",
              "      <td>NaN</td>\n",
              "      <td>NaN</td>\n",
              "      <td>NaN</td>\n",
              "      <td>NaN</td>\n",
              "      <td>NaN</td>\n",
              "      <td>NaN</td>\n",
              "      <td>NaN</td>\n",
              "      <td>NaN</td>\n",
              "      <td>53.000000</td>\n",
              "      <td>NaN</td>\n",
              "      <td>NaN</td>\n",
              "      <td>NaN</td>\n",
              "      <td>NaN</td>\n",
              "      <td>NaN</td>\n",
              "      <td>NaN</td>\n",
              "      <td>NaN</td>\n",
              "      <td>NaN</td>\n",
              "      <td>NaN</td>\n",
              "      <td>NaN</td>\n",
              "      <td>NaN</td>\n",
              "      <td>NaN</td>\n",
              "      <td>NaN</td>\n",
              "      <td>NaN</td>\n",
              "      <td>...</td>\n",
              "      <td>NaN</td>\n",
              "      <td>NaN</td>\n",
              "      <td>NaN</td>\n",
              "      <td>NaN</td>\n",
              "      <td>NaN</td>\n",
              "      <td>NaN</td>\n",
              "      <td>NaN</td>\n",
              "      <td>NaN</td>\n",
              "      <td>NaN</td>\n",
              "      <td>NaN</td>\n",
              "      <td>NaN</td>\n",
              "      <td>NaN</td>\n",
              "      <td>NaN</td>\n",
              "      <td>NaN</td>\n",
              "      <td>NaN</td>\n",
              "      <td>NaN</td>\n",
              "      <td>NaN</td>\n",
              "      <td>NaN</td>\n",
              "      <td>NaN</td>\n",
              "      <td>NaN</td>\n",
              "      <td>NaN</td>\n",
              "      <td>NaN</td>\n",
              "      <td>NaN</td>\n",
              "      <td>NaN</td>\n",
              "      <td>NaN</td>\n",
              "      <td>NaN</td>\n",
              "      <td>NaN</td>\n",
              "      <td>NaN</td>\n",
              "      <td>NaN</td>\n",
              "      <td>NaN</td>\n",
              "      <td>NaN</td>\n",
              "      <td>NaN</td>\n",
              "      <td>NaN</td>\n",
              "      <td>NaN</td>\n",
              "      <td>NaN</td>\n",
              "      <td>NaN</td>\n",
              "      <td>NaN</td>\n",
              "      <td>NaN</td>\n",
              "      <td>NaN</td>\n",
              "      <td>NaN</td>\n",
              "    </tr>\n",
              "  </tbody>\n",
              "</table>\n",
              "<p>11 rows × 138 columns</p>\n",
              "</div>"
            ],
            "text/plain": [
              "                   ID             PRES  ... WPROTBRN  WPROTBRN3\n",
              "count    25034.000000            25034  ...    25034      25034\n",
              "unique            NaN                7  ...        3          4\n",
              "top               NaN  Hillary Clinton  ...                    \n",
              "freq              NaN            12126  ...    20503      22181\n",
              "mean    188663.858712              NaN  ...      NaN        NaN\n",
              "std      27829.369563              NaN  ...      NaN        NaN\n",
              "min     135355.000000              NaN  ...      NaN        NaN\n",
              "25%     175885.250000              NaN  ...      NaN        NaN\n",
              "50%     193824.500000              NaN  ...      NaN        NaN\n",
              "75%     210374.500000              NaN  ...      NaN        NaN\n",
              "max     226680.000000              NaN  ...      NaN        NaN\n",
              "\n",
              "[11 rows x 138 columns]"
            ]
          },
          "metadata": {
            "tags": []
          },
          "execution_count": 7
        }
      ]
    },
    {
      "cell_type": "markdown",
      "metadata": {
        "id": "MgMG7ePf68u5"
      },
      "source": [
        "This is because missing values are recorded as a single space, and not with a NaN. \n",
        "\n",
        "Let's change that:"
      ]
    },
    {
      "cell_type": "code",
      "metadata": {
        "id": "swuHzBEY6ZgH"
      },
      "source": [
        "df.replace(\" \", float(\"NaN\"), inplace=True)"
      ],
      "execution_count": null,
      "outputs": []
    },
    {
      "cell_type": "markdown",
      "metadata": {
        "id": "2DoPQ6yd8Wnw"
      },
      "source": [
        "Now we can see an accurate count of the number of responses in each column: "
      ]
    },
    {
      "cell_type": "code",
      "metadata": {
        "id": "WkFCmHTK7wYN",
        "colab": {
          "base_uri": "https://localhost:8080/",
          "height": 511
        },
        "outputId": "4459bc28-e36a-4435-9b89-f4cdfa71fc59"
      },
      "source": [
        "df.describe(include='all')"
      ],
      "execution_count": null,
      "outputs": [
        {
          "output_type": "execute_result",
          "data": {
            "text/html": [
              "<div>\n",
              "<style scoped>\n",
              "    .dataframe tbody tr th:only-of-type {\n",
              "        vertical-align: middle;\n",
              "    }\n",
              "\n",
              "    .dataframe tbody tr th {\n",
              "        vertical-align: top;\n",
              "    }\n",
              "\n",
              "    .dataframe thead th {\n",
              "        text-align: right;\n",
              "    }\n",
              "</style>\n",
              "<table border=\"1\" class=\"dataframe\">\n",
              "  <thead>\n",
              "    <tr style=\"text-align: right;\">\n",
              "      <th></th>\n",
              "      <th>ID</th>\n",
              "      <th>PRES</th>\n",
              "      <th>HOU</th>\n",
              "      <th>WEIGHT</th>\n",
              "      <th>@2WAYPRES16</th>\n",
              "      <th>AGE</th>\n",
              "      <th>AGE3</th>\n",
              "      <th>AGE8</th>\n",
              "      <th>AGE45</th>\n",
              "      <th>AGE49</th>\n",
              "      <th>AGE60</th>\n",
              "      <th>AGE65</th>\n",
              "      <th>AGEBLACK</th>\n",
              "      <th>AGEBYRACE</th>\n",
              "      <th>AGEBYRACE08</th>\n",
              "      <th>ATTEND16</th>\n",
              "      <th>ATTEND16B</th>\n",
              "      <th>ATTREL</th>\n",
              "      <th>BACKSIDE</th>\n",
              "      <th>BORNCITIZEN</th>\n",
              "      <th>BREAK12</th>\n",
              "      <th>BREAK12A</th>\n",
              "      <th>BREAK12B</th>\n",
              "      <th>BRNAGAIN</th>\n",
              "      <th>CALL</th>\n",
              "      <th>CDNUM</th>\n",
              "      <th>CHIEF16</th>\n",
              "      <th>CLINHONEST</th>\n",
              "      <th>CLINTONEMAIL</th>\n",
              "      <th>CLINTONEMAILB</th>\n",
              "      <th>CLINTONWINGEN</th>\n",
              "      <th>CLINTONWINGENB</th>\n",
              "      <th>COUNT2</th>\n",
              "      <th>COUNTACC</th>\n",
              "      <th>CUBAN3</th>\n",
              "      <th>DESCRIBP12</th>\n",
              "      <th>EDUC12R</th>\n",
              "      <th>EDUCCOLL</th>\n",
              "      <th>EDUCHS</th>\n",
              "      <th>EDUCWHITE</th>\n",
              "      <th>...</th>\n",
              "      <th>RACE2B</th>\n",
              "      <th>RACEAI</th>\n",
              "      <th>REGION</th>\n",
              "      <th>REL4</th>\n",
              "      <th>REL5</th>\n",
              "      <th>RELIGN10</th>\n",
              "      <th>RELWHITE</th>\n",
              "      <th>SEX</th>\n",
              "      <th>SEXBYRACE</th>\n",
              "      <th>SEXWED</th>\n",
              "      <th>SIZEPLAC</th>\n",
              "      <th>SIZEPLC3</th>\n",
              "      <th>SPANISHQ</th>\n",
              "      <th>SPLITTICKET</th>\n",
              "      <th>STANUM</th>\n",
              "      <th>SUBURBWHITE</th>\n",
              "      <th>SUPREME16</th>\n",
              "      <th>SUPREME16B</th>\n",
              "      <th>TELEPOLL</th>\n",
              "      <th>TEMPCLINTON</th>\n",
              "      <th>TEMPERAMENT16</th>\n",
              "      <th>TEMPTRUMP</th>\n",
              "      <th>TIME16</th>\n",
              "      <th>TIME16MONTH</th>\n",
              "      <th>TIME16WEEK</th>\n",
              "      <th>TRACK</th>\n",
              "      <th>TRADE16</th>\n",
              "      <th>TRUMPHONEST</th>\n",
              "      <th>TRUMPWINGEN</th>\n",
              "      <th>TRUMPWINGENB</th>\n",
              "      <th>TRUMPWOMEN</th>\n",
              "      <th>TRUMPWOMENB</th>\n",
              "      <th>UNIONHH12</th>\n",
              "      <th>VERSION</th>\n",
              "      <th>VETVOTER</th>\n",
              "      <th>WHITEREL</th>\n",
              "      <th>WHNCLINC</th>\n",
              "      <th>WHTEVANG</th>\n",
              "      <th>WPROTBRN</th>\n",
              "      <th>WPROTBRN3</th>\n",
              "    </tr>\n",
              "  </thead>\n",
              "  <tbody>\n",
              "    <tr>\n",
              "      <th>count</th>\n",
              "      <td>25034.000000</td>\n",
              "      <td>24696</td>\n",
              "      <td>23970</td>\n",
              "      <td>25034.000000</td>\n",
              "      <td>9466</td>\n",
              "      <td>24853</td>\n",
              "      <td>24853</td>\n",
              "      <td>24853</td>\n",
              "      <td>24853</td>\n",
              "      <td>24853</td>\n",
              "      <td>24853</td>\n",
              "      <td>24853</td>\n",
              "      <td>24549</td>\n",
              "      <td>24549</td>\n",
              "      <td>24549</td>\n",
              "      <td>4647</td>\n",
              "      <td>4647</td>\n",
              "      <td>4140</td>\n",
              "      <td>25034</td>\n",
              "      <td>4870</td>\n",
              "      <td>4248</td>\n",
              "      <td>4248</td>\n",
              "      <td>4248</td>\n",
              "      <td>4750</td>\n",
              "      <td>20660</td>\n",
              "      <td>25034.000000</td>\n",
              "      <td>4783</td>\n",
              "      <td>4976</td>\n",
              "      <td>4750</td>\n",
              "      <td>4750</td>\n",
              "      <td>4783</td>\n",
              "      <td>4783</td>\n",
              "      <td>4750</td>\n",
              "      <td>4750</td>\n",
              "      <td>1246</td>\n",
              "      <td>4976</td>\n",
              "      <td>23907</td>\n",
              "      <td>23907</td>\n",
              "      <td>23907</td>\n",
              "      <td>23615</td>\n",
              "      <td>...</td>\n",
              "      <td>24671</td>\n",
              "      <td>20829</td>\n",
              "      <td>25034</td>\n",
              "      <td>8378</td>\n",
              "      <td>8378</td>\n",
              "      <td>8378</td>\n",
              "      <td>5892</td>\n",
              "      <td>24974</td>\n",
              "      <td>24632</td>\n",
              "      <td>9625</td>\n",
              "      <td>25034</td>\n",
              "      <td>25034</td>\n",
              "      <td>7649</td>\n",
              "      <td>13222</td>\n",
              "      <td>25034</td>\n",
              "      <td>24818</td>\n",
              "      <td>4915</td>\n",
              "      <td>4915</td>\n",
              "      <td>25034</td>\n",
              "      <td>4976</td>\n",
              "      <td>4976</td>\n",
              "      <td>4976</td>\n",
              "      <td>4911</td>\n",
              "      <td>4911</td>\n",
              "      <td>4911</td>\n",
              "      <td>4750</td>\n",
              "      <td>4980</td>\n",
              "      <td>4976</td>\n",
              "      <td>4783</td>\n",
              "      <td>4783</td>\n",
              "      <td>4750</td>\n",
              "      <td>4750</td>\n",
              "      <td>4710</td>\n",
              "      <td>25034</td>\n",
              "      <td>4647</td>\n",
              "      <td>8593</td>\n",
              "      <td>9513</td>\n",
              "      <td>4897</td>\n",
              "      <td>4531</td>\n",
              "      <td>2853</td>\n",
              "    </tr>\n",
              "    <tr>\n",
              "      <th>unique</th>\n",
              "      <td>NaN</td>\n",
              "      <td>6</td>\n",
              "      <td>4</td>\n",
              "      <td>NaN</td>\n",
              "      <td>4</td>\n",
              "      <td>4</td>\n",
              "      <td>3</td>\n",
              "      <td>8</td>\n",
              "      <td>2</td>\n",
              "      <td>2</td>\n",
              "      <td>4</td>\n",
              "      <td>6</td>\n",
              "      <td>8</td>\n",
              "      <td>13</td>\n",
              "      <td>13</td>\n",
              "      <td>4</td>\n",
              "      <td>2</td>\n",
              "      <td>5</td>\n",
              "      <td>2</td>\n",
              "      <td>2</td>\n",
              "      <td>5</td>\n",
              "      <td>3</td>\n",
              "      <td>3</td>\n",
              "      <td>2</td>\n",
              "      <td>3</td>\n",
              "      <td>NaN</td>\n",
              "      <td>3</td>\n",
              "      <td>3</td>\n",
              "      <td>5</td>\n",
              "      <td>3</td>\n",
              "      <td>5</td>\n",
              "      <td>3</td>\n",
              "      <td>3</td>\n",
              "      <td>5</td>\n",
              "      <td>3</td>\n",
              "      <td>4</td>\n",
              "      <td>4</td>\n",
              "      <td>2</td>\n",
              "      <td>2</td>\n",
              "      <td>4</td>\n",
              "      <td>...</td>\n",
              "      <td>2</td>\n",
              "      <td>6</td>\n",
              "      <td>4</td>\n",
              "      <td>4</td>\n",
              "      <td>5</td>\n",
              "      <td>8</td>\n",
              "      <td>5</td>\n",
              "      <td>2</td>\n",
              "      <td>7</td>\n",
              "      <td>4</td>\n",
              "      <td>5</td>\n",
              "      <td>3</td>\n",
              "      <td>2</td>\n",
              "      <td>5</td>\n",
              "      <td>51</td>\n",
              "      <td>3</td>\n",
              "      <td>5</td>\n",
              "      <td>3</td>\n",
              "      <td>2</td>\n",
              "      <td>3</td>\n",
              "      <td>5</td>\n",
              "      <td>3</td>\n",
              "      <td>6</td>\n",
              "      <td>3</td>\n",
              "      <td>3</td>\n",
              "      <td>3</td>\n",
              "      <td>4</td>\n",
              "      <td>3</td>\n",
              "      <td>5</td>\n",
              "      <td>3</td>\n",
              "      <td>5</td>\n",
              "      <td>3</td>\n",
              "      <td>2</td>\n",
              "      <td>5</td>\n",
              "      <td>2</td>\n",
              "      <td>6</td>\n",
              "      <td>2</td>\n",
              "      <td>2</td>\n",
              "      <td>2</td>\n",
              "      <td>3</td>\n",
              "    </tr>\n",
              "    <tr>\n",
              "      <th>top</th>\n",
              "      <td>NaN</td>\n",
              "      <td>Hillary Clinton</td>\n",
              "      <td>The Democratic candidate</td>\n",
              "      <td>NaN</td>\n",
              "      <td>Hillary Clinton</td>\n",
              "      <td>45-65</td>\n",
              "      <td>30-59</td>\n",
              "      <td>50-59</td>\n",
              "      <td>45+</td>\n",
              "      <td>18-49</td>\n",
              "      <td>45-59</td>\n",
              "      <td>50-64</td>\n",
              "      <td>Non-Black 45-59</td>\n",
              "      <td>White 60+</td>\n",
              "      <td>White 45-64</td>\n",
              "      <td>Once a week or more</td>\n",
              "      <td>A few times a year or less</td>\n",
              "      <td>All others</td>\n",
              "      <td>Complete</td>\n",
              "      <td>Yes</td>\n",
              "      <td>An important factor</td>\n",
              "      <td>Important</td>\n",
              "      <td>Factor</td>\n",
              "      <td>No</td>\n",
              "      <td>Call 1</td>\n",
              "      <td>NaN</td>\n",
              "      <td>Hillary Clinton</td>\n",
              "      <td>No</td>\n",
              "      <td>A lot</td>\n",
              "      <td>A lot or some</td>\n",
              "      <td>Scared</td>\n",
              "      <td>Concerned or scared</td>\n",
              "      <td>Very confident or somewhat confident</td>\n",
              "      <td>Very confident</td>\n",
              "      <td>No</td>\n",
              "      <td>I strongly favor my candidate</td>\n",
              "      <td>Some college/assoc. degree</td>\n",
              "      <td>No college degree</td>\n",
              "      <td>More than High school graduate</td>\n",
              "      <td>White college degree</td>\n",
              "      <td>...</td>\n",
              "      <td>White</td>\n",
              "      <td>White</td>\n",
              "      <td>South</td>\n",
              "      <td>Protestant, Catholic or other Christian</td>\n",
              "      <td>Protestant/Other Non-Catholic Christian</td>\n",
              "      <td>Other christian</td>\n",
              "      <td>Protestant/Other Non-Catholic Christian</td>\n",
              "      <td>Female</td>\n",
              "      <td>White women</td>\n",
              "      <td>Married women</td>\n",
              "      <td>Suburbs</td>\n",
              "      <td>Suburbs</td>\n",
              "      <td>English</td>\n",
              "      <td>Democratic Senate - voted Clinton</td>\n",
              "      <td>California</td>\n",
              "      <td>Other</td>\n",
              "      <td>An important factor</td>\n",
              "      <td>The most important factor or an important factor</td>\n",
              "      <td>Election day exit poll</td>\n",
              "      <td>Yes</td>\n",
              "      <td>Only Hillary Clinton</td>\n",
              "      <td>No</td>\n",
              "      <td>Before that</td>\n",
              "      <td>Before that</td>\n",
              "      <td>Before that</td>\n",
              "      <td>Seriously off on the wrong track</td>\n",
              "      <td>Takes away U.S. jobs</td>\n",
              "      <td>No</td>\n",
              "      <td>Scared</td>\n",
              "      <td>Concerned or scared</td>\n",
              "      <td>A lot</td>\n",
              "      <td>A lot or some</td>\n",
              "      <td>No</td>\n",
              "      <td>Version 2</td>\n",
              "      <td>No</td>\n",
              "      <td>White Protestants</td>\n",
              "      <td>No</td>\n",
              "      <td>All others</td>\n",
              "      <td>No</td>\n",
              "      <td>All others</td>\n",
              "    </tr>\n",
              "    <tr>\n",
              "      <th>freq</th>\n",
              "      <td>NaN</td>\n",
              "      <td>12126</td>\n",
              "      <td>12041</td>\n",
              "      <td>NaN</td>\n",
              "      <td>4611</td>\n",
              "      <td>9746</td>\n",
              "      <td>13697</td>\n",
              "      <td>5071</td>\n",
              "      <td>14436</td>\n",
              "      <td>12836</td>\n",
              "      <td>7490</td>\n",
              "      <td>7327</td>\n",
              "      <td>6438</td>\n",
              "      <td>5562</td>\n",
              "      <td>7050</td>\n",
              "      <td>1534</td>\n",
              "      <td>2366</td>\n",
              "      <td>2257</td>\n",
              "      <td>24253</td>\n",
              "      <td>4491</td>\n",
              "      <td>1635</td>\n",
              "      <td>2711</td>\n",
              "      <td>3495</td>\n",
              "      <td>2846</td>\n",
              "      <td>7143</td>\n",
              "      <td>NaN</td>\n",
              "      <td>2481</td>\n",
              "      <td>3026</td>\n",
              "      <td>2021</td>\n",
              "      <td>2908</td>\n",
              "      <td>1352</td>\n",
              "      <td>2503</td>\n",
              "      <td>4000</td>\n",
              "      <td>2328</td>\n",
              "      <td>1060</td>\n",
              "      <td>2067</td>\n",
              "      <td>7835</td>\n",
              "      <td>11959</td>\n",
              "      <td>19783</td>\n",
              "      <td>8812</td>\n",
              "      <td>...</td>\n",
              "      <td>17536</td>\n",
              "      <td>14800</td>\n",
              "      <td>7246</td>\n",
              "      <td>6001</td>\n",
              "      <td>4250</td>\n",
              "      <td>2154</td>\n",
              "      <td>3038</td>\n",
              "      <td>13742</td>\n",
              "      <td>9491</td>\n",
              "      <td>2978</td>\n",
              "      <td>11966</td>\n",
              "      <td>11966</td>\n",
              "      <td>7540</td>\n",
              "      <td>5450</td>\n",
              "      <td>2559</td>\n",
              "      <td>16333</td>\n",
              "      <td>2325</td>\n",
              "      <td>3348</td>\n",
              "      <td>20660</td>\n",
              "      <td>2781</td>\n",
              "      <td>2537</td>\n",
              "      <td>3267</td>\n",
              "      <td>2945</td>\n",
              "      <td>3488</td>\n",
              "      <td>4051</td>\n",
              "      <td>2931</td>\n",
              "      <td>2101</td>\n",
              "      <td>3310</td>\n",
              "      <td>1916</td>\n",
              "      <td>2855</td>\n",
              "      <td>2481</td>\n",
              "      <td>3424</td>\n",
              "      <td>3771</td>\n",
              "      <td>5126</td>\n",
              "      <td>4040</td>\n",
              "      <td>3038</td>\n",
              "      <td>8136</td>\n",
              "      <td>3627</td>\n",
              "      <td>3605</td>\n",
              "      <td>1357</td>\n",
              "    </tr>\n",
              "    <tr>\n",
              "      <th>mean</th>\n",
              "      <td>188663.858712</td>\n",
              "      <td>NaN</td>\n",
              "      <td>NaN</td>\n",
              "      <td>1.003016</td>\n",
              "      <td>NaN</td>\n",
              "      <td>NaN</td>\n",
              "      <td>NaN</td>\n",
              "      <td>NaN</td>\n",
              "      <td>NaN</td>\n",
              "      <td>NaN</td>\n",
              "      <td>NaN</td>\n",
              "      <td>NaN</td>\n",
              "      <td>NaN</td>\n",
              "      <td>NaN</td>\n",
              "      <td>NaN</td>\n",
              "      <td>NaN</td>\n",
              "      <td>NaN</td>\n",
              "      <td>NaN</td>\n",
              "      <td>NaN</td>\n",
              "      <td>NaN</td>\n",
              "      <td>NaN</td>\n",
              "      <td>NaN</td>\n",
              "      <td>NaN</td>\n",
              "      <td>NaN</td>\n",
              "      <td>NaN</td>\n",
              "      <td>8.672246</td>\n",
              "      <td>NaN</td>\n",
              "      <td>NaN</td>\n",
              "      <td>NaN</td>\n",
              "      <td>NaN</td>\n",
              "      <td>NaN</td>\n",
              "      <td>NaN</td>\n",
              "      <td>NaN</td>\n",
              "      <td>NaN</td>\n",
              "      <td>NaN</td>\n",
              "      <td>NaN</td>\n",
              "      <td>NaN</td>\n",
              "      <td>NaN</td>\n",
              "      <td>NaN</td>\n",
              "      <td>NaN</td>\n",
              "      <td>...</td>\n",
              "      <td>NaN</td>\n",
              "      <td>NaN</td>\n",
              "      <td>NaN</td>\n",
              "      <td>NaN</td>\n",
              "      <td>NaN</td>\n",
              "      <td>NaN</td>\n",
              "      <td>NaN</td>\n",
              "      <td>NaN</td>\n",
              "      <td>NaN</td>\n",
              "      <td>NaN</td>\n",
              "      <td>NaN</td>\n",
              "      <td>NaN</td>\n",
              "      <td>NaN</td>\n",
              "      <td>NaN</td>\n",
              "      <td>NaN</td>\n",
              "      <td>NaN</td>\n",
              "      <td>NaN</td>\n",
              "      <td>NaN</td>\n",
              "      <td>NaN</td>\n",
              "      <td>NaN</td>\n",
              "      <td>NaN</td>\n",
              "      <td>NaN</td>\n",
              "      <td>NaN</td>\n",
              "      <td>NaN</td>\n",
              "      <td>NaN</td>\n",
              "      <td>NaN</td>\n",
              "      <td>NaN</td>\n",
              "      <td>NaN</td>\n",
              "      <td>NaN</td>\n",
              "      <td>NaN</td>\n",
              "      <td>NaN</td>\n",
              "      <td>NaN</td>\n",
              "      <td>NaN</td>\n",
              "      <td>NaN</td>\n",
              "      <td>NaN</td>\n",
              "      <td>NaN</td>\n",
              "      <td>NaN</td>\n",
              "      <td>NaN</td>\n",
              "      <td>NaN</td>\n",
              "      <td>NaN</td>\n",
              "    </tr>\n",
              "    <tr>\n",
              "      <th>std</th>\n",
              "      <td>27829.369563</td>\n",
              "      <td>NaN</td>\n",
              "      <td>NaN</td>\n",
              "      <td>1.065169</td>\n",
              "      <td>NaN</td>\n",
              "      <td>NaN</td>\n",
              "      <td>NaN</td>\n",
              "      <td>NaN</td>\n",
              "      <td>NaN</td>\n",
              "      <td>NaN</td>\n",
              "      <td>NaN</td>\n",
              "      <td>NaN</td>\n",
              "      <td>NaN</td>\n",
              "      <td>NaN</td>\n",
              "      <td>NaN</td>\n",
              "      <td>NaN</td>\n",
              "      <td>NaN</td>\n",
              "      <td>NaN</td>\n",
              "      <td>NaN</td>\n",
              "      <td>NaN</td>\n",
              "      <td>NaN</td>\n",
              "      <td>NaN</td>\n",
              "      <td>NaN</td>\n",
              "      <td>NaN</td>\n",
              "      <td>NaN</td>\n",
              "      <td>9.941176</td>\n",
              "      <td>NaN</td>\n",
              "      <td>NaN</td>\n",
              "      <td>NaN</td>\n",
              "      <td>NaN</td>\n",
              "      <td>NaN</td>\n",
              "      <td>NaN</td>\n",
              "      <td>NaN</td>\n",
              "      <td>NaN</td>\n",
              "      <td>NaN</td>\n",
              "      <td>NaN</td>\n",
              "      <td>NaN</td>\n",
              "      <td>NaN</td>\n",
              "      <td>NaN</td>\n",
              "      <td>NaN</td>\n",
              "      <td>...</td>\n",
              "      <td>NaN</td>\n",
              "      <td>NaN</td>\n",
              "      <td>NaN</td>\n",
              "      <td>NaN</td>\n",
              "      <td>NaN</td>\n",
              "      <td>NaN</td>\n",
              "      <td>NaN</td>\n",
              "      <td>NaN</td>\n",
              "      <td>NaN</td>\n",
              "      <td>NaN</td>\n",
              "      <td>NaN</td>\n",
              "      <td>NaN</td>\n",
              "      <td>NaN</td>\n",
              "      <td>NaN</td>\n",
              "      <td>NaN</td>\n",
              "      <td>NaN</td>\n",
              "      <td>NaN</td>\n",
              "      <td>NaN</td>\n",
              "      <td>NaN</td>\n",
              "      <td>NaN</td>\n",
              "      <td>NaN</td>\n",
              "      <td>NaN</td>\n",
              "      <td>NaN</td>\n",
              "      <td>NaN</td>\n",
              "      <td>NaN</td>\n",
              "      <td>NaN</td>\n",
              "      <td>NaN</td>\n",
              "      <td>NaN</td>\n",
              "      <td>NaN</td>\n",
              "      <td>NaN</td>\n",
              "      <td>NaN</td>\n",
              "      <td>NaN</td>\n",
              "      <td>NaN</td>\n",
              "      <td>NaN</td>\n",
              "      <td>NaN</td>\n",
              "      <td>NaN</td>\n",
              "      <td>NaN</td>\n",
              "      <td>NaN</td>\n",
              "      <td>NaN</td>\n",
              "      <td>NaN</td>\n",
              "    </tr>\n",
              "    <tr>\n",
              "      <th>min</th>\n",
              "      <td>135355.000000</td>\n",
              "      <td>NaN</td>\n",
              "      <td>NaN</td>\n",
              "      <td>0.047442</td>\n",
              "      <td>NaN</td>\n",
              "      <td>NaN</td>\n",
              "      <td>NaN</td>\n",
              "      <td>NaN</td>\n",
              "      <td>NaN</td>\n",
              "      <td>NaN</td>\n",
              "      <td>NaN</td>\n",
              "      <td>NaN</td>\n",
              "      <td>NaN</td>\n",
              "      <td>NaN</td>\n",
              "      <td>NaN</td>\n",
              "      <td>NaN</td>\n",
              "      <td>NaN</td>\n",
              "      <td>NaN</td>\n",
              "      <td>NaN</td>\n",
              "      <td>NaN</td>\n",
              "      <td>NaN</td>\n",
              "      <td>NaN</td>\n",
              "      <td>NaN</td>\n",
              "      <td>NaN</td>\n",
              "      <td>NaN</td>\n",
              "      <td>1.000000</td>\n",
              "      <td>NaN</td>\n",
              "      <td>NaN</td>\n",
              "      <td>NaN</td>\n",
              "      <td>NaN</td>\n",
              "      <td>NaN</td>\n",
              "      <td>NaN</td>\n",
              "      <td>NaN</td>\n",
              "      <td>NaN</td>\n",
              "      <td>NaN</td>\n",
              "      <td>NaN</td>\n",
              "      <td>NaN</td>\n",
              "      <td>NaN</td>\n",
              "      <td>NaN</td>\n",
              "      <td>NaN</td>\n",
              "      <td>...</td>\n",
              "      <td>NaN</td>\n",
              "      <td>NaN</td>\n",
              "      <td>NaN</td>\n",
              "      <td>NaN</td>\n",
              "      <td>NaN</td>\n",
              "      <td>NaN</td>\n",
              "      <td>NaN</td>\n",
              "      <td>NaN</td>\n",
              "      <td>NaN</td>\n",
              "      <td>NaN</td>\n",
              "      <td>NaN</td>\n",
              "      <td>NaN</td>\n",
              "      <td>NaN</td>\n",
              "      <td>NaN</td>\n",
              "      <td>NaN</td>\n",
              "      <td>NaN</td>\n",
              "      <td>NaN</td>\n",
              "      <td>NaN</td>\n",
              "      <td>NaN</td>\n",
              "      <td>NaN</td>\n",
              "      <td>NaN</td>\n",
              "      <td>NaN</td>\n",
              "      <td>NaN</td>\n",
              "      <td>NaN</td>\n",
              "      <td>NaN</td>\n",
              "      <td>NaN</td>\n",
              "      <td>NaN</td>\n",
              "      <td>NaN</td>\n",
              "      <td>NaN</td>\n",
              "      <td>NaN</td>\n",
              "      <td>NaN</td>\n",
              "      <td>NaN</td>\n",
              "      <td>NaN</td>\n",
              "      <td>NaN</td>\n",
              "      <td>NaN</td>\n",
              "      <td>NaN</td>\n",
              "      <td>NaN</td>\n",
              "      <td>NaN</td>\n",
              "      <td>NaN</td>\n",
              "      <td>NaN</td>\n",
              "    </tr>\n",
              "    <tr>\n",
              "      <th>25%</th>\n",
              "      <td>175885.250000</td>\n",
              "      <td>NaN</td>\n",
              "      <td>NaN</td>\n",
              "      <td>0.525367</td>\n",
              "      <td>NaN</td>\n",
              "      <td>NaN</td>\n",
              "      <td>NaN</td>\n",
              "      <td>NaN</td>\n",
              "      <td>NaN</td>\n",
              "      <td>NaN</td>\n",
              "      <td>NaN</td>\n",
              "      <td>NaN</td>\n",
              "      <td>NaN</td>\n",
              "      <td>NaN</td>\n",
              "      <td>NaN</td>\n",
              "      <td>NaN</td>\n",
              "      <td>NaN</td>\n",
              "      <td>NaN</td>\n",
              "      <td>NaN</td>\n",
              "      <td>NaN</td>\n",
              "      <td>NaN</td>\n",
              "      <td>NaN</td>\n",
              "      <td>NaN</td>\n",
              "      <td>NaN</td>\n",
              "      <td>NaN</td>\n",
              "      <td>2.000000</td>\n",
              "      <td>NaN</td>\n",
              "      <td>NaN</td>\n",
              "      <td>NaN</td>\n",
              "      <td>NaN</td>\n",
              "      <td>NaN</td>\n",
              "      <td>NaN</td>\n",
              "      <td>NaN</td>\n",
              "      <td>NaN</td>\n",
              "      <td>NaN</td>\n",
              "      <td>NaN</td>\n",
              "      <td>NaN</td>\n",
              "      <td>NaN</td>\n",
              "      <td>NaN</td>\n",
              "      <td>NaN</td>\n",
              "      <td>...</td>\n",
              "      <td>NaN</td>\n",
              "      <td>NaN</td>\n",
              "      <td>NaN</td>\n",
              "      <td>NaN</td>\n",
              "      <td>NaN</td>\n",
              "      <td>NaN</td>\n",
              "      <td>NaN</td>\n",
              "      <td>NaN</td>\n",
              "      <td>NaN</td>\n",
              "      <td>NaN</td>\n",
              "      <td>NaN</td>\n",
              "      <td>NaN</td>\n",
              "      <td>NaN</td>\n",
              "      <td>NaN</td>\n",
              "      <td>NaN</td>\n",
              "      <td>NaN</td>\n",
              "      <td>NaN</td>\n",
              "      <td>NaN</td>\n",
              "      <td>NaN</td>\n",
              "      <td>NaN</td>\n",
              "      <td>NaN</td>\n",
              "      <td>NaN</td>\n",
              "      <td>NaN</td>\n",
              "      <td>NaN</td>\n",
              "      <td>NaN</td>\n",
              "      <td>NaN</td>\n",
              "      <td>NaN</td>\n",
              "      <td>NaN</td>\n",
              "      <td>NaN</td>\n",
              "      <td>NaN</td>\n",
              "      <td>NaN</td>\n",
              "      <td>NaN</td>\n",
              "      <td>NaN</td>\n",
              "      <td>NaN</td>\n",
              "      <td>NaN</td>\n",
              "      <td>NaN</td>\n",
              "      <td>NaN</td>\n",
              "      <td>NaN</td>\n",
              "      <td>NaN</td>\n",
              "      <td>NaN</td>\n",
              "    </tr>\n",
              "    <tr>\n",
              "      <th>50%</th>\n",
              "      <td>193824.500000</td>\n",
              "      <td>NaN</td>\n",
              "      <td>NaN</td>\n",
              "      <td>0.745491</td>\n",
              "      <td>NaN</td>\n",
              "      <td>NaN</td>\n",
              "      <td>NaN</td>\n",
              "      <td>NaN</td>\n",
              "      <td>NaN</td>\n",
              "      <td>NaN</td>\n",
              "      <td>NaN</td>\n",
              "      <td>NaN</td>\n",
              "      <td>NaN</td>\n",
              "      <td>NaN</td>\n",
              "      <td>NaN</td>\n",
              "      <td>NaN</td>\n",
              "      <td>NaN</td>\n",
              "      <td>NaN</td>\n",
              "      <td>NaN</td>\n",
              "      <td>NaN</td>\n",
              "      <td>NaN</td>\n",
              "      <td>NaN</td>\n",
              "      <td>NaN</td>\n",
              "      <td>NaN</td>\n",
              "      <td>NaN</td>\n",
              "      <td>5.000000</td>\n",
              "      <td>NaN</td>\n",
              "      <td>NaN</td>\n",
              "      <td>NaN</td>\n",
              "      <td>NaN</td>\n",
              "      <td>NaN</td>\n",
              "      <td>NaN</td>\n",
              "      <td>NaN</td>\n",
              "      <td>NaN</td>\n",
              "      <td>NaN</td>\n",
              "      <td>NaN</td>\n",
              "      <td>NaN</td>\n",
              "      <td>NaN</td>\n",
              "      <td>NaN</td>\n",
              "      <td>NaN</td>\n",
              "      <td>...</td>\n",
              "      <td>NaN</td>\n",
              "      <td>NaN</td>\n",
              "      <td>NaN</td>\n",
              "      <td>NaN</td>\n",
              "      <td>NaN</td>\n",
              "      <td>NaN</td>\n",
              "      <td>NaN</td>\n",
              "      <td>NaN</td>\n",
              "      <td>NaN</td>\n",
              "      <td>NaN</td>\n",
              "      <td>NaN</td>\n",
              "      <td>NaN</td>\n",
              "      <td>NaN</td>\n",
              "      <td>NaN</td>\n",
              "      <td>NaN</td>\n",
              "      <td>NaN</td>\n",
              "      <td>NaN</td>\n",
              "      <td>NaN</td>\n",
              "      <td>NaN</td>\n",
              "      <td>NaN</td>\n",
              "      <td>NaN</td>\n",
              "      <td>NaN</td>\n",
              "      <td>NaN</td>\n",
              "      <td>NaN</td>\n",
              "      <td>NaN</td>\n",
              "      <td>NaN</td>\n",
              "      <td>NaN</td>\n",
              "      <td>NaN</td>\n",
              "      <td>NaN</td>\n",
              "      <td>NaN</td>\n",
              "      <td>NaN</td>\n",
              "      <td>NaN</td>\n",
              "      <td>NaN</td>\n",
              "      <td>NaN</td>\n",
              "      <td>NaN</td>\n",
              "      <td>NaN</td>\n",
              "      <td>NaN</td>\n",
              "      <td>NaN</td>\n",
              "      <td>NaN</td>\n",
              "      <td>NaN</td>\n",
              "    </tr>\n",
              "    <tr>\n",
              "      <th>75%</th>\n",
              "      <td>210374.500000</td>\n",
              "      <td>NaN</td>\n",
              "      <td>NaN</td>\n",
              "      <td>1.031137</td>\n",
              "      <td>NaN</td>\n",
              "      <td>NaN</td>\n",
              "      <td>NaN</td>\n",
              "      <td>NaN</td>\n",
              "      <td>NaN</td>\n",
              "      <td>NaN</td>\n",
              "      <td>NaN</td>\n",
              "      <td>NaN</td>\n",
              "      <td>NaN</td>\n",
              "      <td>NaN</td>\n",
              "      <td>NaN</td>\n",
              "      <td>NaN</td>\n",
              "      <td>NaN</td>\n",
              "      <td>NaN</td>\n",
              "      <td>NaN</td>\n",
              "      <td>NaN</td>\n",
              "      <td>NaN</td>\n",
              "      <td>NaN</td>\n",
              "      <td>NaN</td>\n",
              "      <td>NaN</td>\n",
              "      <td>NaN</td>\n",
              "      <td>11.000000</td>\n",
              "      <td>NaN</td>\n",
              "      <td>NaN</td>\n",
              "      <td>NaN</td>\n",
              "      <td>NaN</td>\n",
              "      <td>NaN</td>\n",
              "      <td>NaN</td>\n",
              "      <td>NaN</td>\n",
              "      <td>NaN</td>\n",
              "      <td>NaN</td>\n",
              "      <td>NaN</td>\n",
              "      <td>NaN</td>\n",
              "      <td>NaN</td>\n",
              "      <td>NaN</td>\n",
              "      <td>NaN</td>\n",
              "      <td>...</td>\n",
              "      <td>NaN</td>\n",
              "      <td>NaN</td>\n",
              "      <td>NaN</td>\n",
              "      <td>NaN</td>\n",
              "      <td>NaN</td>\n",
              "      <td>NaN</td>\n",
              "      <td>NaN</td>\n",
              "      <td>NaN</td>\n",
              "      <td>NaN</td>\n",
              "      <td>NaN</td>\n",
              "      <td>NaN</td>\n",
              "      <td>NaN</td>\n",
              "      <td>NaN</td>\n",
              "      <td>NaN</td>\n",
              "      <td>NaN</td>\n",
              "      <td>NaN</td>\n",
              "      <td>NaN</td>\n",
              "      <td>NaN</td>\n",
              "      <td>NaN</td>\n",
              "      <td>NaN</td>\n",
              "      <td>NaN</td>\n",
              "      <td>NaN</td>\n",
              "      <td>NaN</td>\n",
              "      <td>NaN</td>\n",
              "      <td>NaN</td>\n",
              "      <td>NaN</td>\n",
              "      <td>NaN</td>\n",
              "      <td>NaN</td>\n",
              "      <td>NaN</td>\n",
              "      <td>NaN</td>\n",
              "      <td>NaN</td>\n",
              "      <td>NaN</td>\n",
              "      <td>NaN</td>\n",
              "      <td>NaN</td>\n",
              "      <td>NaN</td>\n",
              "      <td>NaN</td>\n",
              "      <td>NaN</td>\n",
              "      <td>NaN</td>\n",
              "      <td>NaN</td>\n",
              "      <td>NaN</td>\n",
              "    </tr>\n",
              "    <tr>\n",
              "      <th>max</th>\n",
              "      <td>226680.000000</td>\n",
              "      <td>NaN</td>\n",
              "      <td>NaN</td>\n",
              "      <td>18.407688</td>\n",
              "      <td>NaN</td>\n",
              "      <td>NaN</td>\n",
              "      <td>NaN</td>\n",
              "      <td>NaN</td>\n",
              "      <td>NaN</td>\n",
              "      <td>NaN</td>\n",
              "      <td>NaN</td>\n",
              "      <td>NaN</td>\n",
              "      <td>NaN</td>\n",
              "      <td>NaN</td>\n",
              "      <td>NaN</td>\n",
              "      <td>NaN</td>\n",
              "      <td>NaN</td>\n",
              "      <td>NaN</td>\n",
              "      <td>NaN</td>\n",
              "      <td>NaN</td>\n",
              "      <td>NaN</td>\n",
              "      <td>NaN</td>\n",
              "      <td>NaN</td>\n",
              "      <td>NaN</td>\n",
              "      <td>NaN</td>\n",
              "      <td>53.000000</td>\n",
              "      <td>NaN</td>\n",
              "      <td>NaN</td>\n",
              "      <td>NaN</td>\n",
              "      <td>NaN</td>\n",
              "      <td>NaN</td>\n",
              "      <td>NaN</td>\n",
              "      <td>NaN</td>\n",
              "      <td>NaN</td>\n",
              "      <td>NaN</td>\n",
              "      <td>NaN</td>\n",
              "      <td>NaN</td>\n",
              "      <td>NaN</td>\n",
              "      <td>NaN</td>\n",
              "      <td>NaN</td>\n",
              "      <td>...</td>\n",
              "      <td>NaN</td>\n",
              "      <td>NaN</td>\n",
              "      <td>NaN</td>\n",
              "      <td>NaN</td>\n",
              "      <td>NaN</td>\n",
              "      <td>NaN</td>\n",
              "      <td>NaN</td>\n",
              "      <td>NaN</td>\n",
              "      <td>NaN</td>\n",
              "      <td>NaN</td>\n",
              "      <td>NaN</td>\n",
              "      <td>NaN</td>\n",
              "      <td>NaN</td>\n",
              "      <td>NaN</td>\n",
              "      <td>NaN</td>\n",
              "      <td>NaN</td>\n",
              "      <td>NaN</td>\n",
              "      <td>NaN</td>\n",
              "      <td>NaN</td>\n",
              "      <td>NaN</td>\n",
              "      <td>NaN</td>\n",
              "      <td>NaN</td>\n",
              "      <td>NaN</td>\n",
              "      <td>NaN</td>\n",
              "      <td>NaN</td>\n",
              "      <td>NaN</td>\n",
              "      <td>NaN</td>\n",
              "      <td>NaN</td>\n",
              "      <td>NaN</td>\n",
              "      <td>NaN</td>\n",
              "      <td>NaN</td>\n",
              "      <td>NaN</td>\n",
              "      <td>NaN</td>\n",
              "      <td>NaN</td>\n",
              "      <td>NaN</td>\n",
              "      <td>NaN</td>\n",
              "      <td>NaN</td>\n",
              "      <td>NaN</td>\n",
              "      <td>NaN</td>\n",
              "      <td>NaN</td>\n",
              "    </tr>\n",
              "  </tbody>\n",
              "</table>\n",
              "<p>11 rows × 138 columns</p>\n",
              "</div>"
            ],
            "text/plain": [
              "                   ID             PRES  ... WPROTBRN   WPROTBRN3\n",
              "count    25034.000000            24696  ...     4531        2853\n",
              "unique            NaN                6  ...        2           3\n",
              "top               NaN  Hillary Clinton  ...       No  All others\n",
              "freq              NaN            12126  ...     3605        1357\n",
              "mean    188663.858712              NaN  ...      NaN         NaN\n",
              "std      27829.369563              NaN  ...      NaN         NaN\n",
              "min     135355.000000              NaN  ...      NaN         NaN\n",
              "25%     175885.250000              NaN  ...      NaN         NaN\n",
              "50%     193824.500000              NaN  ...      NaN         NaN\n",
              "75%     210374.500000              NaN  ...      NaN         NaN\n",
              "max     226680.000000              NaN  ...      NaN         NaN\n",
              "\n",
              "[11 rows x 138 columns]"
            ]
          },
          "metadata": {
            "tags": []
          },
          "execution_count": 9
        }
      ]
    },
    {
      "cell_type": "markdown",
      "metadata": {
        "id": "VFN4a_Lm3mfY"
      },
      "source": [
        "Notice that *every* row has some missing data! So, we can't just remove rows with missing data and work with the complete data.\n",
        "\n",
        "Instead, we'll have to make sure that the classifier we use is able to work with partial data. One important benefit of K nearest neighbors is that it can work well with data that has missing values, as long as we can think of a distance metric that behaves reasonably under these conditions."
      ]
    },
    {
      "cell_type": "markdown",
      "metadata": {
        "id": "aBH0quOZB0Yx"
      },
      "source": [
        "### Encode target variable as a binary variable"
      ]
    },
    {
      "cell_type": "markdown",
      "metadata": {
        "id": "rpd5z-3RB2vz"
      },
      "source": [
        "Our goal is to classify voters based on their vote in the 2016 presidential election, i.e. the value of the `PRES` column. We will restrict our attention to the candidates from the two major parties, so we will throw out the rows representing voters who chose other candidates:"
      ]
    },
    {
      "cell_type": "code",
      "metadata": {
        "id": "DQuEBEDVDxpO",
        "colab": {
          "base_uri": "https://localhost:8080/"
        },
        "outputId": "cffe2476-f4fb-443a-f225-56798a46e159"
      },
      "source": [
        "df = df[df['PRES'].isin(['Donald Trump', 'Hillary Clinton'])]\n",
        "df.reset_index(inplace=True, drop=True)\n",
        "df.info()"
      ],
      "execution_count": null,
      "outputs": [
        {
          "output_type": "stream",
          "text": [
            "<class 'pandas.core.frame.DataFrame'>\n",
            "RangeIndex: 22798 entries, 0 to 22797\n",
            "Columns: 138 entries, ID to WPROTBRN3\n",
            "dtypes: float64(1), int64(2), object(135)\n",
            "memory usage: 24.0+ MB\n"
          ],
          "name": "stdout"
        }
      ]
    },
    {
      "cell_type": "code",
      "metadata": {
        "id": "lk6SOWo7tG7Y",
        "colab": {
          "base_uri": "https://localhost:8080/",
          "height": 600
        },
        "outputId": "26f787f0-3c0e-4754-ac0a-32beb28c2051"
      },
      "source": [
        "df.head()"
      ],
      "execution_count": null,
      "outputs": [
        {
          "output_type": "execute_result",
          "data": {
            "text/html": [
              "<div>\n",
              "<style scoped>\n",
              "    .dataframe tbody tr th:only-of-type {\n",
              "        vertical-align: middle;\n",
              "    }\n",
              "\n",
              "    .dataframe tbody tr th {\n",
              "        vertical-align: top;\n",
              "    }\n",
              "\n",
              "    .dataframe thead th {\n",
              "        text-align: right;\n",
              "    }\n",
              "</style>\n",
              "<table border=\"1\" class=\"dataframe\">\n",
              "  <thead>\n",
              "    <tr style=\"text-align: right;\">\n",
              "      <th></th>\n",
              "      <th>ID</th>\n",
              "      <th>PRES</th>\n",
              "      <th>HOU</th>\n",
              "      <th>WEIGHT</th>\n",
              "      <th>@2WAYPRES16</th>\n",
              "      <th>AGE</th>\n",
              "      <th>AGE3</th>\n",
              "      <th>AGE8</th>\n",
              "      <th>AGE45</th>\n",
              "      <th>AGE49</th>\n",
              "      <th>AGE60</th>\n",
              "      <th>AGE65</th>\n",
              "      <th>AGEBLACK</th>\n",
              "      <th>AGEBYRACE</th>\n",
              "      <th>AGEBYRACE08</th>\n",
              "      <th>ATTEND16</th>\n",
              "      <th>ATTEND16B</th>\n",
              "      <th>ATTREL</th>\n",
              "      <th>BACKSIDE</th>\n",
              "      <th>BORNCITIZEN</th>\n",
              "      <th>BREAK12</th>\n",
              "      <th>BREAK12A</th>\n",
              "      <th>BREAK12B</th>\n",
              "      <th>BRNAGAIN</th>\n",
              "      <th>CALL</th>\n",
              "      <th>CDNUM</th>\n",
              "      <th>CHIEF16</th>\n",
              "      <th>CLINHONEST</th>\n",
              "      <th>CLINTONEMAIL</th>\n",
              "      <th>CLINTONEMAILB</th>\n",
              "      <th>CLINTONWINGEN</th>\n",
              "      <th>CLINTONWINGENB</th>\n",
              "      <th>COUNT2</th>\n",
              "      <th>COUNTACC</th>\n",
              "      <th>CUBAN3</th>\n",
              "      <th>DESCRIBP12</th>\n",
              "      <th>EDUC12R</th>\n",
              "      <th>EDUCCOLL</th>\n",
              "      <th>EDUCHS</th>\n",
              "      <th>EDUCWHITE</th>\n",
              "      <th>...</th>\n",
              "      <th>RACE2B</th>\n",
              "      <th>RACEAI</th>\n",
              "      <th>REGION</th>\n",
              "      <th>REL4</th>\n",
              "      <th>REL5</th>\n",
              "      <th>RELIGN10</th>\n",
              "      <th>RELWHITE</th>\n",
              "      <th>SEX</th>\n",
              "      <th>SEXBYRACE</th>\n",
              "      <th>SEXWED</th>\n",
              "      <th>SIZEPLAC</th>\n",
              "      <th>SIZEPLC3</th>\n",
              "      <th>SPANISHQ</th>\n",
              "      <th>SPLITTICKET</th>\n",
              "      <th>STANUM</th>\n",
              "      <th>SUBURBWHITE</th>\n",
              "      <th>SUPREME16</th>\n",
              "      <th>SUPREME16B</th>\n",
              "      <th>TELEPOLL</th>\n",
              "      <th>TEMPCLINTON</th>\n",
              "      <th>TEMPERAMENT16</th>\n",
              "      <th>TEMPTRUMP</th>\n",
              "      <th>TIME16</th>\n",
              "      <th>TIME16MONTH</th>\n",
              "      <th>TIME16WEEK</th>\n",
              "      <th>TRACK</th>\n",
              "      <th>TRADE16</th>\n",
              "      <th>TRUMPHONEST</th>\n",
              "      <th>TRUMPWINGEN</th>\n",
              "      <th>TRUMPWINGENB</th>\n",
              "      <th>TRUMPWOMEN</th>\n",
              "      <th>TRUMPWOMENB</th>\n",
              "      <th>UNIONHH12</th>\n",
              "      <th>VERSION</th>\n",
              "      <th>VETVOTER</th>\n",
              "      <th>WHITEREL</th>\n",
              "      <th>WHNCLINC</th>\n",
              "      <th>WHTEVANG</th>\n",
              "      <th>WPROTBRN</th>\n",
              "      <th>WPROTBRN3</th>\n",
              "    </tr>\n",
              "  </thead>\n",
              "  <tbody>\n",
              "    <tr>\n",
              "      <th>0</th>\n",
              "      <td>135355</td>\n",
              "      <td>Hillary Clinton</td>\n",
              "      <td>The Democratic candidate</td>\n",
              "      <td>6.530935</td>\n",
              "      <td>NaN</td>\n",
              "      <td>18-29</td>\n",
              "      <td>18-29</td>\n",
              "      <td>18-24</td>\n",
              "      <td>18-44</td>\n",
              "      <td>18-49</td>\n",
              "      <td>18-29</td>\n",
              "      <td>18-24</td>\n",
              "      <td>Non-Black 18-29</td>\n",
              "      <td>Latino 18-29</td>\n",
              "      <td>Latino 18-29</td>\n",
              "      <td>NaN</td>\n",
              "      <td>NaN</td>\n",
              "      <td>NaN</td>\n",
              "      <td>Complete</td>\n",
              "      <td>NaN</td>\n",
              "      <td>NaN</td>\n",
              "      <td>NaN</td>\n",
              "      <td>NaN</td>\n",
              "      <td>NaN</td>\n",
              "      <td>NaN</td>\n",
              "      <td>30</td>\n",
              "      <td>NaN</td>\n",
              "      <td>NaN</td>\n",
              "      <td>NaN</td>\n",
              "      <td>NaN</td>\n",
              "      <td>NaN</td>\n",
              "      <td>NaN</td>\n",
              "      <td>NaN</td>\n",
              "      <td>NaN</td>\n",
              "      <td>NaN</td>\n",
              "      <td>NaN</td>\n",
              "      <td>Some college/assoc. degree</td>\n",
              "      <td>No college degree</td>\n",
              "      <td>More than High school graduate</td>\n",
              "      <td>Non white no college degree</td>\n",
              "      <td>...</td>\n",
              "      <td>Non-white</td>\n",
              "      <td>Hispanic/Latino</td>\n",
              "      <td>West</td>\n",
              "      <td>NaN</td>\n",
              "      <td>NaN</td>\n",
              "      <td>NaN</td>\n",
              "      <td>NaN</td>\n",
              "      <td>Female</td>\n",
              "      <td>Latino women</td>\n",
              "      <td>Married women</td>\n",
              "      <td>Suburbs</td>\n",
              "      <td>Suburbs</td>\n",
              "      <td>English</td>\n",
              "      <td>NaN</td>\n",
              "      <td>California</td>\n",
              "      <td>Other</td>\n",
              "      <td>NaN</td>\n",
              "      <td>NaN</td>\n",
              "      <td>Telephone survey</td>\n",
              "      <td>NaN</td>\n",
              "      <td>NaN</td>\n",
              "      <td>NaN</td>\n",
              "      <td>In October</td>\n",
              "      <td>In the last month</td>\n",
              "      <td>Before that</td>\n",
              "      <td>NaN</td>\n",
              "      <td>NaN</td>\n",
              "      <td>NaN</td>\n",
              "      <td>NaN</td>\n",
              "      <td>NaN</td>\n",
              "      <td>NaN</td>\n",
              "      <td>NaN</td>\n",
              "      <td>NaN</td>\n",
              "      <td>Version 1</td>\n",
              "      <td>NaN</td>\n",
              "      <td>NaN</td>\n",
              "      <td>No</td>\n",
              "      <td>NaN</td>\n",
              "      <td>NaN</td>\n",
              "      <td>NaN</td>\n",
              "    </tr>\n",
              "    <tr>\n",
              "      <th>1</th>\n",
              "      <td>135356</td>\n",
              "      <td>Hillary Clinton</td>\n",
              "      <td>The Democratic candidate</td>\n",
              "      <td>6.479016</td>\n",
              "      <td>NaN</td>\n",
              "      <td>18-29</td>\n",
              "      <td>18-29</td>\n",
              "      <td>25-29</td>\n",
              "      <td>18-44</td>\n",
              "      <td>18-49</td>\n",
              "      <td>18-29</td>\n",
              "      <td>25-29</td>\n",
              "      <td>Non-Black 18-29</td>\n",
              "      <td>Latino 18-29</td>\n",
              "      <td>Latino 18-29</td>\n",
              "      <td>NaN</td>\n",
              "      <td>NaN</td>\n",
              "      <td>NaN</td>\n",
              "      <td>Complete</td>\n",
              "      <td>NaN</td>\n",
              "      <td>NaN</td>\n",
              "      <td>NaN</td>\n",
              "      <td>NaN</td>\n",
              "      <td>NaN</td>\n",
              "      <td>NaN</td>\n",
              "      <td>44</td>\n",
              "      <td>NaN</td>\n",
              "      <td>NaN</td>\n",
              "      <td>NaN</td>\n",
              "      <td>NaN</td>\n",
              "      <td>NaN</td>\n",
              "      <td>NaN</td>\n",
              "      <td>NaN</td>\n",
              "      <td>NaN</td>\n",
              "      <td>NaN</td>\n",
              "      <td>NaN</td>\n",
              "      <td>College graduate</td>\n",
              "      <td>College graduate</td>\n",
              "      <td>More than High school graduate</td>\n",
              "      <td>Non white college degree</td>\n",
              "      <td>...</td>\n",
              "      <td>Non-white</td>\n",
              "      <td>Hispanic/Latino</td>\n",
              "      <td>West</td>\n",
              "      <td>NaN</td>\n",
              "      <td>NaN</td>\n",
              "      <td>NaN</td>\n",
              "      <td>NaN</td>\n",
              "      <td>Male</td>\n",
              "      <td>Latino men</td>\n",
              "      <td>Married men</td>\n",
              "      <td>Suburbs</td>\n",
              "      <td>Suburbs</td>\n",
              "      <td>English</td>\n",
              "      <td>NaN</td>\n",
              "      <td>California</td>\n",
              "      <td>Other</td>\n",
              "      <td>NaN</td>\n",
              "      <td>NaN</td>\n",
              "      <td>Telephone survey</td>\n",
              "      <td>NaN</td>\n",
              "      <td>NaN</td>\n",
              "      <td>NaN</td>\n",
              "      <td>In October</td>\n",
              "      <td>In the last month</td>\n",
              "      <td>Before that</td>\n",
              "      <td>NaN</td>\n",
              "      <td>NaN</td>\n",
              "      <td>NaN</td>\n",
              "      <td>NaN</td>\n",
              "      <td>NaN</td>\n",
              "      <td>NaN</td>\n",
              "      <td>NaN</td>\n",
              "      <td>NaN</td>\n",
              "      <td>Version 1</td>\n",
              "      <td>NaN</td>\n",
              "      <td>NaN</td>\n",
              "      <td>No</td>\n",
              "      <td>NaN</td>\n",
              "      <td>NaN</td>\n",
              "      <td>NaN</td>\n",
              "    </tr>\n",
              "    <tr>\n",
              "      <th>2</th>\n",
              "      <td>135357</td>\n",
              "      <td>Hillary Clinton</td>\n",
              "      <td>The Democratic candidate</td>\n",
              "      <td>8.493230</td>\n",
              "      <td>NaN</td>\n",
              "      <td>30-44</td>\n",
              "      <td>30-59</td>\n",
              "      <td>30-39</td>\n",
              "      <td>18-44</td>\n",
              "      <td>18-49</td>\n",
              "      <td>30-44</td>\n",
              "      <td>30-39</td>\n",
              "      <td>Non-Black 30-44</td>\n",
              "      <td>All others</td>\n",
              "      <td>All others</td>\n",
              "      <td>NaN</td>\n",
              "      <td>NaN</td>\n",
              "      <td>NaN</td>\n",
              "      <td>Complete</td>\n",
              "      <td>NaN</td>\n",
              "      <td>NaN</td>\n",
              "      <td>NaN</td>\n",
              "      <td>NaN</td>\n",
              "      <td>NaN</td>\n",
              "      <td>NaN</td>\n",
              "      <td>6</td>\n",
              "      <td>NaN</td>\n",
              "      <td>NaN</td>\n",
              "      <td>NaN</td>\n",
              "      <td>NaN</td>\n",
              "      <td>NaN</td>\n",
              "      <td>NaN</td>\n",
              "      <td>NaN</td>\n",
              "      <td>NaN</td>\n",
              "      <td>NaN</td>\n",
              "      <td>NaN</td>\n",
              "      <td>College graduate</td>\n",
              "      <td>College graduate</td>\n",
              "      <td>More than High school graduate</td>\n",
              "      <td>Non white college degree</td>\n",
              "      <td>...</td>\n",
              "      <td>Non-white</td>\n",
              "      <td>Asian</td>\n",
              "      <td>West</td>\n",
              "      <td>NaN</td>\n",
              "      <td>NaN</td>\n",
              "      <td>NaN</td>\n",
              "      <td>NaN</td>\n",
              "      <td>Male</td>\n",
              "      <td>All other races</td>\n",
              "      <td>Married men</td>\n",
              "      <td>Cities 50,000-500,000</td>\n",
              "      <td>Cities over 50,000</td>\n",
              "      <td>English</td>\n",
              "      <td>NaN</td>\n",
              "      <td>California</td>\n",
              "      <td>Other</td>\n",
              "      <td>NaN</td>\n",
              "      <td>NaN</td>\n",
              "      <td>Telephone survey</td>\n",
              "      <td>NaN</td>\n",
              "      <td>NaN</td>\n",
              "      <td>NaN</td>\n",
              "      <td>In September</td>\n",
              "      <td>Before that</td>\n",
              "      <td>Before that</td>\n",
              "      <td>NaN</td>\n",
              "      <td>NaN</td>\n",
              "      <td>NaN</td>\n",
              "      <td>NaN</td>\n",
              "      <td>NaN</td>\n",
              "      <td>NaN</td>\n",
              "      <td>NaN</td>\n",
              "      <td>NaN</td>\n",
              "      <td>Version 1</td>\n",
              "      <td>NaN</td>\n",
              "      <td>NaN</td>\n",
              "      <td>No</td>\n",
              "      <td>NaN</td>\n",
              "      <td>NaN</td>\n",
              "      <td>NaN</td>\n",
              "    </tr>\n",
              "    <tr>\n",
              "      <th>3</th>\n",
              "      <td>135358</td>\n",
              "      <td>Hillary Clinton</td>\n",
              "      <td>The Democratic candidate</td>\n",
              "      <td>3.761814</td>\n",
              "      <td>NaN</td>\n",
              "      <td>30-44</td>\n",
              "      <td>30-59</td>\n",
              "      <td>30-39</td>\n",
              "      <td>18-44</td>\n",
              "      <td>18-49</td>\n",
              "      <td>30-44</td>\n",
              "      <td>30-39</td>\n",
              "      <td>Non-Black 30-44</td>\n",
              "      <td>All others</td>\n",
              "      <td>All others</td>\n",
              "      <td>NaN</td>\n",
              "      <td>NaN</td>\n",
              "      <td>NaN</td>\n",
              "      <td>Complete</td>\n",
              "      <td>NaN</td>\n",
              "      <td>NaN</td>\n",
              "      <td>NaN</td>\n",
              "      <td>NaN</td>\n",
              "      <td>NaN</td>\n",
              "      <td>NaN</td>\n",
              "      <td>11</td>\n",
              "      <td>NaN</td>\n",
              "      <td>NaN</td>\n",
              "      <td>NaN</td>\n",
              "      <td>NaN</td>\n",
              "      <td>NaN</td>\n",
              "      <td>NaN</td>\n",
              "      <td>NaN</td>\n",
              "      <td>NaN</td>\n",
              "      <td>NaN</td>\n",
              "      <td>NaN</td>\n",
              "      <td>Some college/assoc. degree</td>\n",
              "      <td>No college degree</td>\n",
              "      <td>More than High school graduate</td>\n",
              "      <td>Non white no college degree</td>\n",
              "      <td>...</td>\n",
              "      <td>Non-white</td>\n",
              "      <td>Other</td>\n",
              "      <td>West</td>\n",
              "      <td>NaN</td>\n",
              "      <td>NaN</td>\n",
              "      <td>NaN</td>\n",
              "      <td>NaN</td>\n",
              "      <td>Female</td>\n",
              "      <td>All other races</td>\n",
              "      <td>Non married women</td>\n",
              "      <td>Suburbs</td>\n",
              "      <td>Suburbs</td>\n",
              "      <td>English</td>\n",
              "      <td>NaN</td>\n",
              "      <td>California</td>\n",
              "      <td>Other</td>\n",
              "      <td>NaN</td>\n",
              "      <td>NaN</td>\n",
              "      <td>Telephone survey</td>\n",
              "      <td>NaN</td>\n",
              "      <td>NaN</td>\n",
              "      <td>NaN</td>\n",
              "      <td>In the last week</td>\n",
              "      <td>In the last month</td>\n",
              "      <td>In the last week</td>\n",
              "      <td>NaN</td>\n",
              "      <td>NaN</td>\n",
              "      <td>NaN</td>\n",
              "      <td>NaN</td>\n",
              "      <td>NaN</td>\n",
              "      <td>NaN</td>\n",
              "      <td>NaN</td>\n",
              "      <td>NaN</td>\n",
              "      <td>Version 1</td>\n",
              "      <td>NaN</td>\n",
              "      <td>NaN</td>\n",
              "      <td>No</td>\n",
              "      <td>NaN</td>\n",
              "      <td>NaN</td>\n",
              "      <td>NaN</td>\n",
              "    </tr>\n",
              "    <tr>\n",
              "      <th>4</th>\n",
              "      <td>135359</td>\n",
              "      <td>Hillary Clinton</td>\n",
              "      <td>The Democratic candidate</td>\n",
              "      <td>3.470473</td>\n",
              "      <td>NaN</td>\n",
              "      <td>45-65</td>\n",
              "      <td>30-59</td>\n",
              "      <td>45-49</td>\n",
              "      <td>45+</td>\n",
              "      <td>18-49</td>\n",
              "      <td>45-59</td>\n",
              "      <td>40-49</td>\n",
              "      <td>Black 45-59</td>\n",
              "      <td>Black 45-59</td>\n",
              "      <td>Black 45-64</td>\n",
              "      <td>NaN</td>\n",
              "      <td>NaN</td>\n",
              "      <td>NaN</td>\n",
              "      <td>Complete</td>\n",
              "      <td>NaN</td>\n",
              "      <td>NaN</td>\n",
              "      <td>NaN</td>\n",
              "      <td>NaN</td>\n",
              "      <td>NaN</td>\n",
              "      <td>NaN</td>\n",
              "      <td>37</td>\n",
              "      <td>NaN</td>\n",
              "      <td>NaN</td>\n",
              "      <td>NaN</td>\n",
              "      <td>NaN</td>\n",
              "      <td>NaN</td>\n",
              "      <td>NaN</td>\n",
              "      <td>NaN</td>\n",
              "      <td>NaN</td>\n",
              "      <td>NaN</td>\n",
              "      <td>NaN</td>\n",
              "      <td>Postgraduate study</td>\n",
              "      <td>College graduate</td>\n",
              "      <td>More than High school graduate</td>\n",
              "      <td>Non white college degree</td>\n",
              "      <td>...</td>\n",
              "      <td>Non-white</td>\n",
              "      <td>Black</td>\n",
              "      <td>West</td>\n",
              "      <td>NaN</td>\n",
              "      <td>NaN</td>\n",
              "      <td>NaN</td>\n",
              "      <td>NaN</td>\n",
              "      <td>Female</td>\n",
              "      <td>Black women</td>\n",
              "      <td>Non married women</td>\n",
              "      <td>Cities over 500,000</td>\n",
              "      <td>Cities over 50,000</td>\n",
              "      <td>English</td>\n",
              "      <td>NaN</td>\n",
              "      <td>California</td>\n",
              "      <td>Other</td>\n",
              "      <td>NaN</td>\n",
              "      <td>NaN</td>\n",
              "      <td>Telephone survey</td>\n",
              "      <td>NaN</td>\n",
              "      <td>NaN</td>\n",
              "      <td>NaN</td>\n",
              "      <td>Before that</td>\n",
              "      <td>Before that</td>\n",
              "      <td>Before that</td>\n",
              "      <td>NaN</td>\n",
              "      <td>NaN</td>\n",
              "      <td>NaN</td>\n",
              "      <td>NaN</td>\n",
              "      <td>NaN</td>\n",
              "      <td>NaN</td>\n",
              "      <td>NaN</td>\n",
              "      <td>NaN</td>\n",
              "      <td>Version 1</td>\n",
              "      <td>NaN</td>\n",
              "      <td>NaN</td>\n",
              "      <td>No</td>\n",
              "      <td>NaN</td>\n",
              "      <td>NaN</td>\n",
              "      <td>NaN</td>\n",
              "    </tr>\n",
              "  </tbody>\n",
              "</table>\n",
              "<p>5 rows × 138 columns</p>\n",
              "</div>"
            ],
            "text/plain": [
              "       ID             PRES  ... WPROTBRN  WPROTBRN3\n",
              "0  135355  Hillary Clinton  ...      NaN        NaN\n",
              "1  135356  Hillary Clinton  ...      NaN        NaN\n",
              "2  135357  Hillary Clinton  ...      NaN        NaN\n",
              "3  135358  Hillary Clinton  ...      NaN        NaN\n",
              "4  135359  Hillary Clinton  ...      NaN        NaN\n",
              "\n",
              "[5 rows x 138 columns]"
            ]
          },
          "metadata": {
            "tags": []
          },
          "execution_count": 11
        }
      ]
    },
    {
      "cell_type": "code",
      "metadata": {
        "id": "kCdI2OadE0dg",
        "colab": {
          "base_uri": "https://localhost:8080/"
        },
        "outputId": "f0274cb9-dac2-402d-8117-81bb41442887"
      },
      "source": [
        "df['PRES'].value_counts()"
      ],
      "execution_count": null,
      "outputs": [
        {
          "output_type": "execute_result",
          "data": {
            "text/plain": [
              "Hillary Clinton    12126\n",
              "Donald Trump       10672\n",
              "Name: PRES, dtype: int64"
            ]
          },
          "metadata": {
            "tags": []
          },
          "execution_count": 12
        }
      ]
    },
    {
      "cell_type": "markdown",
      "metadata": {
        "id": "N3pb3lLGEH3R"
      },
      "source": [
        "Now, we will transform the string value into a binary variable, and save the result in `y`."
      ]
    },
    {
      "cell_type": "code",
      "metadata": {
        "id": "4ytG1hEaCl-G",
        "colab": {
          "base_uri": "https://localhost:8080/"
        },
        "outputId": "ca0fcf6f-7ebf-4e63-e591-79c0e10ac97d"
      },
      "source": [
        "y = df['PRES'].map({'Donald Trump': 1, 'Hillary Clinton': 0}) \n",
        "y.value_counts()"
      ],
      "execution_count": null,
      "outputs": [
        {
          "output_type": "execute_result",
          "data": {
            "text/plain": [
              "0    12126\n",
              "1    10672\n",
              "Name: PRES, dtype: int64"
            ]
          },
          "metadata": {
            "tags": []
          },
          "execution_count": 13
        }
      ]
    },
    {
      "cell_type": "markdown",
      "metadata": {
        "id": "1ZCidcZ3cws1"
      },
      "source": [
        "### Get training and test indices"
      ]
    },
    {
      "cell_type": "markdown",
      "metadata": {
        "id": "HC-tqTvlc6Vw"
      },
      "source": [
        "We'll be working with many different subsets of this dataset, including different columns. \n",
        "\n",
        "So instead of splitting up the data into training and test sets, we'll get an array of training indices and an array of test indices using `ShuffleSplit`. Then, we can use these arrays throughout this notebook."
      ]
    },
    {
      "cell_type": "code",
      "metadata": {
        "id": "z0uYN8lKdXLj"
      },
      "source": [
        "idx_tr, idx_ts = next(ShuffleSplit(n_splits = 1, test_size = 0.3, random_state = 3).split(df['PRES']))"
      ],
      "execution_count": null,
      "outputs": []
    },
    {
      "cell_type": "markdown",
      "metadata": {
        "id": "XBso8B8-W0D2"
      },
      "source": [
        "I specified the state of the random number generator for repeatability, so that every time we run this notebook we'll have the same split. This makes it easier to discuss specific examples."
      ]
    },
    {
      "cell_type": "markdown",
      "metadata": {
        "id": "JiiraR1ie_6-"
      },
      "source": [
        "Now, we can use the `pandas` function `.iloc` to get the training and test parts of the data set for any column.\n"
      ]
    },
    {
      "cell_type": "markdown",
      "metadata": {
        "id": "Hc75UQnefRQy"
      },
      "source": [
        "For example, if we want the training subset of `y`:"
      ]
    },
    {
      "cell_type": "code",
      "metadata": {
        "id": "0JAVNPcYdo9f",
        "colab": {
          "base_uri": "https://localhost:8080/"
        },
        "outputId": "2fd9da5b-3918-48b5-af3d-e7b22d316f38"
      },
      "source": [
        "y.iloc[idx_tr]"
      ],
      "execution_count": null,
      "outputs": [
        {
          "output_type": "execute_result",
          "data": {
            "text/plain": [
              "1349     1\n",
              "14642    0\n",
              "18106    0\n",
              "19171    1\n",
              "17962    0\n",
              "        ..\n",
              "6400     1\n",
              "15288    0\n",
              "11513    0\n",
              "1688     1\n",
              "5994     0\n",
              "Name: PRES, Length: 15958, dtype: int64"
            ]
          },
          "metadata": {
            "tags": []
          },
          "execution_count": 15
        }
      ]
    },
    {
      "cell_type": "markdown",
      "metadata": {
        "id": "2wa9katMfjGI"
      },
      "source": [
        "or the test subset of `y`:"
      ]
    },
    {
      "cell_type": "code",
      "metadata": {
        "id": "gaOHgLLAfmLX",
        "colab": {
          "base_uri": "https://localhost:8080/"
        },
        "outputId": "c84a5bf6-f102-45bd-c336-551a43ac33e8"
      },
      "source": [
        "y.iloc[idx_ts]"
      ],
      "execution_count": null,
      "outputs": [
        {
          "output_type": "execute_result",
          "data": {
            "text/plain": [
              "21876    1\n",
              "17297    0\n",
              "19295    0\n",
              "8826     1\n",
              "11357    0\n",
              "        ..\n",
              "9144     0\n",
              "4409     0\n",
              "6320     0\n",
              "7824     0\n",
              "4012     1\n",
              "Name: PRES, Length: 6840, dtype: int64"
            ]
          },
          "metadata": {
            "tags": []
          },
          "execution_count": 16
        }
      ]
    },
    {
      "cell_type": "markdown",
      "metadata": {
        "id": "j10qaVDeFaE_"
      },
      "source": [
        "### Encode ordinal features"
      ]
    },
    {
      "cell_type": "markdown",
      "metadata": {
        "id": "qQN9tNCHFfCf"
      },
      "source": [
        "Next, we need to encode our features. All of the features are represented as strings, but we will have to transform them into something over which we can compute a meaningful distance measure."
      ]
    },
    {
      "cell_type": "markdown",
      "metadata": {
        "id": "ZIA1P8j1Fs11"
      },
      "source": [
        "Columns that have a logical order should be encoded using ordinal encoding, so that the distance metric will be meaningful.\n",
        "\n",
        "For example, consider the `AGE` column:"
      ]
    },
    {
      "cell_type": "code",
      "metadata": {
        "id": "QqGVIMV7FzwJ",
        "colab": {
          "base_uri": "https://localhost:8080/"
        },
        "outputId": "3e467860-a3c7-41cc-a926-09a0f06c751a"
      },
      "source": [
        "df['AGE'].unique()"
      ],
      "execution_count": null,
      "outputs": [
        {
          "output_type": "execute_result",
          "data": {
            "text/plain": [
              "array(['18-29', '30-44', '45-65', '65+', nan], dtype=object)"
            ]
          },
          "metadata": {
            "tags": []
          },
          "execution_count": 17
        }
      ]
    },
    {
      "cell_type": "code",
      "metadata": {
        "id": "CXBnB6TEHRt-",
        "colab": {
          "base_uri": "https://localhost:8080/"
        },
        "outputId": "3f7d31f0-1329-49c3-930d-afc6d6900b07"
      },
      "source": [
        "df['AGE'].value_counts()"
      ],
      "execution_count": null,
      "outputs": [
        {
          "output_type": "execute_result",
          "data": {
            "text/plain": [
              "45-65    9067\n",
              "30-44    5526\n",
              "65+      4398\n",
              "18-29    3649\n",
              "Name: AGE, dtype: int64"
            ]
          },
          "metadata": {
            "tags": []
          },
          "execution_count": 18
        }
      ]
    },
    {
      "cell_type": "markdown",
      "metadata": {
        "id": "oDPe6g3lF4ad"
      },
      "source": [
        "What if we transform the `AGE` column using four binary columns: `AGE_18-29`, `AGE_30-44`, `AGE_45-65`, `AGE_65+`, with a 0 or a 1 in each column to indicate the respondent's age?\n",
        "\n",
        "If we did this, we would lose meaningful information about the distance between ages; a respondent whose age is 18-29 would have the same distance to one whose age is 45-65 as to one whose age is 65+.\n",
        "\n",
        "Instead, we will use ordinal encoding, which will represent `AGE` in a single column with *ordered* integer values."
      ]
    },
    {
      "cell_type": "markdown",
      "metadata": {
        "id": "VdeQ1Ahb4l1g"
      },
      "source": [
        "First, we create an `OrdinalEncoder`:"
      ]
    },
    {
      "cell_type": "code",
      "metadata": {
        "id": "NfpZZEE_ARQN"
      },
      "source": [
        "enc_ord = ce.OrdinalEncoder(handle_missing='return_nan')"
      ],
      "execution_count": null,
      "outputs": []
    },
    {
      "cell_type": "markdown",
      "metadata": {
        "id": "8WX2yZuI4onG"
      },
      "source": [
        "Then, we `fit` it by passing the columns that we wish to encode as ordinal values:"
      ]
    },
    {
      "cell_type": "code",
      "metadata": {
        "id": "cv988EgDG3rS",
        "colab": {
          "base_uri": "https://localhost:8080/"
        },
        "outputId": "ab024443-81d9-4859-9f24-fe2a8091430f"
      },
      "source": [
        "enc_ord.fit(df['AGE'])"
      ],
      "execution_count": null,
      "outputs": [
        {
          "output_type": "execute_result",
          "data": {
            "text/plain": [
              "OrdinalEncoder(cols=['AGE'], drop_invariant=False, handle_missing='return_nan',\n",
              "               handle_unknown='value',\n",
              "               mapping=[{'col': 'AGE', 'data_type': dtype('O'),\n",
              "                         'mapping': 18-29    1\n",
              "30-44    2\n",
              "45-65    3\n",
              "65+      4\n",
              "NaN     -2\n",
              "dtype: int64}],\n",
              "               return_df=True, verbose=0)"
            ]
          },
          "metadata": {
            "tags": []
          },
          "execution_count": 20
        }
      ]
    },
    {
      "cell_type": "markdown",
      "metadata": {
        "id": "-49_XKwm4u0z"
      },
      "source": [
        "Finally, we use the \"fitted\" encoder to `transform` the data, and we save the result in `df_enc_ord`."
      ]
    },
    {
      "cell_type": "code",
      "metadata": {
        "id": "vZvJB--0A6W8",
        "colab": {
          "base_uri": "https://localhost:8080/"
        },
        "outputId": "0e4dca6d-46c3-4a18-e498-7ea71f764a7e"
      },
      "source": [
        "df_enc_ord = enc_ord.transform(df['AGE'])\n",
        "df_enc_ord['AGE'].value_counts()"
      ],
      "execution_count": null,
      "outputs": [
        {
          "output_type": "execute_result",
          "data": {
            "text/plain": [
              "3.0    9067\n",
              "2.0    5526\n",
              "4.0    4398\n",
              "1.0    3649\n",
              "Name: AGE, dtype: int64"
            ]
          },
          "metadata": {
            "tags": []
          },
          "execution_count": 21
        }
      ]
    },
    {
      "cell_type": "markdown",
      "metadata": {
        "id": "v-ixVIf2H5gi"
      },
      "source": [
        "We can pass more than one feature to our encoder, and it will encode all features. For example, let us consider the column `EDUC12R`, which includes the respondent's answer to the question:\n",
        "\n",
        "> Which best describes your education?\n",
        "> \n",
        "> 1. High school or less\n",
        "> 2. Some college/assoc. degree\n",
        "> 3. College graduate\n",
        "> 4. Postgraduate study"
      ]
    },
    {
      "cell_type": "code",
      "metadata": {
        "id": "yUxIRSWVIZCd",
        "colab": {
          "base_uri": "https://localhost:8080/"
        },
        "outputId": "074c40d1-bae0-467b-a7f6-ebaab786980b"
      },
      "source": [
        "df['EDUC12R'].value_counts()"
      ],
      "execution_count": null,
      "outputs": [
        {
          "output_type": "execute_result",
          "data": {
            "text/plain": [
              "Some college/assoc. degree    7134\n",
              "College graduate              6747\n",
              "Postgraduate study            4071\n",
              "High school or less           3846\n",
              "Name: EDUC12R, dtype: int64"
            ]
          },
          "metadata": {
            "tags": []
          },
          "execution_count": 22
        }
      ]
    },
    {
      "cell_type": "markdown",
      "metadata": {
        "id": "jjWIPeD0INMV"
      },
      "source": [
        "We can try to fit the encoder using both `AGE` and `EDUC12R`:"
      ]
    },
    {
      "cell_type": "code",
      "metadata": {
        "id": "KSapFMouIRmj",
        "colab": {
          "base_uri": "https://localhost:8080/"
        },
        "outputId": "7d743685-bae9-4c8d-f42a-8b90a1afed88"
      },
      "source": [
        "features = ['EDUC12R', 'AGE']\n",
        "\n",
        "enc_ord = ce.OrdinalEncoder(handle_missing='return_nan')\n",
        "enc_ord.fit(df[features])"
      ],
      "execution_count": null,
      "outputs": [
        {
          "output_type": "execute_result",
          "data": {
            "text/plain": [
              "OrdinalEncoder(cols=['EDUC12R', 'AGE'], drop_invariant=False,\n",
              "               handle_missing='return_nan', handle_unknown='value',\n",
              "               mapping=[{'col': 'EDUC12R', 'data_type': dtype('O'),\n",
              "                         'mapping': Some college/assoc. degree    1\n",
              "College graduate              2\n",
              "Postgraduate study            3\n",
              "High school or less           4\n",
              "NaN                          -2\n",
              "dtype: int64},\n",
              "                        {'col': 'AGE', 'data_type': dtype('O'),\n",
              "                         'mapping': 18-29    1\n",
              "30-44    2\n",
              "45-65    3\n",
              "65+      4\n",
              "NaN     -2\n",
              "dtype: int64}],\n",
              "               return_df=True, verbose=0)"
            ]
          },
          "metadata": {
            "tags": []
          },
          "execution_count": 23
        }
      ]
    },
    {
      "cell_type": "markdown",
      "metadata": {
        "id": "q4HPOQM6Iy1I"
      },
      "source": [
        "For this column, the order that the encoder \"guesses\" is not the desired order - the \"High school or less\" answer should have the smallest value, followed by \"Some college/assoc. degree\", then \"College graduate\", then \"Postgraduate study\".\n",
        "\n",
        "To address this, we will pass a dictionary that tells the encoder exactly how to map these columns so that they are in the desired order:"
      ]
    },
    {
      "cell_type": "code",
      "metadata": {
        "id": "5pGbJmhxKQtp",
        "colab": {
          "base_uri": "https://localhost:8080/"
        },
        "outputId": "f5d48c98-da42-4324-d7ba-a4058f05e624"
      },
      "source": [
        "mapping_dict = {'col': 'AGE', 'mapping': \n",
        "                {'18-29': 1, \n",
        "                 '30-44': 2,\n",
        "                 '45-65': 3,\n",
        "                 '65+': 4}\n",
        "                }, {'col': 'EDUC12R', 'mapping':  \n",
        "                  {'High school or less': 1,\n",
        "                   'Some college/assoc. degree': 2,\n",
        "                   'College graduate': 3,\n",
        "                   'Postgraduate study': 4}\n",
        "                    }\n",
        "\n",
        "features = ['EDUC12R', 'AGE']\n",
        "\n",
        "enc_ord = ce.OrdinalEncoder(handle_missing='return_nan', mapping=mapping_dict)\n",
        "enc_ord.fit(df[features])"
      ],
      "execution_count": null,
      "outputs": [
        {
          "output_type": "execute_result",
          "data": {
            "text/plain": [
              "OrdinalEncoder(cols=['EDUC12R', 'AGE'], drop_invariant=False,\n",
              "               handle_missing='return_nan', handle_unknown='value',\n",
              "               mapping=({'col': 'AGE',\n",
              "                         'mapping': {'18-29': 1, '30-44': 2, '45-65': 3,\n",
              "                                     '65+': 4}},\n",
              "                        {'col': 'EDUC12R',\n",
              "                         'mapping': {'College graduate': 3,\n",
              "                                     'High school or less': 1,\n",
              "                                     'Postgraduate study': 4,\n",
              "                                     'Some college/assoc. degree': 2}}),\n",
              "               return_df=True, verbose=0)"
            ]
          },
          "metadata": {
            "tags": []
          },
          "execution_count": 24
        }
      ]
    },
    {
      "cell_type": "markdown",
      "metadata": {
        "id": "4vBYOpU_5a7R"
      },
      "source": [
        "(Note: for certain features, some rows may have an \"Omit\" value. These should be mapped to -1, which we will convert to NaN later.)"
      ]
    },
    {
      "cell_type": "markdown",
      "metadata": {
        "id": "QiY4eaO54-30"
      },
      "source": [
        "Then, we can get the encoded version of these columns:"
      ]
    },
    {
      "cell_type": "code",
      "metadata": {
        "id": "o5kRAhgRLKMT"
      },
      "source": [
        "df_enc_ord = enc_ord.transform(df[features])"
      ],
      "execution_count": null,
      "outputs": []
    },
    {
      "cell_type": "code",
      "metadata": {
        "id": "q3g9bhAPLO8Y",
        "colab": {
          "base_uri": "https://localhost:8080/"
        },
        "outputId": "a7ce87ec-2301-464e-aaa1-4f7626278e48"
      },
      "source": [
        "df_enc_ord['AGE'].value_counts()"
      ],
      "execution_count": null,
      "outputs": [
        {
          "output_type": "execute_result",
          "data": {
            "text/plain": [
              " 3.0    9067\n",
              " 2.0    5526\n",
              " 4.0    4398\n",
              " 1.0    3649\n",
              "-1.0     158\n",
              "Name: AGE, dtype: int64"
            ]
          },
          "metadata": {
            "tags": []
          },
          "execution_count": 26
        }
      ]
    },
    {
      "cell_type": "code",
      "metadata": {
        "id": "de7w_UdkLP1B",
        "colab": {
          "base_uri": "https://localhost:8080/"
        },
        "outputId": "28353245-195d-4c69-b34a-61b66887c98c"
      },
      "source": [
        "df_enc_ord['EDUC12R'].value_counts()"
      ],
      "execution_count": null,
      "outputs": [
        {
          "output_type": "execute_result",
          "data": {
            "text/plain": [
              " 2.0    7134\n",
              " 3.0    6747\n",
              " 4.0    4071\n",
              " 1.0    3846\n",
              "-1.0    1000\n",
              "Name: EDUC12R, dtype: int64"
            ]
          },
          "metadata": {
            "tags": []
          },
          "execution_count": 27
        }
      ]
    },
    {
      "cell_type": "markdown",
      "metadata": {
        "id": "7r1xo5PYL8YW"
      },
      "source": [
        "Missing values were encoded as -1, which we can transform back to NaN:"
      ]
    },
    {
      "cell_type": "code",
      "metadata": {
        "id": "IynSWr96Lhr8",
        "colab": {
          "base_uri": "https://localhost:8080/"
        },
        "outputId": "46f25062-96e7-4b47-9b00-21501292b7b6"
      },
      "source": [
        "df_enc_ord.replace(-1, float(\"NaN\"), inplace=True)\n",
        "df_enc_ord.isna().sum()"
      ],
      "execution_count": null,
      "outputs": [
        {
          "output_type": "execute_result",
          "data": {
            "text/plain": [
              "EDUC12R    1000\n",
              "AGE         158\n",
              "dtype: int64"
            ]
          },
          "metadata": {
            "tags": []
          },
          "execution_count": 28
        }
      ]
    },
    {
      "cell_type": "markdown",
      "metadata": {
        "id": "BoSrRQqUUYvE"
      },
      "source": [
        "Note that the values in the encoded columns range from 1 to the number of categories.\n",
        "\n",
        "For K nearest neighbors, the \"importance\" of each feature in determining the class label would be proportional to its scale. If we leave it as is, any feature with a larger range of possible values will be considered more \"important!\"\n",
        "\n",
        "So, we will re-scale our encoded features to the unit interval:"
      ]
    },
    {
      "cell_type": "code",
      "metadata": {
        "id": "zlbyI-kBUo_s"
      },
      "source": [
        "for col in df_enc_ord.columns:\n",
        "  df_enc_ord[col] = df_enc_ord[col]-df_enc_ord[col].min(skipna=True)\n",
        "  df_enc_ord[col] = df_enc_ord[col]/df_enc_ord[col].max(skipna=True)"
      ],
      "execution_count": null,
      "outputs": []
    },
    {
      "cell_type": "code",
      "metadata": {
        "id": "jtmR5he66FL6",
        "colab": {
          "base_uri": "https://localhost:8080/",
          "height": 299
        },
        "outputId": "61f18ea1-0412-4d5f-9c8c-761e121305f4"
      },
      "source": [
        "df_enc_ord.describe()"
      ],
      "execution_count": null,
      "outputs": [
        {
          "output_type": "execute_result",
          "data": {
            "text/html": [
              "<div>\n",
              "<style scoped>\n",
              "    .dataframe tbody tr th:only-of-type {\n",
              "        vertical-align: middle;\n",
              "    }\n",
              "\n",
              "    .dataframe tbody tr th {\n",
              "        vertical-align: top;\n",
              "    }\n",
              "\n",
              "    .dataframe thead th {\n",
              "        text-align: right;\n",
              "    }\n",
              "</style>\n",
              "<table border=\"1\" class=\"dataframe\">\n",
              "  <thead>\n",
              "    <tr style=\"text-align: right;\">\n",
              "      <th></th>\n",
              "      <th>EDUC12R</th>\n",
              "      <th>AGE</th>\n",
              "    </tr>\n",
              "  </thead>\n",
              "  <tbody>\n",
              "    <tr>\n",
              "      <th>count</th>\n",
              "      <td>21798.000000</td>\n",
              "      <td>22640.000000</td>\n",
              "    </tr>\n",
              "    <tr>\n",
              "      <th>mean</th>\n",
              "      <td>0.502202</td>\n",
              "      <td>0.542609</td>\n",
              "    </tr>\n",
              "    <tr>\n",
              "      <th>std</th>\n",
              "      <td>0.329376</td>\n",
              "      <td>0.323963</td>\n",
              "    </tr>\n",
              "    <tr>\n",
              "      <th>min</th>\n",
              "      <td>0.000000</td>\n",
              "      <td>0.000000</td>\n",
              "    </tr>\n",
              "    <tr>\n",
              "      <th>25%</th>\n",
              "      <td>0.333333</td>\n",
              "      <td>0.333333</td>\n",
              "    </tr>\n",
              "    <tr>\n",
              "      <th>50%</th>\n",
              "      <td>0.333333</td>\n",
              "      <td>0.666667</td>\n",
              "    </tr>\n",
              "    <tr>\n",
              "      <th>75%</th>\n",
              "      <td>0.666667</td>\n",
              "      <td>0.666667</td>\n",
              "    </tr>\n",
              "    <tr>\n",
              "      <th>max</th>\n",
              "      <td>1.000000</td>\n",
              "      <td>1.000000</td>\n",
              "    </tr>\n",
              "  </tbody>\n",
              "</table>\n",
              "</div>"
            ],
            "text/plain": [
              "            EDUC12R           AGE\n",
              "count  21798.000000  22640.000000\n",
              "mean       0.502202      0.542609\n",
              "std        0.329376      0.323963\n",
              "min        0.000000      0.000000\n",
              "25%        0.333333      0.333333\n",
              "50%        0.333333      0.666667\n",
              "75%        0.666667      0.666667\n",
              "max        1.000000      1.000000"
            ]
          },
          "metadata": {
            "tags": []
          },
          "execution_count": 30
        }
      ]
    },
    {
      "cell_type": "markdown",
      "metadata": {
        "id": "_dMTNjg0cRjY"
      },
      "source": [
        "Now, each feature is on the same scale - the value varies 0 to 1."
      ]
    },
    {
      "cell_type": "markdown",
      "metadata": {
        "id": "NBTWRnPpQNCj"
      },
      "source": [
        "### Encode categorical features"
      ]
    },
    {
      "cell_type": "markdown",
      "metadata": {
        "id": "QBGIXS-IQPIC"
      },
      "source": [
        "In the previous section, we encoded features that have a logical ordering.\n",
        "\n",
        "Other categorical features, such as `RACE`, have no logical ordering. "
      ]
    },
    {
      "cell_type": "code",
      "metadata": {
        "id": "W2DTW02SQSQl",
        "colab": {
          "base_uri": "https://localhost:8080/"
        },
        "outputId": "58830cd3-3400-480d-ff17-886845677288"
      },
      "source": [
        "df['RACE'].value_counts()"
      ],
      "execution_count": null,
      "outputs": [
        {
          "output_type": "execute_result",
          "data": {
            "text/plain": [
              "White              15918\n",
              "Black               2993\n",
              "Hispanic/Latino     2210\n",
              "Asian                686\n",
              "Other                681\n",
              "Name: RACE, dtype: int64"
            ]
          },
          "metadata": {
            "tags": []
          },
          "execution_count": 31
        }
      ]
    },
    {
      "cell_type": "markdown",
      "metadata": {
        "id": "AMMFDEsM6R0s"
      },
      "source": [
        "These should be encoded using one-hot encoding, which will create a new column for each unique value, and then put a 1 or 0 in each column to indicate the respondent's answer."
      ]
    },
    {
      "cell_type": "code",
      "metadata": {
        "id": "qQIK2OQSQYai",
        "colab": {
          "base_uri": "https://localhost:8080/"
        },
        "outputId": "3535624e-16ad-4ae2-88d5-46d89f5c7ead"
      },
      "source": [
        "enc_oh = ce.OneHotEncoder(use_cat_names=True, handle_missing='return_nan')\n",
        "enc_oh.fit(df['RACE'])"
      ],
      "execution_count": null,
      "outputs": [
        {
          "output_type": "stream",
          "text": [
            "/usr/local/lib/python3.7/dist-packages/category_encoders/utils.py:21: FutureWarning: is_categorical is deprecated and will be removed in a future version.  Use is_categorical_dtype instead\n",
            "  elif pd.api.types.is_categorical(cols):\n"
          ],
          "name": "stderr"
        },
        {
          "output_type": "execute_result",
          "data": {
            "text/plain": [
              "OneHotEncoder(cols=['RACE'], drop_invariant=False, handle_missing='return_nan',\n",
              "              handle_unknown='value', return_df=True, use_cat_names=True,\n",
              "              verbose=0)"
            ]
          },
          "metadata": {
            "tags": []
          },
          "execution_count": 32
        }
      ]
    },
    {
      "cell_type": "code",
      "metadata": {
        "id": "--g2eMxuQkxs"
      },
      "source": [
        "df_enc_oh = enc_oh.transform(df['RACE'])"
      ],
      "execution_count": null,
      "outputs": []
    },
    {
      "cell_type": "code",
      "metadata": {
        "id": "F_pLQpxvQo_E",
        "colab": {
          "base_uri": "https://localhost:8080/",
          "height": 422
        },
        "outputId": "b4fe0a58-3005-43bb-cee4-338d145b99f7"
      },
      "source": [
        "df_enc_oh"
      ],
      "execution_count": null,
      "outputs": [
        {
          "output_type": "execute_result",
          "data": {
            "text/html": [
              "<div>\n",
              "<style scoped>\n",
              "    .dataframe tbody tr th:only-of-type {\n",
              "        vertical-align: middle;\n",
              "    }\n",
              "\n",
              "    .dataframe tbody tr th {\n",
              "        vertical-align: top;\n",
              "    }\n",
              "\n",
              "    .dataframe thead th {\n",
              "        text-align: right;\n",
              "    }\n",
              "</style>\n",
              "<table border=\"1\" class=\"dataframe\">\n",
              "  <thead>\n",
              "    <tr style=\"text-align: right;\">\n",
              "      <th></th>\n",
              "      <th>RACE_Hispanic/Latino</th>\n",
              "      <th>RACE_Asian</th>\n",
              "      <th>RACE_Other</th>\n",
              "      <th>RACE_Black</th>\n",
              "      <th>RACE_White</th>\n",
              "      <th>RACE_nan</th>\n",
              "    </tr>\n",
              "  </thead>\n",
              "  <tbody>\n",
              "    <tr>\n",
              "      <th>0</th>\n",
              "      <td>1.0</td>\n",
              "      <td>0.0</td>\n",
              "      <td>0.0</td>\n",
              "      <td>0.0</td>\n",
              "      <td>0.0</td>\n",
              "      <td>0.0</td>\n",
              "    </tr>\n",
              "    <tr>\n",
              "      <th>1</th>\n",
              "      <td>1.0</td>\n",
              "      <td>0.0</td>\n",
              "      <td>0.0</td>\n",
              "      <td>0.0</td>\n",
              "      <td>0.0</td>\n",
              "      <td>0.0</td>\n",
              "    </tr>\n",
              "    <tr>\n",
              "      <th>2</th>\n",
              "      <td>0.0</td>\n",
              "      <td>1.0</td>\n",
              "      <td>0.0</td>\n",
              "      <td>0.0</td>\n",
              "      <td>0.0</td>\n",
              "      <td>0.0</td>\n",
              "    </tr>\n",
              "    <tr>\n",
              "      <th>3</th>\n",
              "      <td>0.0</td>\n",
              "      <td>0.0</td>\n",
              "      <td>1.0</td>\n",
              "      <td>0.0</td>\n",
              "      <td>0.0</td>\n",
              "      <td>0.0</td>\n",
              "    </tr>\n",
              "    <tr>\n",
              "      <th>4</th>\n",
              "      <td>0.0</td>\n",
              "      <td>0.0</td>\n",
              "      <td>0.0</td>\n",
              "      <td>1.0</td>\n",
              "      <td>0.0</td>\n",
              "      <td>0.0</td>\n",
              "    </tr>\n",
              "    <tr>\n",
              "      <th>...</th>\n",
              "      <td>...</td>\n",
              "      <td>...</td>\n",
              "      <td>...</td>\n",
              "      <td>...</td>\n",
              "      <td>...</td>\n",
              "      <td>...</td>\n",
              "    </tr>\n",
              "    <tr>\n",
              "      <th>22793</th>\n",
              "      <td>0.0</td>\n",
              "      <td>0.0</td>\n",
              "      <td>0.0</td>\n",
              "      <td>0.0</td>\n",
              "      <td>1.0</td>\n",
              "      <td>0.0</td>\n",
              "    </tr>\n",
              "    <tr>\n",
              "      <th>22794</th>\n",
              "      <td>0.0</td>\n",
              "      <td>0.0</td>\n",
              "      <td>0.0</td>\n",
              "      <td>1.0</td>\n",
              "      <td>0.0</td>\n",
              "      <td>0.0</td>\n",
              "    </tr>\n",
              "    <tr>\n",
              "      <th>22795</th>\n",
              "      <td>0.0</td>\n",
              "      <td>0.0</td>\n",
              "      <td>0.0</td>\n",
              "      <td>1.0</td>\n",
              "      <td>0.0</td>\n",
              "      <td>0.0</td>\n",
              "    </tr>\n",
              "    <tr>\n",
              "      <th>22796</th>\n",
              "      <td>0.0</td>\n",
              "      <td>0.0</td>\n",
              "      <td>0.0</td>\n",
              "      <td>0.0</td>\n",
              "      <td>1.0</td>\n",
              "      <td>0.0</td>\n",
              "    </tr>\n",
              "    <tr>\n",
              "      <th>22797</th>\n",
              "      <td>0.0</td>\n",
              "      <td>0.0</td>\n",
              "      <td>0.0</td>\n",
              "      <td>0.0</td>\n",
              "      <td>1.0</td>\n",
              "      <td>0.0</td>\n",
              "    </tr>\n",
              "  </tbody>\n",
              "</table>\n",
              "<p>22798 rows × 6 columns</p>\n",
              "</div>"
            ],
            "text/plain": [
              "       RACE_Hispanic/Latino  RACE_Asian  ...  RACE_White  RACE_nan\n",
              "0                       1.0         0.0  ...         0.0       0.0\n",
              "1                       1.0         0.0  ...         0.0       0.0\n",
              "2                       0.0         1.0  ...         0.0       0.0\n",
              "3                       0.0         0.0  ...         0.0       0.0\n",
              "4                       0.0         0.0  ...         0.0       0.0\n",
              "...                     ...         ...  ...         ...       ...\n",
              "22793                   0.0         0.0  ...         1.0       0.0\n",
              "22794                   0.0         0.0  ...         0.0       0.0\n",
              "22795                   0.0         0.0  ...         0.0       0.0\n",
              "22796                   0.0         0.0  ...         1.0       0.0\n",
              "22797                   0.0         0.0  ...         1.0       0.0\n",
              "\n",
              "[22798 rows x 6 columns]"
            ]
          },
          "metadata": {
            "tags": []
          },
          "execution_count": 34
        }
      ]
    },
    {
      "cell_type": "markdown",
      "metadata": {
        "id": "rYYkjbYEn27B"
      },
      "source": [
        "Note that we have some respondents for which this feature is not available. These respondents have a NaN in all `RACE` columns:"
      ]
    },
    {
      "cell_type": "code",
      "metadata": {
        "id": "bvVEQYwFvPJL",
        "colab": {
          "base_uri": "https://localhost:8080/"
        },
        "outputId": "e6214b7b-8d1f-48ca-d143-3e1906f85860"
      },
      "source": [
        "df_enc_oh.isnull().sum()"
      ],
      "execution_count": null,
      "outputs": [
        {
          "output_type": "execute_result",
          "data": {
            "text/plain": [
              "RACE_Hispanic/Latino    310\n",
              "RACE_Asian              310\n",
              "RACE_Other              310\n",
              "RACE_Black              310\n",
              "RACE_White              310\n",
              "RACE_nan                310\n",
              "dtype: int64"
            ]
          },
          "metadata": {
            "tags": []
          },
          "execution_count": 35
        }
      ]
    },
    {
      "cell_type": "markdown",
      "metadata": {
        "id": "JDQMtdGo6kZ7"
      },
      "source": [
        "So, we can drop the `RACE_nan` column.\n",
        "\n",
        "(For certain columns, some rows may have an \"Omit\" value recorded. We would also drop `FEATURE_Omit` columns wherever they may occur, so that these will not be included in the distance computations.)"
      ]
    },
    {
      "cell_type": "code",
      "metadata": {
        "id": "2pT3pw4YRhXE"
      },
      "source": [
        "columns_to_drop = ['RACE_nan']\n",
        "df_enc_oh.drop(columns_to_drop, axis=1, inplace=True)"
      ],
      "execution_count": null,
      "outputs": []
    },
    {
      "cell_type": "code",
      "metadata": {
        "id": "DqcCFpAORoJE",
        "colab": {
          "base_uri": "https://localhost:8080/",
          "height": 205
        },
        "outputId": "29c85151-c069-4ed0-fd59-d1649723fc3e"
      },
      "source": [
        "df_enc_oh.head()"
      ],
      "execution_count": null,
      "outputs": [
        {
          "output_type": "execute_result",
          "data": {
            "text/html": [
              "<div>\n",
              "<style scoped>\n",
              "    .dataframe tbody tr th:only-of-type {\n",
              "        vertical-align: middle;\n",
              "    }\n",
              "\n",
              "    .dataframe tbody tr th {\n",
              "        vertical-align: top;\n",
              "    }\n",
              "\n",
              "    .dataframe thead th {\n",
              "        text-align: right;\n",
              "    }\n",
              "</style>\n",
              "<table border=\"1\" class=\"dataframe\">\n",
              "  <thead>\n",
              "    <tr style=\"text-align: right;\">\n",
              "      <th></th>\n",
              "      <th>RACE_Hispanic/Latino</th>\n",
              "      <th>RACE_Asian</th>\n",
              "      <th>RACE_Other</th>\n",
              "      <th>RACE_Black</th>\n",
              "      <th>RACE_White</th>\n",
              "    </tr>\n",
              "  </thead>\n",
              "  <tbody>\n",
              "    <tr>\n",
              "      <th>0</th>\n",
              "      <td>1.0</td>\n",
              "      <td>0.0</td>\n",
              "      <td>0.0</td>\n",
              "      <td>0.0</td>\n",
              "      <td>0.0</td>\n",
              "    </tr>\n",
              "    <tr>\n",
              "      <th>1</th>\n",
              "      <td>1.0</td>\n",
              "      <td>0.0</td>\n",
              "      <td>0.0</td>\n",
              "      <td>0.0</td>\n",
              "      <td>0.0</td>\n",
              "    </tr>\n",
              "    <tr>\n",
              "      <th>2</th>\n",
              "      <td>0.0</td>\n",
              "      <td>1.0</td>\n",
              "      <td>0.0</td>\n",
              "      <td>0.0</td>\n",
              "      <td>0.0</td>\n",
              "    </tr>\n",
              "    <tr>\n",
              "      <th>3</th>\n",
              "      <td>0.0</td>\n",
              "      <td>0.0</td>\n",
              "      <td>1.0</td>\n",
              "      <td>0.0</td>\n",
              "      <td>0.0</td>\n",
              "    </tr>\n",
              "    <tr>\n",
              "      <th>4</th>\n",
              "      <td>0.0</td>\n",
              "      <td>0.0</td>\n",
              "      <td>0.0</td>\n",
              "      <td>1.0</td>\n",
              "      <td>0.0</td>\n",
              "    </tr>\n",
              "  </tbody>\n",
              "</table>\n",
              "</div>"
            ],
            "text/plain": [
              "   RACE_Hispanic/Latino  RACE_Asian  RACE_Other  RACE_Black  RACE_White\n",
              "0                   1.0         0.0         0.0         0.0         0.0\n",
              "1                   1.0         0.0         0.0         0.0         0.0\n",
              "2                   0.0         1.0         0.0         0.0         0.0\n",
              "3                   0.0         0.0         1.0         0.0         0.0\n",
              "4                   0.0         0.0         0.0         1.0         0.0"
            ]
          },
          "metadata": {
            "tags": []
          },
          "execution_count": 37
        }
      ]
    },
    {
      "cell_type": "markdown",
      "metadata": {
        "id": "O0DeoS9wMF3L"
      },
      "source": [
        "## Train a k nearest neighbors classifier"
      ]
    },
    {
      "cell_type": "markdown",
      "metadata": {
        "id": "80Z2NneZ7aBV"
      },
      "source": [
        "Now that we have a target variable, a couple of features, and training and test indices, let's see what happens if we try to train a K nearest neighbors classifier.\n",
        "\n",
        "First, we'll prepare our feature data, by column-wise concatenating the ordinal-encoded feature columns and the one-hot-encoded feature columns:"
      ]
    },
    {
      "cell_type": "code",
      "metadata": {
        "id": "0RYlgnJKnlp0"
      },
      "source": [
        "X = pd.concat([df_enc_oh, df_enc_ord], axis=1)"
      ],
      "execution_count": null,
      "outputs": []
    },
    {
      "cell_type": "markdown",
      "metadata": {
        "id": "AQTxgdxtoKZi"
      },
      "source": [
        "Here are the summary statistics for the training data:"
      ]
    },
    {
      "cell_type": "code",
      "metadata": {
        "id": "5L2sVMCQnuoS",
        "colab": {
          "base_uri": "https://localhost:8080/",
          "height": 299
        },
        "outputId": "a1013a69-656e-4589-c2e1-33160f501ead"
      },
      "source": [
        "X.iloc[idx_tr].describe()"
      ],
      "execution_count": null,
      "outputs": [
        {
          "output_type": "execute_result",
          "data": {
            "text/html": [
              "<div>\n",
              "<style scoped>\n",
              "    .dataframe tbody tr th:only-of-type {\n",
              "        vertical-align: middle;\n",
              "    }\n",
              "\n",
              "    .dataframe tbody tr th {\n",
              "        vertical-align: top;\n",
              "    }\n",
              "\n",
              "    .dataframe thead th {\n",
              "        text-align: right;\n",
              "    }\n",
              "</style>\n",
              "<table border=\"1\" class=\"dataframe\">\n",
              "  <thead>\n",
              "    <tr style=\"text-align: right;\">\n",
              "      <th></th>\n",
              "      <th>RACE_Hispanic/Latino</th>\n",
              "      <th>RACE_Asian</th>\n",
              "      <th>RACE_Other</th>\n",
              "      <th>RACE_Black</th>\n",
              "      <th>RACE_White</th>\n",
              "      <th>EDUC12R</th>\n",
              "      <th>AGE</th>\n",
              "    </tr>\n",
              "  </thead>\n",
              "  <tbody>\n",
              "    <tr>\n",
              "      <th>count</th>\n",
              "      <td>15744.000000</td>\n",
              "      <td>15744.000000</td>\n",
              "      <td>15744.000000</td>\n",
              "      <td>15744.000000</td>\n",
              "      <td>15744.000000</td>\n",
              "      <td>15261.000000</td>\n",
              "      <td>15846.000000</td>\n",
              "    </tr>\n",
              "    <tr>\n",
              "      <th>mean</th>\n",
              "      <td>0.097561</td>\n",
              "      <td>0.030043</td>\n",
              "      <td>0.031885</td>\n",
              "      <td>0.133067</td>\n",
              "      <td>0.707444</td>\n",
              "      <td>0.503396</td>\n",
              "      <td>0.541398</td>\n",
              "    </tr>\n",
              "    <tr>\n",
              "      <th>std</th>\n",
              "      <td>0.296730</td>\n",
              "      <td>0.170712</td>\n",
              "      <td>0.175700</td>\n",
              "      <td>0.339657</td>\n",
              "      <td>0.454951</td>\n",
              "      <td>0.329551</td>\n",
              "      <td>0.324832</td>\n",
              "    </tr>\n",
              "    <tr>\n",
              "      <th>min</th>\n",
              "      <td>0.000000</td>\n",
              "      <td>0.000000</td>\n",
              "      <td>0.000000</td>\n",
              "      <td>0.000000</td>\n",
              "      <td>0.000000</td>\n",
              "      <td>0.000000</td>\n",
              "      <td>0.000000</td>\n",
              "    </tr>\n",
              "    <tr>\n",
              "      <th>25%</th>\n",
              "      <td>0.000000</td>\n",
              "      <td>0.000000</td>\n",
              "      <td>0.000000</td>\n",
              "      <td>0.000000</td>\n",
              "      <td>0.000000</td>\n",
              "      <td>0.333333</td>\n",
              "      <td>0.333333</td>\n",
              "    </tr>\n",
              "    <tr>\n",
              "      <th>50%</th>\n",
              "      <td>0.000000</td>\n",
              "      <td>0.000000</td>\n",
              "      <td>0.000000</td>\n",
              "      <td>0.000000</td>\n",
              "      <td>1.000000</td>\n",
              "      <td>0.333333</td>\n",
              "      <td>0.666667</td>\n",
              "    </tr>\n",
              "    <tr>\n",
              "      <th>75%</th>\n",
              "      <td>0.000000</td>\n",
              "      <td>0.000000</td>\n",
              "      <td>0.000000</td>\n",
              "      <td>0.000000</td>\n",
              "      <td>1.000000</td>\n",
              "      <td>0.666667</td>\n",
              "      <td>0.666667</td>\n",
              "    </tr>\n",
              "    <tr>\n",
              "      <th>max</th>\n",
              "      <td>1.000000</td>\n",
              "      <td>1.000000</td>\n",
              "      <td>1.000000</td>\n",
              "      <td>1.000000</td>\n",
              "      <td>1.000000</td>\n",
              "      <td>1.000000</td>\n",
              "      <td>1.000000</td>\n",
              "    </tr>\n",
              "  </tbody>\n",
              "</table>\n",
              "</div>"
            ],
            "text/plain": [
              "       RACE_Hispanic/Latino    RACE_Asian  ...       EDUC12R           AGE\n",
              "count          15744.000000  15744.000000  ...  15261.000000  15846.000000\n",
              "mean               0.097561      0.030043  ...      0.503396      0.541398\n",
              "std                0.296730      0.170712  ...      0.329551      0.324832\n",
              "min                0.000000      0.000000  ...      0.000000      0.000000\n",
              "25%                0.000000      0.000000  ...      0.333333      0.333333\n",
              "50%                0.000000      0.000000  ...      0.333333      0.666667\n",
              "75%                0.000000      0.000000  ...      0.666667      0.666667\n",
              "max                1.000000      1.000000  ...      1.000000      1.000000\n",
              "\n",
              "[8 rows x 7 columns]"
            ]
          },
          "metadata": {
            "tags": []
          },
          "execution_count": 39
        }
      ]
    },
    {
      "cell_type": "markdown",
      "metadata": {
        "id": "2f7gNqFyEkbj"
      },
      "source": [
        "and for the test data:\n"
      ]
    },
    {
      "cell_type": "code",
      "metadata": {
        "id": "tfqm56H7ElVt",
        "colab": {
          "base_uri": "https://localhost:8080/",
          "height": 299
        },
        "outputId": "9854a81c-3672-4218-9979-2b9ef9e45324"
      },
      "source": [
        "X.iloc[idx_ts].describe()"
      ],
      "execution_count": null,
      "outputs": [
        {
          "output_type": "execute_result",
          "data": {
            "text/html": [
              "<div>\n",
              "<style scoped>\n",
              "    .dataframe tbody tr th:only-of-type {\n",
              "        vertical-align: middle;\n",
              "    }\n",
              "\n",
              "    .dataframe tbody tr th {\n",
              "        vertical-align: top;\n",
              "    }\n",
              "\n",
              "    .dataframe thead th {\n",
              "        text-align: right;\n",
              "    }\n",
              "</style>\n",
              "<table border=\"1\" class=\"dataframe\">\n",
              "  <thead>\n",
              "    <tr style=\"text-align: right;\">\n",
              "      <th></th>\n",
              "      <th>RACE_Hispanic/Latino</th>\n",
              "      <th>RACE_Asian</th>\n",
              "      <th>RACE_Other</th>\n",
              "      <th>RACE_Black</th>\n",
              "      <th>RACE_White</th>\n",
              "      <th>EDUC12R</th>\n",
              "      <th>AGE</th>\n",
              "    </tr>\n",
              "  </thead>\n",
              "  <tbody>\n",
              "    <tr>\n",
              "      <th>count</th>\n",
              "      <td>6744.000000</td>\n",
              "      <td>6744.000000</td>\n",
              "      <td>6744.000000</td>\n",
              "      <td>6744.000000</td>\n",
              "      <td>6744.000000</td>\n",
              "      <td>6537.000000</td>\n",
              "      <td>6794.000000</td>\n",
              "    </tr>\n",
              "    <tr>\n",
              "      <th>mean</th>\n",
              "      <td>0.099941</td>\n",
              "      <td>0.031584</td>\n",
              "      <td>0.026542</td>\n",
              "      <td>0.133155</td>\n",
              "      <td>0.708778</td>\n",
              "      <td>0.499414</td>\n",
              "      <td>0.545432</td>\n",
              "    </tr>\n",
              "    <tr>\n",
              "      <th>std</th>\n",
              "      <td>0.299943</td>\n",
              "      <td>0.174902</td>\n",
              "      <td>0.160753</td>\n",
              "      <td>0.339768</td>\n",
              "      <td>0.454359</td>\n",
              "      <td>0.328976</td>\n",
              "      <td>0.321933</td>\n",
              "    </tr>\n",
              "    <tr>\n",
              "      <th>min</th>\n",
              "      <td>0.000000</td>\n",
              "      <td>0.000000</td>\n",
              "      <td>0.000000</td>\n",
              "      <td>0.000000</td>\n",
              "      <td>0.000000</td>\n",
              "      <td>0.000000</td>\n",
              "      <td>0.000000</td>\n",
              "    </tr>\n",
              "    <tr>\n",
              "      <th>25%</th>\n",
              "      <td>0.000000</td>\n",
              "      <td>0.000000</td>\n",
              "      <td>0.000000</td>\n",
              "      <td>0.000000</td>\n",
              "      <td>0.000000</td>\n",
              "      <td>0.333333</td>\n",
              "      <td>0.333333</td>\n",
              "    </tr>\n",
              "    <tr>\n",
              "      <th>50%</th>\n",
              "      <td>0.000000</td>\n",
              "      <td>0.000000</td>\n",
              "      <td>0.000000</td>\n",
              "      <td>0.000000</td>\n",
              "      <td>1.000000</td>\n",
              "      <td>0.333333</td>\n",
              "      <td>0.666667</td>\n",
              "    </tr>\n",
              "    <tr>\n",
              "      <th>75%</th>\n",
              "      <td>0.000000</td>\n",
              "      <td>0.000000</td>\n",
              "      <td>0.000000</td>\n",
              "      <td>0.000000</td>\n",
              "      <td>1.000000</td>\n",
              "      <td>0.666667</td>\n",
              "      <td>0.666667</td>\n",
              "    </tr>\n",
              "    <tr>\n",
              "      <th>max</th>\n",
              "      <td>1.000000</td>\n",
              "      <td>1.000000</td>\n",
              "      <td>1.000000</td>\n",
              "      <td>1.000000</td>\n",
              "      <td>1.000000</td>\n",
              "      <td>1.000000</td>\n",
              "      <td>1.000000</td>\n",
              "    </tr>\n",
              "  </tbody>\n",
              "</table>\n",
              "</div>"
            ],
            "text/plain": [
              "       RACE_Hispanic/Latino   RACE_Asian  ...      EDUC12R          AGE\n",
              "count           6744.000000  6744.000000  ...  6537.000000  6794.000000\n",
              "mean               0.099941     0.031584  ...     0.499414     0.545432\n",
              "std                0.299943     0.174902  ...     0.328976     0.321933\n",
              "min                0.000000     0.000000  ...     0.000000     0.000000\n",
              "25%                0.000000     0.000000  ...     0.333333     0.333333\n",
              "50%                0.000000     0.000000  ...     0.333333     0.666667\n",
              "75%                0.000000     0.000000  ...     0.666667     0.666667\n",
              "max                1.000000     1.000000  ...     1.000000     1.000000\n",
              "\n",
              "[8 rows x 7 columns]"
            ]
          },
          "metadata": {
            "tags": []
          },
          "execution_count": 40
        }
      ]
    },
    {
      "cell_type": "markdown",
      "metadata": {
        "id": "jh7U1dxlnbsF"
      },
      "source": [
        "This classifier will only use a few features, but we'll see how well we can do with those to start."
      ]
    },
    {
      "cell_type": "markdown",
      "metadata": {
        "id": "k1EnMb-VIBsT"
      },
      "source": [
        "### Baseline: \"prediction by mode\""
      ]
    },
    {
      "cell_type": "markdown",
      "metadata": {
        "id": "3o0hfTZY7b_d"
      },
      "source": [
        "As a baseline against which to judge the performance of our classifier, let's find out the accuracy of a classifier that gives the majority class label (0) to all samples in our test set:"
      ]
    },
    {
      "cell_type": "code",
      "metadata": {
        "id": "zkGUPX5z7t3s",
        "colab": {
          "base_uri": "https://localhost:8080/"
        },
        "outputId": "ea362b04-3d3f-4eb7-e14b-2ede921018d7"
      },
      "source": [
        "accuracy_score(y.iloc[idx_ts], np.repeat(0, len(y.iloc[idx_ts])))"
      ],
      "execution_count": null,
      "outputs": [
        {
          "output_type": "execute_result",
          "data": {
            "text/plain": [
              "0.5321637426900585"
            ]
          },
          "metadata": {
            "tags": []
          },
          "execution_count": 41
        }
      ]
    },
    {
      "cell_type": "markdown",
      "metadata": {
        "id": "iKDhIpC9OltQ"
      },
      "source": [
        "A classifier trained on the data should do *at least* as well as the one that predicts the majority class label. Hopefully, we'll be able to do much better!"
      ]
    },
    {
      "cell_type": "markdown",
      "metadata": {
        "id": "eUPTZFACIEDN"
      },
      "source": [
        "### `KNeighborsClassifier` does not support data with NaNs\n"
      ]
    },
    {
      "cell_type": "markdown",
      "metadata": {
        "id": "B5jgElqx70qs"
      },
      "source": [
        "If we try to train a `KNeighborsClassifier` on our data using the default settings, it will fail with the error message\n",
        "\n",
        "```\n",
        "ValueError: Input contains NaN, infinity or a value too large for dtype('float64').\n",
        "```\n",
        "\n"
      ]
    },
    {
      "cell_type": "markdown",
      "metadata": {
        "id": "n7yiS_f6QRH8"
      },
      "source": [
        "Un-comment these lines, run the cell, and see for yourself:"
      ]
    },
    {
      "cell_type": "code",
      "metadata": {
        "id": "-DrOp24f79wu"
      },
      "source": [
        "#clf = KNeighborsClassifier(n_neighbors=3)\n",
        "#clf.fit(X.iloc[idx_tr], y.iloc[idx_tr])"
      ],
      "execution_count": null,
      "outputs": []
    },
    {
      "cell_type": "markdown",
      "metadata": {
        "id": "e1dZ4Of6haKn"
      },
      "source": [
        "This is because we have many missing values in our data:"
      ]
    },
    {
      "cell_type": "code",
      "metadata": {
        "id": "5SfrS_hehTY1",
        "colab": {
          "base_uri": "https://localhost:8080/"
        },
        "outputId": "1710fdb3-2707-4667-fe82-3eae062ce3bb"
      },
      "source": [
        "X.isna().sum()"
      ],
      "execution_count": null,
      "outputs": [
        {
          "output_type": "execute_result",
          "data": {
            "text/plain": [
              "RACE_Hispanic/Latino     310\n",
              "RACE_Asian               310\n",
              "RACE_Other               310\n",
              "RACE_Black               310\n",
              "RACE_White               310\n",
              "EDUC12R                 1000\n",
              "AGE                      158\n",
              "dtype: int64"
            ]
          },
          "metadata": {
            "tags": []
          },
          "execution_count": 43
        }
      ]
    },
    {
      "cell_type": "markdown",
      "metadata": {
        "id": "p3UnbjlDhccN"
      },
      "source": [
        "The distance metric is not defined for vectors with missing values."
      ]
    },
    {
      "cell_type": "markdown",
      "metadata": {
        "id": "KVwzU1MYUYHF"
      },
      "source": [
        "### Writing our own `KNeighborsClassifier`"
      ]
    },
    {
      "cell_type": "markdown",
      "metadata": {
        "id": "9RxonPHeIL4n"
      },
      "source": [
        "Although we cannot use the `sklearn` implementation of a `KNeighborsClassifier`, we can write our own. We need a few things:\n",
        "\n",
        "* a function that implements a distance metric\n",
        "* a function that accepts a distance matrix and returns the indices of the K smallest values for each row\n",
        "* a function that returns the majority vote of the training samples represented by those indices"
      ]
    },
    {
      "cell_type": "markdown",
      "metadata": {
        "id": "XFZi7K7wwrVT"
      },
      "source": [
        "Let's start with the distance metric. Suppose we use an L1 distance computed over the features that are non-NaN for both samples:"
      ]
    },
    {
      "cell_type": "code",
      "metadata": {
        "id": "Krors3-owqbg"
      },
      "source": [
        "def custom_distance(a, b):\n",
        "  dif = np.abs(np.subtract(a,b))    # element-wise absolute difference\n",
        "  # dif will have NaN for each element where either a or b is NaN\n",
        "  l1 = np.nansum(dif, axis=1)  # sum of differences, treating NaN as 0\n",
        "  return l1"
      ],
      "execution_count": null,
      "outputs": []
    },
    {
      "cell_type": "markdown",
      "metadata": {
        "id": "IrERjfuWL6Lm"
      },
      "source": [
        "The function above expects a vector for the first argument and a matrix for the second argument, and returns a vector. \n",
        "\n",
        "For example: suppose you pass a test point $x_t$ and a matrix of training samples where each row $x_0, \\ldots, x_n$ is another training sample. It will return a vector $d_t$ with as many elements as there are training samples, and where the $i$th entry is the distance between the test point $x_t$ and training sample $x_i$."
      ]
    },
    {
      "cell_type": "markdown",
      "metadata": {
        "id": "JJT555Z8GKZO"
      },
      "source": [
        "To see how to this function is used, let's consider an example with a small number of test samples and training samples."
      ]
    },
    {
      "cell_type": "markdown",
      "metadata": {
        "id": "92BFPX8PFJ2O"
      },
      "source": [
        "Suppose we had this set of test data:"
      ]
    },
    {
      "cell_type": "code",
      "metadata": {
        "id": "ZlWJpQeAFLhK",
        "colab": {
          "base_uri": "https://localhost:8080/",
          "height": 205
        },
        "outputId": "2383119d-6b50-488a-8c07-1d953dbac607"
      },
      "source": [
        "a_idx = np.array([10296, 510,4827,20937, 22501])\n",
        "a = X.iloc[a_idx]\n",
        "a"
      ],
      "execution_count": null,
      "outputs": [
        {
          "output_type": "execute_result",
          "data": {
            "text/html": [
              "<div>\n",
              "<style scoped>\n",
              "    .dataframe tbody tr th:only-of-type {\n",
              "        vertical-align: middle;\n",
              "    }\n",
              "\n",
              "    .dataframe tbody tr th {\n",
              "        vertical-align: top;\n",
              "    }\n",
              "\n",
              "    .dataframe thead th {\n",
              "        text-align: right;\n",
              "    }\n",
              "</style>\n",
              "<table border=\"1\" class=\"dataframe\">\n",
              "  <thead>\n",
              "    <tr style=\"text-align: right;\">\n",
              "      <th></th>\n",
              "      <th>RACE_Hispanic/Latino</th>\n",
              "      <th>RACE_Asian</th>\n",
              "      <th>RACE_Other</th>\n",
              "      <th>RACE_Black</th>\n",
              "      <th>RACE_White</th>\n",
              "      <th>EDUC12R</th>\n",
              "      <th>AGE</th>\n",
              "    </tr>\n",
              "  </thead>\n",
              "  <tbody>\n",
              "    <tr>\n",
              "      <th>10296</th>\n",
              "      <td>0.0</td>\n",
              "      <td>0.0</td>\n",
              "      <td>0.0</td>\n",
              "      <td>0.0</td>\n",
              "      <td>1.0</td>\n",
              "      <td>0.666667</td>\n",
              "      <td>0.666667</td>\n",
              "    </tr>\n",
              "    <tr>\n",
              "      <th>510</th>\n",
              "      <td>0.0</td>\n",
              "      <td>0.0</td>\n",
              "      <td>0.0</td>\n",
              "      <td>0.0</td>\n",
              "      <td>1.0</td>\n",
              "      <td>0.666667</td>\n",
              "      <td>1.000000</td>\n",
              "    </tr>\n",
              "    <tr>\n",
              "      <th>4827</th>\n",
              "      <td>0.0</td>\n",
              "      <td>0.0</td>\n",
              "      <td>0.0</td>\n",
              "      <td>0.0</td>\n",
              "      <td>1.0</td>\n",
              "      <td>0.333333</td>\n",
              "      <td>0.666667</td>\n",
              "    </tr>\n",
              "    <tr>\n",
              "      <th>20937</th>\n",
              "      <td>0.0</td>\n",
              "      <td>0.0</td>\n",
              "      <td>0.0</td>\n",
              "      <td>1.0</td>\n",
              "      <td>0.0</td>\n",
              "      <td>0.333333</td>\n",
              "      <td>0.333333</td>\n",
              "    </tr>\n",
              "    <tr>\n",
              "      <th>22501</th>\n",
              "      <td>NaN</td>\n",
              "      <td>NaN</td>\n",
              "      <td>NaN</td>\n",
              "      <td>NaN</td>\n",
              "      <td>NaN</td>\n",
              "      <td>1.000000</td>\n",
              "      <td>0.666667</td>\n",
              "    </tr>\n",
              "  </tbody>\n",
              "</table>\n",
              "</div>"
            ],
            "text/plain": [
              "       RACE_Hispanic/Latino  RACE_Asian  ...   EDUC12R       AGE\n",
              "10296                   0.0         0.0  ...  0.666667  0.666667\n",
              "510                     0.0         0.0  ...  0.666667  1.000000\n",
              "4827                    0.0         0.0  ...  0.333333  0.666667\n",
              "20937                   0.0         0.0  ...  0.333333  0.333333\n",
              "22501                   NaN         NaN  ...  1.000000  0.666667\n",
              "\n",
              "[5 rows x 7 columns]"
            ]
          },
          "metadata": {
            "tags": []
          },
          "execution_count": 45
        }
      ]
    },
    {
      "cell_type": "markdown",
      "metadata": {
        "id": "r2zwPmizFkTC"
      },
      "source": [
        "and this set of training data:"
      ]
    },
    {
      "cell_type": "code",
      "metadata": {
        "id": "6CmQLTL6Fld8",
        "colab": {
          "base_uri": "https://localhost:8080/",
          "height": 486
        },
        "outputId": "505fc462-f874-421b-f4e4-e06dc23b88a4"
      },
      "source": [
        "b_idx = np.array([10379, 4343, 7359,  1028,  2266, 131, 11833, 14106,  6682,  4402, 11899,  5877, 11758, 13163])\n",
        "b = X.iloc[b_idx]\n",
        "b"
      ],
      "execution_count": null,
      "outputs": [
        {
          "output_type": "execute_result",
          "data": {
            "text/html": [
              "<div>\n",
              "<style scoped>\n",
              "    .dataframe tbody tr th:only-of-type {\n",
              "        vertical-align: middle;\n",
              "    }\n",
              "\n",
              "    .dataframe tbody tr th {\n",
              "        vertical-align: top;\n",
              "    }\n",
              "\n",
              "    .dataframe thead th {\n",
              "        text-align: right;\n",
              "    }\n",
              "</style>\n",
              "<table border=\"1\" class=\"dataframe\">\n",
              "  <thead>\n",
              "    <tr style=\"text-align: right;\">\n",
              "      <th></th>\n",
              "      <th>RACE_Hispanic/Latino</th>\n",
              "      <th>RACE_Asian</th>\n",
              "      <th>RACE_Other</th>\n",
              "      <th>RACE_Black</th>\n",
              "      <th>RACE_White</th>\n",
              "      <th>EDUC12R</th>\n",
              "      <th>AGE</th>\n",
              "    </tr>\n",
              "  </thead>\n",
              "  <tbody>\n",
              "    <tr>\n",
              "      <th>10379</th>\n",
              "      <td>NaN</td>\n",
              "      <td>NaN</td>\n",
              "      <td>NaN</td>\n",
              "      <td>NaN</td>\n",
              "      <td>NaN</td>\n",
              "      <td>NaN</td>\n",
              "      <td>NaN</td>\n",
              "    </tr>\n",
              "    <tr>\n",
              "      <th>4343</th>\n",
              "      <td>0.0</td>\n",
              "      <td>1.0</td>\n",
              "      <td>0.0</td>\n",
              "      <td>0.0</td>\n",
              "      <td>0.0</td>\n",
              "      <td>0.666667</td>\n",
              "      <td>0.666667</td>\n",
              "    </tr>\n",
              "    <tr>\n",
              "      <th>7359</th>\n",
              "      <td>0.0</td>\n",
              "      <td>0.0</td>\n",
              "      <td>0.0</td>\n",
              "      <td>0.0</td>\n",
              "      <td>1.0</td>\n",
              "      <td>0.000000</td>\n",
              "      <td>0.000000</td>\n",
              "    </tr>\n",
              "    <tr>\n",
              "      <th>1028</th>\n",
              "      <td>0.0</td>\n",
              "      <td>0.0</td>\n",
              "      <td>0.0</td>\n",
              "      <td>1.0</td>\n",
              "      <td>0.0</td>\n",
              "      <td>0.000000</td>\n",
              "      <td>1.000000</td>\n",
              "    </tr>\n",
              "    <tr>\n",
              "      <th>2266</th>\n",
              "      <td>0.0</td>\n",
              "      <td>0.0</td>\n",
              "      <td>0.0</td>\n",
              "      <td>0.0</td>\n",
              "      <td>1.0</td>\n",
              "      <td>0.666667</td>\n",
              "      <td>1.000000</td>\n",
              "    </tr>\n",
              "    <tr>\n",
              "      <th>131</th>\n",
              "      <td>NaN</td>\n",
              "      <td>NaN</td>\n",
              "      <td>NaN</td>\n",
              "      <td>NaN</td>\n",
              "      <td>NaN</td>\n",
              "      <td>0.666667</td>\n",
              "      <td>1.000000</td>\n",
              "    </tr>\n",
              "    <tr>\n",
              "      <th>11833</th>\n",
              "      <td>0.0</td>\n",
              "      <td>0.0</td>\n",
              "      <td>0.0</td>\n",
              "      <td>0.0</td>\n",
              "      <td>1.0</td>\n",
              "      <td>0.000000</td>\n",
              "      <td>1.000000</td>\n",
              "    </tr>\n",
              "    <tr>\n",
              "      <th>14106</th>\n",
              "      <td>0.0</td>\n",
              "      <td>0.0</td>\n",
              "      <td>0.0</td>\n",
              "      <td>0.0</td>\n",
              "      <td>1.0</td>\n",
              "      <td>0.666667</td>\n",
              "      <td>0.000000</td>\n",
              "    </tr>\n",
              "    <tr>\n",
              "      <th>6682</th>\n",
              "      <td>0.0</td>\n",
              "      <td>0.0</td>\n",
              "      <td>0.0</td>\n",
              "      <td>0.0</td>\n",
              "      <td>1.0</td>\n",
              "      <td>0.000000</td>\n",
              "      <td>1.000000</td>\n",
              "    </tr>\n",
              "    <tr>\n",
              "      <th>4402</th>\n",
              "      <td>0.0</td>\n",
              "      <td>0.0</td>\n",
              "      <td>0.0</td>\n",
              "      <td>0.0</td>\n",
              "      <td>1.0</td>\n",
              "      <td>0.666667</td>\n",
              "      <td>0.333333</td>\n",
              "    </tr>\n",
              "    <tr>\n",
              "      <th>11899</th>\n",
              "      <td>0.0</td>\n",
              "      <td>0.0</td>\n",
              "      <td>0.0</td>\n",
              "      <td>0.0</td>\n",
              "      <td>1.0</td>\n",
              "      <td>0.000000</td>\n",
              "      <td>0.666667</td>\n",
              "    </tr>\n",
              "    <tr>\n",
              "      <th>5877</th>\n",
              "      <td>1.0</td>\n",
              "      <td>0.0</td>\n",
              "      <td>0.0</td>\n",
              "      <td>0.0</td>\n",
              "      <td>0.0</td>\n",
              "      <td>NaN</td>\n",
              "      <td>0.000000</td>\n",
              "    </tr>\n",
              "    <tr>\n",
              "      <th>11758</th>\n",
              "      <td>0.0</td>\n",
              "      <td>0.0</td>\n",
              "      <td>0.0</td>\n",
              "      <td>1.0</td>\n",
              "      <td>0.0</td>\n",
              "      <td>0.666667</td>\n",
              "      <td>0.666667</td>\n",
              "    </tr>\n",
              "    <tr>\n",
              "      <th>13163</th>\n",
              "      <td>0.0</td>\n",
              "      <td>0.0</td>\n",
              "      <td>0.0</td>\n",
              "      <td>1.0</td>\n",
              "      <td>0.0</td>\n",
              "      <td>0.666667</td>\n",
              "      <td>0.666667</td>\n",
              "    </tr>\n",
              "  </tbody>\n",
              "</table>\n",
              "</div>"
            ],
            "text/plain": [
              "       RACE_Hispanic/Latino  RACE_Asian  ...   EDUC12R       AGE\n",
              "10379                   NaN         NaN  ...       NaN       NaN\n",
              "4343                    0.0         1.0  ...  0.666667  0.666667\n",
              "7359                    0.0         0.0  ...  0.000000  0.000000\n",
              "1028                    0.0         0.0  ...  0.000000  1.000000\n",
              "2266                    0.0         0.0  ...  0.666667  1.000000\n",
              "131                     NaN         NaN  ...  0.666667  1.000000\n",
              "11833                   0.0         0.0  ...  0.000000  1.000000\n",
              "14106                   0.0         0.0  ...  0.666667  0.000000\n",
              "6682                    0.0         0.0  ...  0.000000  1.000000\n",
              "4402                    0.0         0.0  ...  0.666667  0.333333\n",
              "11899                   0.0         0.0  ...  0.000000  0.666667\n",
              "5877                    1.0         0.0  ...       NaN  0.000000\n",
              "11758                   0.0         0.0  ...  0.666667  0.666667\n",
              "13163                   0.0         0.0  ...  0.666667  0.666667\n",
              "\n",
              "[14 rows x 7 columns]"
            ]
          },
          "metadata": {
            "tags": []
          },
          "execution_count": 46
        }
      ]
    },
    {
      "cell_type": "markdown",
      "metadata": {
        "id": "ip77A0aWGFiS"
      },
      "source": [
        "We will set up a *distance matrix* in which to store the results. In the distance matrix, an entry in row $i$, column $j$ represents the distance between row $i$ of the test set and row $j$ of the training set. \n",
        "\n",
        "So the distance matrix should have as many rows as there are test samples, and as many columns as there are training samples."
      ]
    },
    {
      "cell_type": "code",
      "metadata": {
        "id": "lN5nvFj94KH0",
        "colab": {
          "base_uri": "https://localhost:8080/"
        },
        "outputId": "55bcca91-eb61-4d24-fcae-29cd1f3c02e9"
      },
      "source": [
        "distances_custom = np.zeros(shape=(len(a_idx), len(b_idx)))\n",
        "distances_custom.shape"
      ],
      "execution_count": null,
      "outputs": [
        {
          "output_type": "execute_result",
          "data": {
            "text/plain": [
              "(5, 14)"
            ]
          },
          "metadata": {
            "tags": []
          },
          "execution_count": 47
        }
      ]
    },
    {
      "cell_type": "markdown",
      "metadata": {
        "id": "UYRtjxfqLjnF"
      },
      "source": [
        "Instead of a conventional `for` loop, we will use a [tqdm](https://github.com/tqdm/tqdm) `for` loop. This library conveniently \"wraps\" the conventional `for` loop with a progress part, so we can see our progress while the loop is running."
      ]
    },
    {
      "cell_type": "code",
      "metadata": {
        "id": "xkvtpOLY15Rp",
        "colab": {
          "base_uri": "https://localhost:8080/"
        },
        "outputId": "5bd42036-ce5b-4b7e-ea11-3c61b374850f"
      },
      "source": [
        "# the first argument to tqdm, range(len(a_idx)), is the list we are looping over\n",
        "for idx in tqdm(range(len(a_idx)),  total=len(a_idx), desc=\"Distance matrix\"):\n",
        "  distances_custom[idx] = custom_distance(X.iloc[a_idx[idx]], X.iloc[b_idx])"
      ],
      "execution_count": null,
      "outputs": [
        {
          "output_type": "stream",
          "text": [
            "Distance matrix: 100%|██████████| 5/5 [00:00<00:00, 715.31it/s]\n"
          ],
          "name": "stderr"
        }
      ]
    },
    {
      "cell_type": "code",
      "metadata": {
        "id": "jyjWGU6xIBgF",
        "colab": {
          "base_uri": "https://localhost:8080/"
        },
        "outputId": "faa8e6a9-11e9-4809-94b2-7fcfa463c3a2"
      },
      "source": [
        "np.set_printoptions(precision=2) # show at most 2 decimal places\n",
        "print(distances_custom)"
      ],
      "execution_count": null,
      "outputs": [
        {
          "output_type": "stream",
          "text": [
            "[[0.   2.   1.33 3.   0.33 0.33 1.   0.67 1.   0.33 0.67 2.67 2.   2.  ]\n",
            " [0.   2.33 1.67 2.67 0.   0.   0.67 1.   0.67 0.67 1.   3.   2.33 2.33]\n",
            " [0.   2.33 1.   2.67 0.67 0.67 0.67 1.   0.67 0.67 0.33 2.67 2.33 2.33]\n",
            " [0.   2.67 2.67 1.   3.   1.   3.   2.67 3.   2.33 2.67 2.33 0.67 0.67]\n",
            " [0.   0.33 1.67 1.33 0.67 0.67 1.33 1.   1.33 0.67 1.   0.67 0.33 0.33]]\n"
          ],
          "name": "stdout"
        }
      ]
    },
    {
      "cell_type": "markdown",
      "metadata": {
        "id": "JoojmlrJG8Ue"
      },
      "source": [
        "Now, for each test sample, we can:\n",
        "\n",
        "* get an array of indices from the *distance matrix*, sorted in order of increasing distance\n",
        "* get the list of the K nearest neighbors as the first K elements from that list,\n",
        "* and then from those entries - which are indices with respect to the distance matrix - get the corresponding indices in `X`:"
      ]
    },
    {
      "cell_type": "code",
      "metadata": {
        "id": "KwLwmVuAHQwe"
      },
      "source": [
        "k = 3\n",
        "distances_sorted = np.array([np.argsort(row) for row in distances_custom])\n",
        "nn_lists = distances_sorted[:, :k]\n",
        "nn_lists_idx = b_idx[nn_lists]"
      ],
      "execution_count": null,
      "outputs": []
    },
    {
      "cell_type": "markdown",
      "metadata": {
        "id": "m6Q_xuGII31t"
      },
      "source": [
        "For example, here was the first test sample:"
      ]
    },
    {
      "cell_type": "code",
      "metadata": {
        "id": "puupqvxvzCRl",
        "colab": {
          "base_uri": "https://localhost:8080/",
          "height": 81
        },
        "outputId": "a8ff4494-5f3b-4ea5-c6cb-35ee582d0ff4"
      },
      "source": [
        "X.iloc[[10296]]"
      ],
      "execution_count": null,
      "outputs": [
        {
          "output_type": "execute_result",
          "data": {
            "text/html": [
              "<div>\n",
              "<style scoped>\n",
              "    .dataframe tbody tr th:only-of-type {\n",
              "        vertical-align: middle;\n",
              "    }\n",
              "\n",
              "    .dataframe tbody tr th {\n",
              "        vertical-align: top;\n",
              "    }\n",
              "\n",
              "    .dataframe thead th {\n",
              "        text-align: right;\n",
              "    }\n",
              "</style>\n",
              "<table border=\"1\" class=\"dataframe\">\n",
              "  <thead>\n",
              "    <tr style=\"text-align: right;\">\n",
              "      <th></th>\n",
              "      <th>RACE_Hispanic/Latino</th>\n",
              "      <th>RACE_Asian</th>\n",
              "      <th>RACE_Other</th>\n",
              "      <th>RACE_Black</th>\n",
              "      <th>RACE_White</th>\n",
              "      <th>EDUC12R</th>\n",
              "      <th>AGE</th>\n",
              "    </tr>\n",
              "  </thead>\n",
              "  <tbody>\n",
              "    <tr>\n",
              "      <th>10296</th>\n",
              "      <td>0.0</td>\n",
              "      <td>0.0</td>\n",
              "      <td>0.0</td>\n",
              "      <td>0.0</td>\n",
              "      <td>1.0</td>\n",
              "      <td>0.666667</td>\n",
              "      <td>0.666667</td>\n",
              "    </tr>\n",
              "  </tbody>\n",
              "</table>\n",
              "</div>"
            ],
            "text/plain": [
              "       RACE_Hispanic/Latino  RACE_Asian  ...   EDUC12R       AGE\n",
              "10296                   0.0         0.0  ...  0.666667  0.666667\n",
              "\n",
              "[1 rows x 7 columns]"
            ]
          },
          "metadata": {
            "tags": []
          },
          "execution_count": 51
        }
      ]
    },
    {
      "cell_type": "markdown",
      "metadata": {
        "id": "tiZ9XZIrzDgv"
      },
      "source": [
        "and here are its closest neighbors among the training samples:"
      ]
    },
    {
      "cell_type": "code",
      "metadata": {
        "id": "5iLIHVuWI8u0",
        "colab": {
          "base_uri": "https://localhost:8080/",
          "height": 143
        },
        "outputId": "01bb293a-2a90-4b4a-bb4b-9218ff13a9c6"
      },
      "source": [
        "X.iloc[nn_lists_idx[0]]"
      ],
      "execution_count": null,
      "outputs": [
        {
          "output_type": "execute_result",
          "data": {
            "text/html": [
              "<div>\n",
              "<style scoped>\n",
              "    .dataframe tbody tr th:only-of-type {\n",
              "        vertical-align: middle;\n",
              "    }\n",
              "\n",
              "    .dataframe tbody tr th {\n",
              "        vertical-align: top;\n",
              "    }\n",
              "\n",
              "    .dataframe thead th {\n",
              "        text-align: right;\n",
              "    }\n",
              "</style>\n",
              "<table border=\"1\" class=\"dataframe\">\n",
              "  <thead>\n",
              "    <tr style=\"text-align: right;\">\n",
              "      <th></th>\n",
              "      <th>RACE_Hispanic/Latino</th>\n",
              "      <th>RACE_Asian</th>\n",
              "      <th>RACE_Other</th>\n",
              "      <th>RACE_Black</th>\n",
              "      <th>RACE_White</th>\n",
              "      <th>EDUC12R</th>\n",
              "      <th>AGE</th>\n",
              "    </tr>\n",
              "  </thead>\n",
              "  <tbody>\n",
              "    <tr>\n",
              "      <th>10379</th>\n",
              "      <td>NaN</td>\n",
              "      <td>NaN</td>\n",
              "      <td>NaN</td>\n",
              "      <td>NaN</td>\n",
              "      <td>NaN</td>\n",
              "      <td>NaN</td>\n",
              "      <td>NaN</td>\n",
              "    </tr>\n",
              "    <tr>\n",
              "      <th>4402</th>\n",
              "      <td>0.0</td>\n",
              "      <td>0.0</td>\n",
              "      <td>0.0</td>\n",
              "      <td>0.0</td>\n",
              "      <td>1.0</td>\n",
              "      <td>0.666667</td>\n",
              "      <td>0.333333</td>\n",
              "    </tr>\n",
              "    <tr>\n",
              "      <th>2266</th>\n",
              "      <td>0.0</td>\n",
              "      <td>0.0</td>\n",
              "      <td>0.0</td>\n",
              "      <td>0.0</td>\n",
              "      <td>1.0</td>\n",
              "      <td>0.666667</td>\n",
              "      <td>1.000000</td>\n",
              "    </tr>\n",
              "  </tbody>\n",
              "</table>\n",
              "</div>"
            ],
            "text/plain": [
              "       RACE_Hispanic/Latino  RACE_Asian  ...   EDUC12R       AGE\n",
              "10379                   NaN         NaN  ...       NaN       NaN\n",
              "4402                    0.0         0.0  ...  0.666667  0.333333\n",
              "2266                    0.0         0.0  ...  0.666667  1.000000\n",
              "\n",
              "[3 rows x 7 columns]"
            ]
          },
          "metadata": {
            "tags": []
          },
          "execution_count": 52
        }
      ]
    },
    {
      "cell_type": "markdown",
      "metadata": {
        "id": "CFzSon-DxoQY"
      },
      "source": [
        "their corresponding values in `y`:"
      ]
    },
    {
      "cell_type": "code",
      "metadata": {
        "id": "JjHYrA6MxmWC",
        "colab": {
          "base_uri": "https://localhost:8080/"
        },
        "outputId": "7955aab1-180e-4dac-99b9-6da0593a1eb6"
      },
      "source": [
        "y.iloc[nn_lists_idx[0]]"
      ],
      "execution_count": null,
      "outputs": [
        {
          "output_type": "execute_result",
          "data": {
            "text/plain": [
              "10379    1\n",
              "4402     0\n",
              "2266     0\n",
              "Name: PRES, dtype: int64"
            ]
          },
          "metadata": {
            "tags": []
          },
          "execution_count": 53
        }
      ]
    },
    {
      "cell_type": "markdown",
      "metadata": {
        "id": "8--IDn3uMtZu"
      },
      "source": [
        "and their distances:"
      ]
    },
    {
      "cell_type": "code",
      "metadata": {
        "id": "xneFTLJUMvpr",
        "colab": {
          "base_uri": "https://localhost:8080/"
        },
        "outputId": "97173618-d430-41e5-dd57-c9fce2ca0de8"
      },
      "source": [
        "distances_custom[0, nn_lists[0]]"
      ],
      "execution_count": null,
      "outputs": [
        {
          "output_type": "execute_result",
          "data": {
            "text/plain": [
              "array([0.  , 0.33, 0.33])"
            ]
          },
          "metadata": {
            "tags": []
          },
          "execution_count": 54
        }
      ]
    },
    {
      "cell_type": "markdown",
      "metadata": {
        "id": "QJACLWvJJNaO"
      },
      "source": [
        "and so the predicted vote for the first test sample would be:\n"
      ]
    },
    {
      "cell_type": "code",
      "metadata": {
        "id": "5owuZd2iJRIm",
        "colab": {
          "base_uri": "https://localhost:8080/"
        },
        "outputId": "b9a0e076-10c4-4590-9bc1-c94284cc9b8f"
      },
      "source": [
        "y.iloc[nn_lists_idx[0]].mode()"
      ],
      "execution_count": null,
      "outputs": [
        {
          "output_type": "execute_result",
          "data": {
            "text/plain": [
              "0    0\n",
              "dtype: int64"
            ]
          },
          "metadata": {
            "tags": []
          },
          "execution_count": 55
        }
      ]
    },
    {
      "cell_type": "markdown",
      "metadata": {
        "id": "nldLmjxrxtnm"
      },
      "source": [
        "You may have noticed a problem: training sample 10379, which has all NaN values, has zero distance to *every* test sample according to our distance function. (Note that the first column in the distance matrix, corresponding to the first training sample, is all zeros.)\n",
        "\n",
        "This means that this sample will be a \"nearest neighbor\" of *every* test sample! But, it's not necessarily similar to those other test samples. We just *don't have any information* by which to judge how similar it is to other samples.\n",
        "\n",
        "The case with an all-NaN training sample is a bit extreme, but it illustrates how our simple distance metric is problematic in other situations as well:\n",
        "\n",
        "* If a sample has only NaN values for the features we decide to include, its distance to every other sample is 0 and it will be considered a \"nearest neighbor\" to everyone.\n",
        "* If two samples have no non-NaN features in common - for example, if sample $a$ is NaN for every feature where sample $b$ is non-NaN - the distance between them will be 0, and they will be considered very similar, even though we just don't have any information by which to judge how similar they are.\n",
        "* Even for samples that have non-NaN features in common, our distance metric is problematic because it doesn't care how much the two samples have in common - only how many features they disagree on."
      ]
    },
    {
      "cell_type": "markdown",
      "metadata": {
        "id": "_bppo28j3kiD"
      },
      "source": [
        "For example, consider these two samples from the original data:"
      ]
    },
    {
      "cell_type": "code",
      "metadata": {
        "id": "2wcZswE4zceP",
        "colab": {
          "base_uri": "https://localhost:8080/",
          "height": 112
        },
        "outputId": "1f95f657-898f-45a6-efa8-946c5c14f08c"
      },
      "source": [
        "pd.set_option('display.max_columns', 150)\n",
        "disp_features = ['AGE8', 'RACE', 'REGION', 'SEX', 'SIZEPLAC', 'STANUM', 'EDUC12R', 'EDUCCOLL','INCOME16GEN', 'ISSUE16', 'QLT16', 'VERSION']\n",
        "df.iloc[[0,1889]][disp_features]"
      ],
      "execution_count": null,
      "outputs": [
        {
          "output_type": "execute_result",
          "data": {
            "text/html": [
              "<div>\n",
              "<style scoped>\n",
              "    .dataframe tbody tr th:only-of-type {\n",
              "        vertical-align: middle;\n",
              "    }\n",
              "\n",
              "    .dataframe tbody tr th {\n",
              "        vertical-align: top;\n",
              "    }\n",
              "\n",
              "    .dataframe thead th {\n",
              "        text-align: right;\n",
              "    }\n",
              "</style>\n",
              "<table border=\"1\" class=\"dataframe\">\n",
              "  <thead>\n",
              "    <tr style=\"text-align: right;\">\n",
              "      <th></th>\n",
              "      <th>AGE8</th>\n",
              "      <th>RACE</th>\n",
              "      <th>REGION</th>\n",
              "      <th>SEX</th>\n",
              "      <th>SIZEPLAC</th>\n",
              "      <th>STANUM</th>\n",
              "      <th>EDUC12R</th>\n",
              "      <th>EDUCCOLL</th>\n",
              "      <th>INCOME16GEN</th>\n",
              "      <th>ISSUE16</th>\n",
              "      <th>QLT16</th>\n",
              "      <th>VERSION</th>\n",
              "    </tr>\n",
              "  </thead>\n",
              "  <tbody>\n",
              "    <tr>\n",
              "      <th>0</th>\n",
              "      <td>18-24</td>\n",
              "      <td>Hispanic/Latino</td>\n",
              "      <td>West</td>\n",
              "      <td>Female</td>\n",
              "      <td>Suburbs</td>\n",
              "      <td>California</td>\n",
              "      <td>Some college/assoc. degree</td>\n",
              "      <td>No college degree</td>\n",
              "      <td>Under $30,000</td>\n",
              "      <td>Foreign policy</td>\n",
              "      <td>Has good judgment</td>\n",
              "      <td>Version 1</td>\n",
              "    </tr>\n",
              "    <tr>\n",
              "      <th>1889</th>\n",
              "      <td>NaN</td>\n",
              "      <td>NaN</td>\n",
              "      <td>West</td>\n",
              "      <td>Female</td>\n",
              "      <td>Suburbs</td>\n",
              "      <td>California</td>\n",
              "      <td>NaN</td>\n",
              "      <td>NaN</td>\n",
              "      <td>NaN</td>\n",
              "      <td>NaN</td>\n",
              "      <td>NaN</td>\n",
              "      <td>Version 3</td>\n",
              "    </tr>\n",
              "  </tbody>\n",
              "</table>\n",
              "</div>"
            ],
            "text/plain": [
              "       AGE8             RACE REGION     SEX SIZEPLAC      STANUM  \\\n",
              "0     18-24  Hispanic/Latino   West  Female  Suburbs  California   \n",
              "1889    NaN              NaN   West  Female  Suburbs  California   \n",
              "\n",
              "                         EDUC12R           EDUCCOLL    INCOME16GEN  \\\n",
              "0     Some college/assoc. degree  No college degree  Under $30,000   \n",
              "1889                         NaN                NaN            NaN   \n",
              "\n",
              "             ISSUE16              QLT16    VERSION  \n",
              "0     Foreign policy  Has good judgment  Version 1  \n",
              "1889             NaN                NaN  Version 3  "
            ]
          },
          "metadata": {
            "tags": []
          },
          "execution_count": 56
        }
      ]
    },
    {
      "cell_type": "markdown",
      "metadata": {
        "id": "Zm4a2zE3zmnq"
      },
      "source": [
        "These two samples have some things in common:\n",
        "\n",
        "* female\n",
        "* from suburban California\n",
        "\n",
        "but we don't know much else about what they have in common or what they disagree on. \n",
        "\n",
        "Our distance metric will consider them very similar, because they are identical with respect to every feature that is available in both samples.\n",
        "\n",
        "\n"
      ]
    },
    {
      "cell_type": "markdown",
      "metadata": {
        "id": "RgVVucO_6RV8"
      },
      "source": [
        "On the other hand, consider these two samples:"
      ]
    },
    {
      "cell_type": "code",
      "metadata": {
        "id": "HrTpj3zh3HJe",
        "colab": {
          "base_uri": "https://localhost:8080/",
          "height": 112
        },
        "outputId": "7f6b4e9d-ba85-433f-b15d-1602e6e4449a"
      },
      "source": [
        "df.iloc[[0,14826]][disp_features]"
      ],
      "execution_count": null,
      "outputs": [
        {
          "output_type": "execute_result",
          "data": {
            "text/html": [
              "<div>\n",
              "<style scoped>\n",
              "    .dataframe tbody tr th:only-of-type {\n",
              "        vertical-align: middle;\n",
              "    }\n",
              "\n",
              "    .dataframe tbody tr th {\n",
              "        vertical-align: top;\n",
              "    }\n",
              "\n",
              "    .dataframe thead th {\n",
              "        text-align: right;\n",
              "    }\n",
              "</style>\n",
              "<table border=\"1\" class=\"dataframe\">\n",
              "  <thead>\n",
              "    <tr style=\"text-align: right;\">\n",
              "      <th></th>\n",
              "      <th>AGE8</th>\n",
              "      <th>RACE</th>\n",
              "      <th>REGION</th>\n",
              "      <th>SEX</th>\n",
              "      <th>SIZEPLAC</th>\n",
              "      <th>STANUM</th>\n",
              "      <th>EDUC12R</th>\n",
              "      <th>EDUCCOLL</th>\n",
              "      <th>INCOME16GEN</th>\n",
              "      <th>ISSUE16</th>\n",
              "      <th>QLT16</th>\n",
              "      <th>VERSION</th>\n",
              "    </tr>\n",
              "  </thead>\n",
              "  <tbody>\n",
              "    <tr>\n",
              "      <th>0</th>\n",
              "      <td>18-24</td>\n",
              "      <td>Hispanic/Latino</td>\n",
              "      <td>West</td>\n",
              "      <td>Female</td>\n",
              "      <td>Suburbs</td>\n",
              "      <td>California</td>\n",
              "      <td>Some college/assoc. degree</td>\n",
              "      <td>No college degree</td>\n",
              "      <td>Under $30,000</td>\n",
              "      <td>Foreign policy</td>\n",
              "      <td>Has good judgment</td>\n",
              "      <td>Version 1</td>\n",
              "    </tr>\n",
              "    <tr>\n",
              "      <th>14826</th>\n",
              "      <td>18-24</td>\n",
              "      <td>Hispanic/Latino</td>\n",
              "      <td>South</td>\n",
              "      <td>Female</td>\n",
              "      <td>Rural</td>\n",
              "      <td>Oklahoma</td>\n",
              "      <td>High school or less</td>\n",
              "      <td>No college degree</td>\n",
              "      <td>Under $30,000</td>\n",
              "      <td>Foreign policy</td>\n",
              "      <td>Has good judgment</td>\n",
              "      <td>Version 2</td>\n",
              "    </tr>\n",
              "  </tbody>\n",
              "</table>\n",
              "</div>"
            ],
            "text/plain": [
              "        AGE8             RACE REGION     SEX SIZEPLAC      STANUM  \\\n",
              "0      18-24  Hispanic/Latino   West  Female  Suburbs  California   \n",
              "14826  18-24  Hispanic/Latino  South  Female    Rural    Oklahoma   \n",
              "\n",
              "                          EDUC12R           EDUCCOLL    INCOME16GEN  \\\n",
              "0      Some college/assoc. degree  No college degree  Under $30,000   \n",
              "14826         High school or less  No college degree  Under $30,000   \n",
              "\n",
              "              ISSUE16              QLT16    VERSION  \n",
              "0      Foreign policy  Has good judgment  Version 1  \n",
              "14826  Foreign policy  Has good judgment  Version 2  "
            ]
          },
          "metadata": {
            "tags": []
          },
          "execution_count": 57
        }
      ]
    },
    {
      "cell_type": "markdown",
      "metadata": {
        "id": "1vKhbUtF4EEJ"
      },
      "source": [
        "These two samples have many more things in common: \n",
        "\n",
        "* female\n",
        "* Latino \n",
        "* age 18-24 \n",
        "* no college degree\n",
        "* income less then $30,000\n",
        "* consider foreign policy to be the major issue facing the country\n",
        "* consider \"Has good judgment\" to be the most important quality in deciding their presidential vote. \n",
        "\n",
        "However, they also have some differences:\n",
        "\n",
        "* some college/associate degree vs. high school education or less\n",
        "* suburban California vs. rural Oklahoma\n",
        "\n",
        "so the distance metric will consider them *less* similar than the previous pair."
      ]
    },
    {
      "cell_type": "markdown",
      "metadata": {
        "id": "gxpYcOFu6ukL"
      },
      "source": [
        "### Using our K nearest neighbors classifier on the test data"
      ]
    },
    {
      "cell_type": "markdown",
      "metadata": {
        "id": "0Z0aVEza1y3I"
      },
      "source": [
        "Later, we'll have to fix those issues we identified with the custom distance metric, but for now, we will proceed without changing it.\n",
        "\n"
      ]
    },
    {
      "cell_type": "markdown",
      "metadata": {
        "id": "pDPfZ6H39IgB"
      },
      "source": [
        "Now that we understand how our custom distance function works, let's compute the distance between every *test* sample and every *training* sample. We'll store the results in `distances_custom`."
      ]
    },
    {
      "cell_type": "code",
      "metadata": {
        "id": "U5XnU6S-JxBE",
        "colab": {
          "base_uri": "https://localhost:8080/"
        },
        "outputId": "aa1d1cb6-6dbd-45f4-e8cd-dcf22310d727"
      },
      "source": [
        "distances_custom = np.zeros(shape=(len(idx_ts), len(idx_tr)))\n",
        "distances_custom.shape"
      ],
      "execution_count": null,
      "outputs": [
        {
          "output_type": "execute_result",
          "data": {
            "text/plain": [
              "(6840, 15958)"
            ]
          },
          "metadata": {
            "tags": []
          },
          "execution_count": 58
        }
      ]
    },
    {
      "cell_type": "markdown",
      "metadata": {
        "id": "tMNbga5m9PRQ"
      },
      "source": [
        "Loop over the indices in the *test* set that we set up earlier to compute the distance vector for each test sample:"
      ]
    },
    {
      "cell_type": "code",
      "metadata": {
        "id": "VY6Ilwx-J3F2",
        "colab": {
          "base_uri": "https://localhost:8080/"
        },
        "outputId": "c7bd8ba4-cd1c-4f4f-a775-dc2b74404bcc"
      },
      "source": [
        "for idx in tqdm(range(len(idx_ts)),  total=len(idx_ts), desc=\"Distance matrix\"):\n",
        "  distances_custom[idx] = custom_distance(X.iloc[idx_ts[idx]], X.iloc[idx_tr])"
      ],
      "execution_count": null,
      "outputs": [
        {
          "output_type": "stream",
          "text": [
            "Distance matrix: 100%|██████████| 6840/6840 [00:16<00:00, 403.23it/s]\n"
          ],
          "name": "stderr"
        }
      ]
    },
    {
      "cell_type": "markdown",
      "metadata": {
        "id": "d4HVtwLINIUP"
      },
      "source": [
        "Then, we can compute the K nearest neighbors using those distances:"
      ]
    },
    {
      "cell_type": "code",
      "metadata": {
        "id": "OsSRz-tWKNZq"
      },
      "source": [
        "k = 3\n",
        "\n",
        "# get nn indices in distance matrix\n",
        "distances_sorted = np.array([np.argsort(row) for row in distances_custom]) \n",
        "nn_lists = distances_sorted[:, :k]\n",
        "\n",
        "# get nn indices in training data matrix\n",
        "nn_lists_idx = idx_tr[nn_lists]\n",
        "\n",
        "# predict using mode of nns\n",
        "y_pred =  [y.iloc[nn].mode()[0] for nn in nn_lists_idx]"
      ],
      "execution_count": null,
      "outputs": []
    },
    {
      "cell_type": "code",
      "metadata": {
        "id": "rcZOxAWPLSnu",
        "colab": {
          "base_uri": "https://localhost:8080/"
        },
        "outputId": "194c633a-c5fb-4456-8022-46c95732ed74"
      },
      "source": [
        "accuracy_score(y.iloc[idx_ts], y_pred)"
      ],
      "execution_count": null,
      "outputs": [
        {
          "output_type": "execute_result",
          "data": {
            "text/plain": [
              "0.5641812865497076"
            ]
          },
          "metadata": {
            "tags": []
          },
          "execution_count": 61
        }
      ]
    },
    {
      "cell_type": "markdown",
      "metadata": {
        "id": "FB3AF2ITNb4X"
      },
      "source": [
        "This classifier seems to improve over the \"prediction by mode\" classifier! But, there is an important, fundamental issue that we should fix."
      ]
    },
    {
      "cell_type": "markdown",
      "metadata": {
        "id": "o4yFsKtWSXej"
      },
      "source": [
        "### Handling ties"
      ]
    },
    {
      "cell_type": "markdown",
      "metadata": {
        "id": "Igi76kKuNjxp"
      },
      "source": [
        "If you look at the lists of nearest neighbors, you may notice something unexpected. Some training samples appear very frequently, even hundreds of times, among the K closest neighbors."
      ]
    },
    {
      "cell_type": "markdown",
      "metadata": {
        "id": "RqOzln9ES1zS"
      },
      "source": [
        "For example, here are the nearest neighbors for the first 50 test samples. Do you see any repetition?"
      ]
    },
    {
      "cell_type": "code",
      "metadata": {
        "id": "gBFoFEAbSj2E",
        "colab": {
          "base_uri": "https://localhost:8080/"
        },
        "outputId": "a64e4f16-7ef3-465f-f9b1-e62770aaf7da"
      },
      "source": [
        "print(nn_lists_idx[0:50])"
      ],
      "execution_count": null,
      "outputs": [
        {
          "output_type": "stream",
          "text": [
            "[[ 2718 17530  3796]\n",
            " [ 5620 14376 19699]\n",
            " [21119 19449  7843]\n",
            " [18684  2099  1027]\n",
            " [19615 15863  3361]\n",
            " [13922 11211  8939]\n",
            " [  876 10379  1883]\n",
            " [ 3741 11553  7785]\n",
            " [  348   688 14534]\n",
            " [20904 22104  7114]\n",
            " [ 8049 17354  8123]\n",
            " [12554  1275  9068]\n",
            " [19615 15863  3361]\n",
            " [15980  2276  2161]\n",
            " [12554 12658 19609]\n",
            " [  876 10379  1883]\n",
            " [12554 12658 19609]\n",
            " [  876 10379  1883]\n",
            " [15015  8809 10151]\n",
            " [ 6045 19904 14233]\n",
            " [22248  4229  5671]\n",
            " [20913 21541 18999]\n",
            " [ 1349  5942  7648]\n",
            " [  876 10379  1883]\n",
            " [ 1349  5942  7648]\n",
            " [19787 20978 19094]\n",
            " [ 8049 17354  8123]\n",
            " [15980  2276  2161]\n",
            " [ 9298 15448 10395]\n",
            " [20913 21541 18999]\n",
            " [18684  2099  1027]\n",
            " [ 1349  5942  7648]\n",
            " [  876 10379  1883]\n",
            " [13922 11211  8939]\n",
            " [ 5749 18953 16004]\n",
            " [ 6045 19904 14233]\n",
            " [  876 10379  1883]\n",
            " [13085 19765 14192]\n",
            " [  876 10379  1883]\n",
            " [ 1349  5942  7648]\n",
            " [ 1349  5942  7648]\n",
            " [15980  2276  2161]\n",
            " [ 1349 10056 17430]\n",
            " [ 8049 17354  8123]\n",
            " [15015  8809 10151]\n",
            " [  876 10379  1883]\n",
            " [19384 21526 20069]\n",
            " [15742  8630    68]\n",
            " [13922 11211  8939]\n",
            " [16614   863    27]]\n"
          ],
          "name": "stdout"
        }
      ]
    },
    {
      "cell_type": "markdown",
      "metadata": {
        "id": "7ZpeyA6DVAg9"
      },
      "source": [
        "You might find that these three samples appear very often as nearest neighbors:"
      ]
    },
    {
      "cell_type": "code",
      "metadata": {
        "id": "tP86slzVU2ZW",
        "colab": {
          "base_uri": "https://localhost:8080/",
          "height": 143
        },
        "outputId": "35235fc6-5c08-45fd-bb62-e2c101f5b0e9"
      },
      "source": [
        "X.iloc[[876, 10379,  1883]]"
      ],
      "execution_count": null,
      "outputs": [
        {
          "output_type": "execute_result",
          "data": {
            "text/html": [
              "<div>\n",
              "<style scoped>\n",
              "    .dataframe tbody tr th:only-of-type {\n",
              "        vertical-align: middle;\n",
              "    }\n",
              "\n",
              "    .dataframe tbody tr th {\n",
              "        vertical-align: top;\n",
              "    }\n",
              "\n",
              "    .dataframe thead th {\n",
              "        text-align: right;\n",
              "    }\n",
              "</style>\n",
              "<table border=\"1\" class=\"dataframe\">\n",
              "  <thead>\n",
              "    <tr style=\"text-align: right;\">\n",
              "      <th></th>\n",
              "      <th>RACE_Hispanic/Latino</th>\n",
              "      <th>RACE_Asian</th>\n",
              "      <th>RACE_Other</th>\n",
              "      <th>RACE_Black</th>\n",
              "      <th>RACE_White</th>\n",
              "      <th>EDUC12R</th>\n",
              "      <th>AGE</th>\n",
              "    </tr>\n",
              "  </thead>\n",
              "  <tbody>\n",
              "    <tr>\n",
              "      <th>876</th>\n",
              "      <td>0.0</td>\n",
              "      <td>0.0</td>\n",
              "      <td>0.0</td>\n",
              "      <td>0.0</td>\n",
              "      <td>1.0</td>\n",
              "      <td>0.333333</td>\n",
              "      <td>NaN</td>\n",
              "    </tr>\n",
              "    <tr>\n",
              "      <th>10379</th>\n",
              "      <td>NaN</td>\n",
              "      <td>NaN</td>\n",
              "      <td>NaN</td>\n",
              "      <td>NaN</td>\n",
              "      <td>NaN</td>\n",
              "      <td>NaN</td>\n",
              "      <td>NaN</td>\n",
              "    </tr>\n",
              "    <tr>\n",
              "      <th>1883</th>\n",
              "      <td>0.0</td>\n",
              "      <td>0.0</td>\n",
              "      <td>0.0</td>\n",
              "      <td>0.0</td>\n",
              "      <td>1.0</td>\n",
              "      <td>0.333333</td>\n",
              "      <td>0.666667</td>\n",
              "    </tr>\n",
              "  </tbody>\n",
              "</table>\n",
              "</div>"
            ],
            "text/plain": [
              "       RACE_Hispanic/Latino  RACE_Asian  RACE_Other  RACE_Black  RACE_White  \\\n",
              "876                     0.0         0.0         0.0         0.0         1.0   \n",
              "10379                   NaN         NaN         NaN         NaN         NaN   \n",
              "1883                    0.0         0.0         0.0         0.0         1.0   \n",
              "\n",
              "        EDUC12R       AGE  \n",
              "876    0.333333       NaN  \n",
              "10379       NaN       NaN  \n",
              "1883   0.333333  0.666667  "
            ]
          },
          "metadata": {
            "tags": []
          },
          "execution_count": 63
        }
      ]
    },
    {
      "cell_type": "markdown",
      "metadata": {
        "id": "MqEuPQ2aVFN2"
      },
      "source": [
        "But other samples that have the same distance, do not appear in the nearest neighbors list at all:"
      ]
    },
    {
      "cell_type": "code",
      "metadata": {
        "id": "Y6H-mEbVVErB",
        "colab": {
          "base_uri": "https://localhost:8080/",
          "height": 422
        },
        "outputId": "bcda21bd-ff07-4136-b864-b36474ea2f92"
      },
      "source": [
        "X[X['RACE_Hispanic/Latino'].eq(0) & X['RACE_Asian'].eq(0) & X['RACE_Other'].eq(0) \n",
        "  & X['RACE_Black'].eq(0) &  X['RACE_White'].eq(1)  \n",
        "  & (X['EDUC12R'].eq(1/3.0) | pd.isnull(X['EDUC12R']))\n",
        "  & (X['AGE'].eq(2/3.0) | pd.isnull(X['AGE']))   ]"
      ],
      "execution_count": null,
      "outputs": [
        {
          "output_type": "execute_result",
          "data": {
            "text/html": [
              "<div>\n",
              "<style scoped>\n",
              "    .dataframe tbody tr th:only-of-type {\n",
              "        vertical-align: middle;\n",
              "    }\n",
              "\n",
              "    .dataframe tbody tr th {\n",
              "        vertical-align: top;\n",
              "    }\n",
              "\n",
              "    .dataframe thead th {\n",
              "        text-align: right;\n",
              "    }\n",
              "</style>\n",
              "<table border=\"1\" class=\"dataframe\">\n",
              "  <thead>\n",
              "    <tr style=\"text-align: right;\">\n",
              "      <th></th>\n",
              "      <th>RACE_Hispanic/Latino</th>\n",
              "      <th>RACE_Asian</th>\n",
              "      <th>RACE_Other</th>\n",
              "      <th>RACE_Black</th>\n",
              "      <th>RACE_White</th>\n",
              "      <th>EDUC12R</th>\n",
              "      <th>AGE</th>\n",
              "    </tr>\n",
              "  </thead>\n",
              "  <tbody>\n",
              "    <tr>\n",
              "      <th>6</th>\n",
              "      <td>0.0</td>\n",
              "      <td>0.0</td>\n",
              "      <td>0.0</td>\n",
              "      <td>0.0</td>\n",
              "      <td>1.0</td>\n",
              "      <td>0.333333</td>\n",
              "      <td>0.666667</td>\n",
              "    </tr>\n",
              "    <tr>\n",
              "      <th>8</th>\n",
              "      <td>0.0</td>\n",
              "      <td>0.0</td>\n",
              "      <td>0.0</td>\n",
              "      <td>0.0</td>\n",
              "      <td>1.0</td>\n",
              "      <td>0.333333</td>\n",
              "      <td>0.666667</td>\n",
              "    </tr>\n",
              "    <tr>\n",
              "      <th>12</th>\n",
              "      <td>0.0</td>\n",
              "      <td>0.0</td>\n",
              "      <td>0.0</td>\n",
              "      <td>0.0</td>\n",
              "      <td>1.0</td>\n",
              "      <td>0.333333</td>\n",
              "      <td>0.666667</td>\n",
              "    </tr>\n",
              "    <tr>\n",
              "      <th>16</th>\n",
              "      <td>0.0</td>\n",
              "      <td>0.0</td>\n",
              "      <td>0.0</td>\n",
              "      <td>0.0</td>\n",
              "      <td>1.0</td>\n",
              "      <td>0.333333</td>\n",
              "      <td>0.666667</td>\n",
              "    </tr>\n",
              "    <tr>\n",
              "      <th>17</th>\n",
              "      <td>0.0</td>\n",
              "      <td>0.0</td>\n",
              "      <td>0.0</td>\n",
              "      <td>0.0</td>\n",
              "      <td>1.0</td>\n",
              "      <td>0.333333</td>\n",
              "      <td>0.666667</td>\n",
              "    </tr>\n",
              "    <tr>\n",
              "      <th>...</th>\n",
              "      <td>...</td>\n",
              "      <td>...</td>\n",
              "      <td>...</td>\n",
              "      <td>...</td>\n",
              "      <td>...</td>\n",
              "      <td>...</td>\n",
              "      <td>...</td>\n",
              "    </tr>\n",
              "    <tr>\n",
              "      <th>22726</th>\n",
              "      <td>0.0</td>\n",
              "      <td>0.0</td>\n",
              "      <td>0.0</td>\n",
              "      <td>0.0</td>\n",
              "      <td>1.0</td>\n",
              "      <td>0.333333</td>\n",
              "      <td>0.666667</td>\n",
              "    </tr>\n",
              "    <tr>\n",
              "      <th>22732</th>\n",
              "      <td>0.0</td>\n",
              "      <td>0.0</td>\n",
              "      <td>0.0</td>\n",
              "      <td>0.0</td>\n",
              "      <td>1.0</td>\n",
              "      <td>0.333333</td>\n",
              "      <td>0.666667</td>\n",
              "    </tr>\n",
              "    <tr>\n",
              "      <th>22751</th>\n",
              "      <td>0.0</td>\n",
              "      <td>0.0</td>\n",
              "      <td>0.0</td>\n",
              "      <td>0.0</td>\n",
              "      <td>1.0</td>\n",
              "      <td>0.333333</td>\n",
              "      <td>0.666667</td>\n",
              "    </tr>\n",
              "    <tr>\n",
              "      <th>22757</th>\n",
              "      <td>0.0</td>\n",
              "      <td>0.0</td>\n",
              "      <td>0.0</td>\n",
              "      <td>0.0</td>\n",
              "      <td>1.0</td>\n",
              "      <td>0.333333</td>\n",
              "      <td>0.666667</td>\n",
              "    </tr>\n",
              "    <tr>\n",
              "      <th>22764</th>\n",
              "      <td>0.0</td>\n",
              "      <td>0.0</td>\n",
              "      <td>0.0</td>\n",
              "      <td>0.0</td>\n",
              "      <td>1.0</td>\n",
              "      <td>0.333333</td>\n",
              "      <td>0.666667</td>\n",
              "    </tr>\n",
              "  </tbody>\n",
              "</table>\n",
              "<p>2251 rows × 7 columns</p>\n",
              "</div>"
            ],
            "text/plain": [
              "       RACE_Hispanic/Latino  RACE_Asian  RACE_Other  RACE_Black  RACE_White  \\\n",
              "6                       0.0         0.0         0.0         0.0         1.0   \n",
              "8                       0.0         0.0         0.0         0.0         1.0   \n",
              "12                      0.0         0.0         0.0         0.0         1.0   \n",
              "16                      0.0         0.0         0.0         0.0         1.0   \n",
              "17                      0.0         0.0         0.0         0.0         1.0   \n",
              "...                     ...         ...         ...         ...         ...   \n",
              "22726                   0.0         0.0         0.0         0.0         1.0   \n",
              "22732                   0.0         0.0         0.0         0.0         1.0   \n",
              "22751                   0.0         0.0         0.0         0.0         1.0   \n",
              "22757                   0.0         0.0         0.0         0.0         1.0   \n",
              "22764                   0.0         0.0         0.0         0.0         1.0   \n",
              "\n",
              "        EDUC12R       AGE  \n",
              "6      0.333333  0.666667  \n",
              "8      0.333333  0.666667  \n",
              "12     0.333333  0.666667  \n",
              "16     0.333333  0.666667  \n",
              "17     0.333333  0.666667  \n",
              "...         ...       ...  \n",
              "22726  0.333333  0.666667  \n",
              "22732  0.333333  0.666667  \n",
              "22751  0.333333  0.666667  \n",
              "22757  0.333333  0.666667  \n",
              "22764  0.333333  0.666667  \n",
              "\n",
              "[2251 rows x 7 columns]"
            ]
          },
          "metadata": {
            "tags": []
          },
          "execution_count": 64
        }
      ]
    },
    {
      "cell_type": "markdown",
      "metadata": {
        "id": "O7NdCKPfS663"
      },
      "source": [
        "Looking at the frequency with which each training sample is returned, we can see the extent of the problem. Some training samples appear as a nearest neighbor more than 500 times!"
      ]
    },
    {
      "cell_type": "code",
      "metadata": {
        "id": "ZGA_V0yFRh3N",
        "colab": {
          "base_uri": "https://localhost:8080/",
          "height": 265
        },
        "outputId": "d6025d7a-c99c-40cc-dbd4-3ca7afea4601"
      },
      "source": [
        "vals, counts = np.unique(nn_lists_idx.ravel(), return_counts=True)\n",
        "sns.histplot(counts, binwidth=10);"
      ],
      "execution_count": null,
      "outputs": [
        {
          "output_type": "display_data",
          "data": {
            "image/png": "[encoded data removed]",
            "text/plain": [
              "<Figure size 432x288 with 1 Axes>"
            ]
          },
          "metadata": {
            "tags": [],
            "needs_background": "light"
          }
        }
      ]
    },
    {
      "cell_type": "markdown",
      "metadata": {
        "id": "zjfEU2-hTLs5"
      },
      "source": [
        "If a sample is returned as a nearest neighbor very often because it happens to be closer to the test points than other points, that would be OK. But in this case, that's not what is going on."
      ]
    },
    {
      "cell_type": "markdown",
      "metadata": {
        "id": "LVYIvSZqOLyX"
      },
      "source": [
        "We are using `argsort` to get the K smallest distances to each test point. However, if there are more than K training samples that are at the minimum distance for a particular test point (i.e. a tie of more than K values, all having the minimum distance), `argsort` will return the first K of those in order of their index in the distance matrix (their order in `idx_tr`). \n",
        "\n",
        "This means that some training samples will be returned much more often than others, simply because of their index.\n",
        "\n",
        "To fix this, we will use an alternative, `lexsort`, that sorts first by the second argument, then by the first argument; and we will pass a random array as the first argument:"
      ]
    },
    {
      "cell_type": "code",
      "metadata": {
        "id": "GCMgx6_fO2Wq"
      },
      "source": [
        "k = 3\n",
        "r_matrix = np.random.random(size=(distances_custom.shape))\n",
        "nn_lists = np.array([np.lexsort((r, row))[:k] for r, row in zip(r_matrix,distances_custom)])\n",
        "nn_lists_idx = idx_tr[nn_lists]\n",
        "y_pred =  [y.iloc[nn].mode()[0] for nn in nn_lists_idx]"
      ],
      "execution_count": null,
      "outputs": []
    },
    {
      "cell_type": "markdown",
      "metadata": {
        "id": "xFzxuFdsTizk"
      },
      "source": [
        "Now, we don't see nearly as much repitition of individual training samples among the nearest neighbors:"
      ]
    },
    {
      "cell_type": "code",
      "metadata": {
        "id": "HotBZcJ6Te3d",
        "colab": {
          "base_uri": "https://localhost:8080/"
        },
        "outputId": "a335ddae-ebff-48cc-8732-40879c406c98"
      },
      "source": [
        "print(nn_lists_idx[0:50])"
      ],
      "execution_count": null,
      "outputs": [
        {
          "output_type": "stream",
          "text": [
            "[[10714 13379 22125]\n",
            " [21518   544 18485]\n",
            " [19107  9868 19227]\n",
            " [13176  9184 19488]\n",
            " [19904 14141 18929]\n",
            " [11545   424 22415]\n",
            " [18578 15067  6593]\n",
            " [ 8921  6052  1308]\n",
            " [11373 22081 20592]\n",
            " [ 6109 22259 18697]\n",
            " [19831  4623  7578]\n",
            " [10684  4845 14640]\n",
            " [12159 21271  2976]\n",
            " [ 1947 21622  6489]\n",
            " [13428 18903  1171]\n",
            " [ 5379  6023 10966]\n",
            " [ 1189 10379 13545]\n",
            " [11083 13409 11254]\n",
            " [14997 10793 19093]\n",
            " [ 6940 22229 17917]\n",
            " [22272 17193   412]\n",
            " [ 4552 10983  2073]\n",
            " [21632  9880  3967]\n",
            " [13175 10352 17705]\n",
            " [13783  6284 18289]\n",
            " [ 3707 17175 16074]\n",
            " [ 1924 20144 19930]\n",
            " [13725  5364  2615]\n",
            " [15130 10365  1274]\n",
            " [ 5894  7060 20713]\n",
            " [16065  1027 22244]\n",
            " [ 5464 20883 19775]\n",
            " [ 8572 16569  6669]\n",
            " [ 3707  7416  1348]\n",
            " [21079 15467 20016]\n",
            " [18241  8981  5920]\n",
            " [17343 16295   724]\n",
            " [ 8759  4004 22351]\n",
            " [12913 12806 15146]\n",
            " [ 3383 14131 11755]\n",
            " [ 8598  7464 13021]\n",
            " [18200 12836 18330]\n",
            " [ 7122  8078  4706]\n",
            " [ 5708 19565 10062]\n",
            " [18465 19994 13153]\n",
            " [20268  8471  2259]\n",
            " [ 4747 15864  9611]\n",
            " [ 5508 18200 16763]\n",
            " [  782  2233 17945]\n",
            " [  667 14660  3600]]\n"
          ],
          "name": "stdout"
        }
      ]
    },
    {
      "cell_type": "code",
      "metadata": {
        "id": "O9qRceiZPmQ7",
        "colab": {
          "base_uri": "https://localhost:8080/",
          "height": 265
        },
        "outputId": "29cc13aa-75de-42c0-a286-a0e6037fa4e7"
      },
      "source": [
        "vals, counts = np.unique(nn_lists_idx.ravel(), return_counts=True)\n",
        "sns.histplot(counts, binwidth=2);"
      ],
      "execution_count": null,
      "outputs": [
        {
          "output_type": "display_data",
          "data": {
            "image/png": "[encoded data removed]",
            "text/plain": [
              "<Figure size 432x288 with 1 Axes>"
            ]
          },
          "metadata": {
            "tags": [],
            "needs_background": "light"
          }
        }
      ]
    },
    {
      "cell_type": "markdown",
      "metadata": {
        "id": "2dAUMbD6SAEh"
      },
      "source": [
        "Let's get the accuracy of this solution:"
      ]
    },
    {
      "cell_type": "code",
      "metadata": {
        "id": "rwnySOF5PgHe",
        "colab": {
          "base_uri": "https://localhost:8080/"
        },
        "outputId": "06cf689c-23e6-4f63-a39e-c49c19c56cb9"
      },
      "source": [
        "accuracy_score(y.iloc[idx_ts], y_pred)"
      ],
      "execution_count": null,
      "outputs": [
        {
          "output_type": "execute_result",
          "data": {
            "text/plain": [
              "0.5932748538011696"
            ]
          },
          "metadata": {
            "tags": []
          },
          "execution_count": 69
        }
      ]
    },
    {
      "cell_type": "markdown",
      "metadata": {
        "id": "6gceHDWXUDRI"
      },
      "source": [
        "Depending on the train-test split, the new classifier may have better performance (as it did in this case), or similar performance to the first classifier.\n",
        "\n",
        "But conceptually, it is more sound, and less \"fragile\" - less sensitive to the draw of training data."
      ]
    },
    {
      "cell_type": "markdown",
      "metadata": {
        "id": "8AeNb_MzLapS"
      },
      "source": [
        "### Using K-fold CV to select the number of neighbors"
      ]
    },
    {
      "cell_type": "markdown",
      "metadata": {
        "id": "HvdUFagRIvw-"
      },
      "source": [
        "As a next step, to improve the classifier performance, we can use K-fold CV to select the number of neighbors. Note that we do not have to re-compute the distances inside each iteration of the loop, we can use pre-computed distances, so this is much faster than you might expect!"
      ]
    },
    {
      "cell_type": "code",
      "metadata": {
        "id": "o5thU1KMM8kP",
        "colab": {
          "base_uri": "https://localhost:8080/"
        },
        "outputId": "39ab2d3a-1b9a-4750-f649-b6eb6bdec8e0"
      },
      "source": [
        "# pre-compute a distance matrix of training vs. training data\n",
        "distances_kfold = np.zeros(shape=(len(idx_tr), len(idx_tr)))\n",
        "\n",
        "for idx in tqdm(range(len(idx_tr)),  total=len(idx_tr), desc=\"Distance matrix\"):\n",
        "  distances_kfold[idx] = custom_distance(X.iloc[idx_tr[idx]], X.iloc[idx_tr])"
      ],
      "execution_count": null,
      "outputs": [
        {
          "output_type": "stream",
          "text": [
            "Distance matrix: 100%|██████████| 15958/15958 [00:43<00:00, 370.89it/s]\n"
          ],
          "name": "stderr"
        }
      ]
    },
    {
      "cell_type": "code",
      "metadata": {
        "id": "NGbnAL9VGQOh",
        "colab": {
          "base_uri": "https://localhost:8080/"
        },
        "outputId": "6c6b4ad3-c196-4318-9567-c08be2d8981c"
      },
      "source": [
        "from sklearn.model_selection import KFold\n",
        "\n",
        "n_fold = 5\n",
        "k_list = np.arange(1, 301, 10)\n",
        "n_k = len(k_list)\n",
        "acc_list = np.zeros((n_k, n_fold))\n",
        "\n",
        "kf = KFold(n_splits=5)\n",
        "\n",
        "print(kf)\n",
        "\n",
        "for isplit, idx_k in enumerate(kf.split(idx_tr)):\n",
        "\n",
        "  print(\"Iteration %d\" % isplit)\n",
        "\n",
        "  # Outer loop: select training vs. validation data (out of training data!)\n",
        "  idx_tr_k, idx_val_k = idx_k \n",
        "\n",
        "  # get target variable values for validation data\n",
        "  y_val_kfold = y.iloc[idx_tr[idx_val_k]]\n",
        "\n",
        "  # get distance matrix for validation set vs. training set\n",
        "  distances_val_kfold   = distances_kfold[idx_val_k[:, None], idx_tr_k]\n",
        "\n",
        "  # generate a random matrix for tie breaking\n",
        "  r_matrix = np.random.random(size=(distances_val_kfold.shape))\n",
        "\n",
        "  # loop over the rows of the distance matrix and the random matrix together with zip\n",
        "  # for each pair of rows, return sorted indices from distances_val_kfold\n",
        "  distances_sorted = np.array([np.lexsort((r, row)) for r, row in zip(r_matrix,distances_val_kfold)])\n",
        "\n",
        "  # Inner loop: select value of K, number of neighbors\n",
        "  for idx_k, k in enumerate(k_list):\n",
        "\n",
        "    # now we select the indices of the K smallest, for different values of K\n",
        "    # the indices in  distances_sorted are with respect to distances_val_kfold\n",
        "    # from those - get indices in idx_tr_k, then in X\n",
        "    nn_lists_idx = idx_tr[idx_tr_k[distances_sorted[:,:k]]]\n",
        "\n",
        "    # get validation accuracy for this value of k\n",
        "    y_pred =  [y.iloc[nn].mode()[0] for nn in nn_lists_idx]\n",
        "    acc_list[idx_k, isplit] = accuracy_score(y_val_kfold, y_pred)"
      ],
      "execution_count": null,
      "outputs": [
        {
          "output_type": "stream",
          "text": [
            "KFold(n_splits=5, random_state=None, shuffle=False)\n",
            "Iteration 0\n",
            "Iteration 1\n",
            "Iteration 2\n",
            "Iteration 3\n",
            "Iteration 4\n"
          ],
          "name": "stdout"
        }
      ]
    },
    {
      "cell_type": "code",
      "metadata": {
        "id": "2fXO1C_eKXeg",
        "colab": {
          "base_uri": "https://localhost:8080/",
          "height": 279
        },
        "outputId": "efa6f35d-9d9b-4f70-9797-5c90eaf97260"
      },
      "source": [
        "plt.errorbar(x=k_list, y=acc_list.mean(axis=1), yerr=acc_list.std(axis=1)/np.sqrt(n_fold-1));\n",
        "\n",
        "plt.xlabel(\"k (number of neighbors)\");\n",
        "plt.ylabel(\"K-fold accuracy\");"
      ],
      "execution_count": null,
      "outputs": [
        {
          "output_type": "display_data",
          "data": {
            "image/png": "[encoded data removed]",
            "text/plain": [
              "<Figure size 432x288 with 1 Axes>"
            ]
          },
          "metadata": {
            "tags": [],
            "needs_background": "light"
          }
        }
      ]
    },
    {
      "cell_type": "markdown",
      "metadata": {
        "id": "zgu1MvViK2e4"
      },
      "source": [
        "Using this, we can find a better choice for K."
      ]
    },
    {
      "cell_type": "code",
      "metadata": {
        "id": "qzyPllNStGH6",
        "colab": {
          "base_uri": "https://localhost:8080/"
        },
        "outputId": "36d14a5a-03e8-41e2-d642-5bcd7f18e8f7"
      },
      "source": [
        "best_k = k_list[np.argmax(acc_list.mean(axis=1))]\n",
        "print(best_k)"
      ],
      "execution_count": null,
      "outputs": [
        {
          "output_type": "stream",
          "text": [
            "281\n"
          ],
          "name": "stdout"
        }
      ]
    },
    {
      "cell_type": "markdown",
      "metadata": {
        "id": "p0scTTuEUGU9"
      },
      "source": [
        "And compute the accuracy of the overall classifier on the test data, using this K."
      ]
    },
    {
      "cell_type": "code",
      "metadata": {
        "id": "cg55kXnMT_mI"
      },
      "source": [
        "r_matrix = np.random.random(size=(distances_custom.shape))\n",
        "nn_lists = np.array([np.lexsort((r, row))[:best_k] for r, row in zip(r_matrix,distances_custom)])\n",
        "nn_lists_idx = idx_tr[nn_lists]\n",
        "y_pred =  [y.iloc[nn].mode()[0] for nn in nn_lists_idx]"
      ],
      "execution_count": null,
      "outputs": []
    },
    {
      "cell_type": "code",
      "metadata": {
        "id": "gAtSYCIYUFlY",
        "colab": {
          "base_uri": "https://localhost:8080/"
        },
        "outputId": "e1aef5d3-c342-44de-9b4e-27a44c0f250c"
      },
      "source": [
        "accuracy_score(y.iloc[idx_ts], y_pred)"
      ],
      "execution_count": null,
      "outputs": [
        {
          "output_type": "execute_result",
          "data": {
            "text/plain": [
              "0.6755847953216374"
            ]
          },
          "metadata": {
            "tags": []
          },
          "execution_count": 75
        }
      ]
    },
    {
      "cell_type": "markdown",
      "metadata": {
        "id": "ZMAmRW6JWCkJ"
      },
      "source": [
        "## Improve on the basic classifier"
      ]
    },
    {
      "cell_type": "markdown",
      "metadata": {
        "id": "KyKm0x7g9s9K"
      },
      "source": [
        "In the sections above, I showed you how to use a K nearest neighbors classifier to predict the vote of a test sample based on three features: race,  education, and age."
      ]
    },
    {
      "cell_type": "markdown",
      "metadata": {
        "id": "R1p3n_YUWGZY"
      },
      "source": [
        "For this assignment, you will try to improve the performance of your classifier in three ways:\n",
        "\n",
        "* by adding more features\n",
        "* by improving the distance metric\n",
        "* by using feature selection or feature weights\n",
        "\n",
        "You can be creative in selecting your approach to each of these three - there isn't one right answer! But, you'll have to explain and justify your decisions.\n"
      ]
    },
    {
      "cell_type": "markdown",
      "metadata": {
        "id": "yyTHRTlAFI2V"
      },
      "source": [
        "### Use more features\n",
        "\n",
        "First, you will improve the model by additional features that you think may be relevant. \n",
        "\n",
        "But, do *not* use questions that directly ask the participants how they feel about individual candidates, or about their party affiliation or political leaning.\n",
        "\n",
        "Your choices for additional features include:\n",
        "\n",
        "* More demographic information: `INCOME16GEN`, `MARRIED`, `RELIGN10`, `ATTEND16`, `LGBT`, `VETVOTER`, `SEX`\n",
        "* Opinions about political issues and about what factors are most important in determining which candidate to vote for: `TRACK`, `SUPREME16`,  `FINSIT`, `IMMWALL`, `ISIS16`, `LIFE`, `TRADE16`, `HEALTHCARE16`, `GOVTDO10`, `GOVTANGR16`, `QLT16`, `ISSUE16`, `NEC`\n",
        "\n",
        "Refer to the PDF documentation to see the question and the possible answers corresponding to each of these features.  You may also choose to do some exploratory data analysis, to help you understand these features better.\n",
        "\n"
      ]
    },
    {
      "cell_type": "markdown",
      "metadata": {
        "id": "BBmvTCXz_lAH"
      },
      "source": [
        "For your convenience, here are all the possible answers to those survey questions:"
      ]
    },
    {
      "cell_type": "code",
      "metadata": {
        "id": "_RYyVEf9_qNt",
        "colab": {
          "base_uri": "https://localhost:8080/"
        },
        "outputId": "8ccf20a7-c9d3-4b87-b1e5-6a64fcd33bc9"
      },
      "source": [
        "features = ['INCOME16GEN', 'MARRIED', 'RELIGN10', 'ATTEND16', 'LGBT', 'VETVOTER', \n",
        "            'SEX', 'TRACK', 'SUPREME16',  'FINSIT', 'IMMWALL', 'ISIS16', 'LIFE', \n",
        "            'TRADE16', 'HEALTHCARE16', 'GOVTDO10', 'GOVTANGR16', 'QLT16', \n",
        "            'ISSUE16', 'NEC']\n",
        "\n",
        "for f in features:\n",
        "  print(f)\n",
        "  print(df[f].value_counts())\n",
        "  print(\"***************************************************\")"
      ],
      "execution_count": null,
      "outputs": [
        {
          "output_type": "stream",
          "text": [
            "INCOME16GEN\n",
            "$50,000-$99,999      2606\n",
            "$100,000-$199,999    2015\n",
            "$30,000-$49,999      1586\n",
            "Under $30,000        1385\n",
            "$250,000 or more      495\n",
            "$200.000-$249,999     350\n",
            "Name: INCOME16GEN, dtype: int64\n",
            "***************************************************\n",
            "MARRIED\n",
            "Yes    5182\n",
            "No     3611\n",
            "Name: MARRIED, dtype: int64\n",
            "***************************************************\n",
            "RELIGN10\n",
            "Other christian    1996\n",
            "Catholic           1792\n",
            "Protestant         1784\n",
            "None               1137\n",
            "Other               577\n",
            "Jewish              196\n",
            "Mormon              114\n",
            "Muslim               71\n",
            "Name: RELIGN10, dtype: int64\n",
            "***************************************************\n",
            "ATTEND16\n",
            "Once a week or more    1411\n",
            "A few times a year     1206\n",
            "Never                   916\n",
            "A few times a month     697\n",
            "Name: ATTEND16, dtype: int64\n",
            "***************************************************\n",
            "LGBT\n",
            "No     4007\n",
            "Yes     194\n",
            "Name: LGBT, dtype: int64\n",
            "***************************************************\n",
            "VETVOTER\n",
            "No     3673\n",
            "Yes     562\n",
            "Name: VETVOTER, dtype: int64\n",
            "***************************************************\n",
            "TRACK\n",
            "Seriously off on the wrong track          2614\n",
            "Generally going in the right direction    1549\n",
            "Omit                                       156\n",
            "Name: TRACK, dtype: int64\n",
            "***************************************************\n",
            "SUPREME16\n",
            "An important factor          2153\n",
            "The most important factor     971\n",
            "Not a factor at all           607\n",
            "A minor factor                607\n",
            "Omit                          131\n",
            "Name: SUPREME16, dtype: int64\n",
            "***************************************************\n",
            "FINSIT\n",
            "About the same    1716\n",
            "Better today      1427\n",
            "Worse today       1164\n",
            "Omit                58\n",
            "Name: FINSIT, dtype: int64\n",
            "***************************************************\n",
            "IMMWALL\n",
            "Oppose     2400\n",
            "Support    1785\n",
            "Omit        180\n",
            "Name: IMMWALL, dtype: int64\n",
            "***************************************************\n",
            "ISIS16\n",
            "Somewhat well     1633\n",
            "Somewhat badly    1200\n",
            "Very badly        1055\n",
            "Very well          282\n",
            "Omit               195\n",
            "Name: ISIS16, dtype: int64\n",
            "***************************************************\n",
            "LIFE\n",
            "Better than life today    1837\n",
            "Worse than life today     1376\n",
            "About the same            1147\n",
            "Omit                       202\n",
            "Name: LIFE, dtype: int64\n",
            "***************************************************\n",
            "TRADE16\n",
            "Takes away U.S. jobs          1939\n",
            "Creates more U.S. jobs        1818\n",
            "Has no effect on U.S. jobs     471\n",
            "Omit                           334\n",
            "Name: TRADE16, dtype: int64\n",
            "***************************************************\n",
            "HEALTHCARE16\n",
            "Went too far             1995\n",
            "Did not go far enough    1401\n",
            "Was about right           844\n",
            "Omit                      189\n",
            "Name: HEALTHCARE16, dtype: int64\n",
            "***************************************************\n",
            "GOVTDO10\n",
            "Government is doing too many things better left to businesses and individuals    2126\n",
            "Government should do more to solve problems                                      2082\n",
            "Omit                                                                              221\n",
            "Name: GOVTDO10, dtype: int64\n",
            "***************************************************\n",
            "GOVTANGR16\n",
            "Dissatisfied, but not angry        2066\n",
            "Satisfied, but not enthusiastic    1170\n",
            "Angry                               990\n",
            "Enthusiastic                        327\n",
            "Omit                                 81\n",
            "Name: GOVTANGR16, dtype: int64\n",
            "***************************************************\n",
            "QLT16\n",
            "Can bring needed change       3660\n",
            "Has the right experience      2028\n",
            "Has good judgment             1707\n",
            "Cares about people like me    1304\n",
            "Omit                           290\n",
            "Name: QLT16, dtype: int64\n",
            "***************************************************\n",
            "ISSUE16\n",
            "The economy       4832\n",
            "Terrorism         1647\n",
            "Foreign policy    1111\n",
            "Immigration       1051\n",
            "Omit               348\n",
            "Name: ISSUE16, dtype: int64\n",
            "***************************************************\n",
            "NEC\n",
            "Not so good    1881\n",
            "Good           1540\n",
            "Poor            874\n",
            "Excellent       153\n",
            "Omit             56\n",
            "Name: NEC, dtype: int64\n",
            "***************************************************\n"
          ],
          "name": "stdout"
        }
      ]
    },
    {
      "cell_type": "markdown",
      "metadata": {
        "id": "vtZ5-dhhXO7Y"
      },
      "source": [
        "It is up to you to decide which features to include in your model. However, you must include\n",
        "\n",
        "* at least four features that are encoded using an ordinal encoder (and you should include an explicit mapping for these), and \n",
        "* at least four features that are encoded using one-hot encoding.\n",
        "\n",
        "(If you decide to use the features I used above, they do \"count\" as part of the four. For example, you can use age, education, and two additional ordinal-encoded features, and race and three other one-hot-encoded features.)"
      ]
    },
    {
      "cell_type": "markdown",
      "metadata": {
        "id": "0na85xQ2qIMp"
      },
      "source": [
        "#### To Do 1: Encode ordinal features"
      ]
    },
    {
      "cell_type": "markdown",
      "metadata": {
        "id": "XhNksoCEAqy3"
      },
      "source": [
        "In the following cells, prepare your ordinal-encoded features as demonstrated in the \"Encode ordinal features\" section earlier in this notebook. \n",
        "\n",
        "Use at least four features that are encoded using an ordinal encoder. (You can choose which features to include, but they should be features for which the values have a logical ordering that should be preserved in the distance computations!)\n",
        "\n",
        "Make sure to explicitly specify the mappings for these, so that you can be sure that they are encoded using the correct logical order, and use other \"best practices\" described in that section where applicable.\n",
        "\n",
        "Save the ordinal-encoded columnns in a data frame called `df_enc_ord`."
      ]
    },
    {
      "cell_type": "code",
      "metadata": {
        "id": "9-CZPypTCdp8"
      },
      "source": [
        "# TODO 1 - Encode at least four ordinal features"
      ],
      "execution_count": null,
      "outputs": []
    },
    {
      "cell_type": "markdown",
      "metadata": {
        "id": "QGpeloBqB714"
      },
      "source": [
        "Once you are finished processing the ordinal-encoded columns, print the names of the columns, and use `describe` to check the count of each column. Make sure that the range of each column is 0-1. Also make sure that missing values and \"Omit\" values are recorded as NaN."
      ]
    },
    {
      "cell_type": "code",
      "metadata": {
        "id": "rPio9PKHMQ6S"
      },
      "source": [
        "df_enc_ord.columns"
      ],
      "execution_count": null,
      "outputs": []
    },
    {
      "cell_type": "code",
      "metadata": {
        "id": "cYdhWA2IBVc5"
      },
      "source": [
        "df_enc_ord.describe(include='all')"
      ],
      "execution_count": null,
      "outputs": []
    },
    {
      "cell_type": "markdown",
      "metadata": {
        "id": "JsfHdOuGqcBs"
      },
      "source": [
        "#### To Do 2: Encode categorical features\n",
        "\n"
      ]
    },
    {
      "cell_type": "markdown",
      "metadata": {
        "id": "fuJHHlmvDGqe"
      },
      "source": [
        "In the following cells, prepare the features that should be one-hot encoded, as demonstrated in the \"Encode categorical features\" section earlier in this notebook.  Make sure to use any \"best practices\" described in that section where applicable.\n",
        "\n",
        "Use at least four features that are encoded using a one-hot encoder. (You can choose which features to include, but they should be features for which the values have *no* logical ordering.)\n",
        "\n",
        "Save the ordinal-encoded columnns in `df_enc_oh`."
      ]
    },
    {
      "cell_type": "code",
      "metadata": {
        "id": "N_V1qh-TDS7t"
      },
      "source": [
        "# TODO 2 - encode at least four one-hot-encoded features"
      ],
      "execution_count": null,
      "outputs": []
    },
    {
      "cell_type": "markdown",
      "metadata": {
        "id": "i0oJRi8UDVqI"
      },
      "source": [
        "Print the columns of your one-hot encoded features. Make sure you have dropped the columns corresponding with NaN and \"Omit\" in the title, which should not be included in the distance computations. (You should already represent NaNs directly in the data.)"
      ]
    },
    {
      "cell_type": "code",
      "metadata": {
        "id": "F5ZUyvOvsmxC"
      },
      "source": [
        "df_enc_oh.columns"
      ],
      "execution_count": null,
      "outputs": []
    },
    {
      "cell_type": "code",
      "metadata": {
        "id": "o4b2ympDobv2"
      },
      "source": [
        "df_enc_oh.describe(include='all')"
      ],
      "execution_count": null,
      "outputs": []
    },
    {
      "cell_type": "markdown",
      "metadata": {
        "id": "gUVH_Kh5uyp7"
      },
      "source": [
        "#### Create a combined data matrix"
      ]
    },
    {
      "cell_type": "code",
      "metadata": {
        "id": "-R5jOg61u4I0"
      },
      "source": [
        "X = pd.concat([df_enc_oh, df_enc_ord], axis=1)"
      ],
      "execution_count": null,
      "outputs": []
    },
    {
      "cell_type": "code",
      "metadata": {
        "id": "Xeuuo2wfvVuI"
      },
      "source": [
        "X.describe(include='all')"
      ],
      "execution_count": null,
      "outputs": []
    },
    {
      "cell_type": "markdown",
      "metadata": {
        "id": "fk5jypcNSIbg"
      },
      "source": [
        "#### To Do 3: Describe your choice of features\n"
      ]
    },
    {
      "cell_type": "markdown",
      "metadata": {
        "id": "vZhgXG2PSVfU"
      },
      "source": [
        "In a text cell, explain the features you have chosen to add to the model. \n",
        "\n",
        "* Why did you select this particular set of features? \n",
        "* Do you have reason to believe these specific features will be predictive of 2016 presidential vote? Explain.\n",
        "* Do you think these features will give you good \"coverage\" across the respondents? (For example, do you have at least one feature from each version of the survey?)"
      ]
    },
    {
      "cell_type": "markdown",
      "metadata": {
        "id": "muEgcA5PFQJR"
      },
      "source": [
        "### Design a custom distance metric\n",
        "\n",
        "Next, you should improve on the basic distance metric we used above. You can design any distance metric you think is appropriate (there is no one right answer to this question)!, but it must meet these criteria:\n",
        "\n",
        "* it should handle NaN values in a reasonable way. Remember that a NaN does not mean two samples are *different* with respect to a feature; it means you don't have any information about whether they agree or disagree.\n",
        "* samples should be considered closer if they have more features in common (assuming the same number of features that disagree).\n",
        "* **optional**: you may decide that in some cases, samples with many features in common but a few small disagreements, should be considered closer than samples with few features in common but no disagreements.\n"
      ]
    },
    {
      "cell_type": "markdown",
      "metadata": {
        "id": "53-SNWf8TQZK"
      },
      "source": [
        "![](https://raw.githubusercontent.com/ffund/ml-notebooks/master/notebooks/images/exit-poll-nan-distance.png)"
      ]
    },
    {
      "cell_type": "markdown",
      "metadata": {
        "id": "jjqPR0sEm4hx"
      },
      "source": [
        "For example, consider the image above, with a test sample (with bold outline) and three training samples. Red squares indicate missing values.\n",
        "\n",
        "Training sample $x_1$ and training sample $x_2$ both have no disagreements with the test sample $x_t$. According to our basic L1 distance metric, they should both have 0 distance. However, in your modified metric, training sample $x_2$ should be considered closer to the test sample $x_t$, because it has more features in common.\n",
        "\n",
        "Training sample $x_3$ has many features in common with the test sample $x_t$, but also one disagreement. You can decide which should be considered a closer neighbor of $x_t$: $x_1$ or $x_3$. But, you should explain your choice and justify your decision in the explanation."
      ]
    },
    {
      "cell_type": "markdown",
      "metadata": {
        "id": "zj9nJ7dvTwvo"
      },
      "source": [
        "#### To Do 4: Implement a custom distance metric"
      ]
    },
    {
      "cell_type": "code",
      "metadata": {
        "id": "QFMjeGd_F-dw"
      },
      "source": [
        "# TODO 4 - implement distance metric\n",
        "\n",
        "def custom_distance(a, b):\n",
        "  # fill in your solution here!\n",
        "  # you are encouraged to use efficient numpy functions to construct your distance metric\n",
        "  # refer to numpy documentation\n",
        "  return np.zeros(len(a))"
      ],
      "execution_count": null,
      "outputs": []
    },
    {
      "cell_type": "markdown",
      "metadata": {
        "id": "iR-YnqYrT3fg"
      },
      "source": [
        "#### To Do 5: Describe your distance metric and justify your design choices"
      ]
    },
    {
      "cell_type": "markdown",
      "metadata": {
        "id": "A9BZSi25GDyY"
      },
      "source": [
        "Describe your distance metric. First, write down an exact expression for \n",
        "\n",
        "$$d(a, b) $$\n",
        "\n",
        "Explain *why* you chose this function, and how it satisfies the criteria above."
      ]
    },
    {
      "cell_type": "markdown",
      "metadata": {
        "id": "zHo-PmFeUA4b"
      },
      "source": [
        "Use several *specific examples* from the data to show how your distance function produces more meaningful distances than the previous \"naive\" distance metric. Compare and contrast the previous \"naive\" distance metric and your new distance metric on these examples."
      ]
    },
    {
      "cell_type": "markdown",
      "metadata": {
        "id": "-SVxx-qipMYQ"
      },
      "source": [
        "### Use feature selection or feature weights for better performance"
      ]
    },
    {
      "cell_type": "markdown",
      "metadata": {
        "id": "cCznVrkkpipz"
      },
      "source": [
        "Because the K nearest neighbor classifier weights each feature equally in the distance metric, including features that are not relevant for predicting the target variable can actually make performance worse.\n",
        "\n",
        "To improve performance, you could either:\n",
        "\n",
        "* use a subset of features that are most important, or\n",
        "* use feature weights, so that more important features are scaled up and less important features are scaled down."
      ]
    },
    {
      "cell_type": "markdown",
      "metadata": {
        "id": "HokrElXCqCp6"
      },
      "source": [
        "Feature selection has another added benefit - if you use fewer features, than you also get a faster inference time.\n",
        "\n",
        "There are a few general approaches to feature selection:\n",
        "\n",
        "* **Wrapper methods** use the ML model on the data, and  select relevant features based the model performance. (For example, we might train a linear regression on different combinations of features, and then select the one that has the best performance on a validation set.)\n",
        "* **Filter methods** use statistical characteristics of the data to select the features that are more useful for predicting the target variable. (For example, we might select the features that have the highest correlation with the target variable.)\n",
        "* **Embedded methods** do feature selection \"automatically\" as part of the model training. (LASSO is an example of this type of feature selection.)"
      ]
    },
    {
      "cell_type": "markdown",
      "metadata": {
        "id": "SQWol8UUqLU2"
      },
      "source": [
        "We also need to decide whether we want to take the dependencies between features into account, or not.\n",
        "\n",
        "With **univariate feature selection**, we consider each feature independently. For example, we might score each feature according to its correlation with the target variable, then pick the features with the highest scores. \n",
        "\n",
        "The problem with univariate feature selection is that some features may carry redundant information. In that case, we don't gain much from having both features in our model, but both will have similar scores.\n",
        "\n",
        "As an alternative to univariate feature selection, we might consider **greedy feature selection**, where we start with a small number of features and then add features one at a time:\n",
        "\n",
        "* Let $S^{t-1}$ be the set of selected features at time ${t-1}$.\n",
        "* Compute the score for all combinations of the current set of features + one more feature\n",
        "* For the next time step $S^t$, add the feature that gave you the best score.\n",
        "* Stop when you have added all features, or if adding another feature decreases the score."
      ]
    },
    {
      "cell_type": "markdown",
      "metadata": {
        "id": "i02hF_9YrTxW"
      },
      "source": [
        "Feature weighting does not have the benefit of faster inference time, but it does have the advantage of not throwing out useful information.\n",
        "\n",
        "As with feature selection, there are both wrapper methods and filter methods, but filter methods tend to be much easier to compute."
      ]
    },
    {
      "cell_type": "markdown",
      "metadata": {
        "id": "9glmGS3TUh8A"
      },
      "source": [
        "There are many options for feature selection or feature weighting, and you can choose anything that seems reasonable to you - there isn't one right answer here! But, you will have to explain and justify your choice. For full credit, your design decisions should be well supported by the data."
      ]
    },
    {
      "cell_type": "markdown",
      "metadata": {
        "id": "sEYN4ZgmUzsT"
      },
      "source": [
        "#### To Do 6: Implement feature selection or feature weighting"
      ]
    },
    {
      "cell_type": "code",
      "metadata": {
        "id": "lIxvj-GlKDIg"
      },
      "source": [
        "# TODO 6 - use either feature selection or feature weighting. \n",
        "# save the result in X_trans. \n",
        "# For the rest of this notebook, you will use X_trans instead of X\n",
        "# X_trans = "
      ],
      "execution_count": null,
      "outputs": []
    },
    {
      "cell_type": "markdown",
      "metadata": {
        "id": "RnvJ-w4yVDUR"
      },
      "source": [
        "Show your new, transformed, feature matrix:"
      ]
    },
    {
      "cell_type": "code",
      "metadata": {
        "id": "sVR-nF_rMMjT"
      },
      "source": [
        "X_trans.describe(include='all')"
      ],
      "execution_count": null,
      "outputs": []
    },
    {
      "cell_type": "markdown",
      "metadata": {
        "id": "vHB07wH_VRjN"
      },
      "source": [
        "#### To Do 7: Describe your feature selection/weighting and justify your design choices\n",
        "\n",
        "Explain your approach to feature selection or feature weighting. What did you do in this section? Why do you think this was a good choice for this problem? \n",
        "\n",
        "For full credit, you must show that your design decisions are supported by the data.\n",
        "\n",
        "Were the results of the feature selection of feature weighting procedure surprising or unexpected in any way?\n",
        "\n"
      ]
    },
    {
      "cell_type": "markdown",
      "metadata": {
        "id": "talt8NioGR7A"
      },
      "source": [
        "###  Evaluate your final classifier"
      ]
    },
    {
      "cell_type": "markdown",
      "metadata": {
        "id": "W9DGxKopEMT7"
      },
      "source": [
        "Finally, train a K nearest neighbors classifier, using the approach shown earlier in this notebook, but with:\n",
        "\n",
        "* your custom distance metric\n",
        "* your feature matrix with additional ordinal-encoded and one-hot-encoded features, and the results of your feature selection or feature weighting\n",
        "\n"
      ]
    },
    {
      "cell_type": "markdown",
      "metadata": {
        "id": "dOw-lYb4OzE7"
      },
      "source": [
        "#### To Do 8: Select K (number of neighbors) for your final classifier"
      ]
    },
    {
      "cell_type": "markdown",
      "metadata": {
        "id": "fgWN23b-O2JN"
      },
      "source": [
        "Once you have made your other design choices, you need to choose the value of K (the number of neighbors. \n",
        "\n",
        "For full credit, use cross validation to select K, and plot the mean validation accuracy for each candidate model.\n",
        "\n",
        "If you can't use cross validation, you will get partial credit for selecting a reasonable value and justifying your choice. \n",
        "\n",
        "Make sure *not* to use your test set to determine the best K, since this is part of the training process."
      ]
    },
    {
      "cell_type": "code",
      "metadata": {
        "id": "GXR7caE-LEY4"
      },
      "source": [
        "# TODO 8 - select the number of neighbors"
      ],
      "execution_count": null,
      "outputs": []
    },
    {
      "cell_type": "markdown",
      "metadata": {
        "id": "jweWxLPhOr2r"
      },
      "source": [
        "#### To Do 9: Evaluate your final classifier on the test set"
      ]
    },
    {
      "cell_type": "markdown",
      "metadata": {
        "id": "D4LfbHRpEp__"
      },
      "source": [
        "Finally, evaluate the classifier accuracy on the test set. Print the test accuracy. Are you able to achieve at least 80% accuracy?"
      ]
    },
    {
      "cell_type": "code",
      "metadata": {
        "id": "xpD1mhQuWFTP"
      },
      "source": [
        "# TODO 9 - Evaluate on test set"
      ],
      "execution_count": null,
      "outputs": []
    },
    {
      "cell_type": "markdown",
      "metadata": {
        "id": "pOYJTSOVWrnp"
      },
      "source": [
        "### To Do 10: Discussion\n",
        "\n",
        "Discuss the final classifier you developed. Does it perform well? Do you have ideas that you think could make it better? Do you think other models we studied, such as a logistic regression classifier, would be a better choice for this task?\n",
        "\n",
        "Look at some specific examples where your model does poorly. Do you notice any systematic problems?\n",
        "\n",
        "In the examples where the model does not predict the correct 2016 vote, is it because the test sample has a different vote than training samples that are generally very similar? Or is it because the nearest neighbors are not really very similar to the test sample? Show specific examples to support your answer."
      ]
    }
  ]
}